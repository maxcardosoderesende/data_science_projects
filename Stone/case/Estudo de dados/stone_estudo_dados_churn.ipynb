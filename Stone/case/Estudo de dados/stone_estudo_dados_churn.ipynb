{
 "cells": [
  {
   "cell_type": "markdown",
   "metadata": {},
   "source": [
    "# Stone -  Estudo de dados - Churn\n",
    "\n",
    "1. Uma métrica importante para acompanhamento na indústria de meios de\n",
    "pagamento é o churn da base de clientes. \n",
    "\n",
    "* Tipicamente, a taxa de churn é\n",
    "calculada: \n",
    "  * Razão entre a quantidade de clientes sem transacionar em um\n",
    "determinado mês (mas ativos no mês anterior) e a quantidade total de clientes\n",
    "que estavam ativos (i.e. transacionando) no mês anterior. \n",
    "\n",
    "* Considerando a definição de churn acima, crie uma variável indicadora churn para identificar se o\n",
    "cliente está ativo ( churn = 0 ) ou deu churn ( churn = 1 ) em cada datee:\n",
    "  1. crie um plot com a evolução da taxa de churn da companhia e por tier ao longo do tempo.\n",
    "  2. Quais insights você destacaria para as lideranças da companhia?\n"
   ]
  },
  {
   "cell_type": "code",
   "execution_count": 39,
   "metadata": {},
   "outputs": [],
   "source": [
    "import pandas as pd\n",
    "import numpy as np\n",
    "import statsmodels.api as sm\n",
    "from statsmodels.tsa.seasonal import seasonal_decompose\n",
    "\n",
    "# Plot histagrans\n",
    "import matplotlib.pyplot as plt\n",
    "from matplotlib.ticker import PercentFormatter\n",
    "\n",
    "import plotly.graph_objects as go\n",
    "import plotly.subplots as sp\n",
    "import seaborn as sns\n",
    "import plotly.express as px\n",
    "\n",
    "# Supressing warnings\n",
    "import warnings\n",
    "\n",
    "warnings.filterwarnings(\"ignore\")"
   ]
  },
  {
   "cell_type": "code",
   "execution_count": 2,
   "metadata": {},
   "outputs": [],
   "source": [
    "pd.options.display.float_format = \"{:.2f}\".format"
   ]
  },
  {
   "cell_type": "markdown",
   "metadata": {},
   "source": [
    "## Base Clients"
   ]
  },
  {
   "cell_type": "code",
   "execution_count": 4,
   "metadata": {},
   "outputs": [
    {
     "data": {
      "text/plain": [
       "(19952, 4)"
      ]
     },
     "execution_count": 4,
     "metadata": {},
     "output_type": "execute_result"
    }
   ],
   "source": [
    "clients_df = \"./data/Estudo de dados/Clients.csv\"\n",
    "clients_df = pd.read_csv(clients_df)\n",
    "\n",
    "clients_df = clients_df.dropna(subset=[\"segment\"])\n",
    "clients_df.shape"
   ]
  },
  {
   "cell_type": "markdown",
   "metadata": {},
   "source": [
    "### Métrica de total de tempo de cadastro na base"
   ]
  },
  {
   "cell_type": "code",
   "execution_count": 6,
   "metadata": {},
   "outputs": [
    {
     "data": {
      "text/html": [
       "<div>\n",
       "<style scoped>\n",
       "    .dataframe tbody tr th:only-of-type {\n",
       "        vertical-align: middle;\n",
       "    }\n",
       "\n",
       "    .dataframe tbody tr th {\n",
       "        vertical-align: top;\n",
       "    }\n",
       "\n",
       "    .dataframe thead th {\n",
       "        text-align: right;\n",
       "    }\n",
       "</style>\n",
       "<table border=\"1\" class=\"dataframe\">\n",
       "  <thead>\n",
       "    <tr style=\"text-align: right;\">\n",
       "      <th></th>\n",
       "      <th>client</th>\n",
       "      <th>segment</th>\n",
       "      <th>idade</th>\n",
       "    </tr>\n",
       "  </thead>\n",
       "  <tbody>\n",
       "    <tr>\n",
       "      <th>0</th>\n",
       "      <td>1</td>\n",
       "      <td>N</td>\n",
       "      <td>2</td>\n",
       "    </tr>\n",
       "    <tr>\n",
       "      <th>1</th>\n",
       "      <td>2</td>\n",
       "      <td>B</td>\n",
       "      <td>16</td>\n",
       "    </tr>\n",
       "    <tr>\n",
       "      <th>2</th>\n",
       "      <td>3</td>\n",
       "      <td>B</td>\n",
       "      <td>17</td>\n",
       "    </tr>\n",
       "    <tr>\n",
       "      <th>3</th>\n",
       "      <td>4</td>\n",
       "      <td>I</td>\n",
       "      <td>41</td>\n",
       "    </tr>\n",
       "    <tr>\n",
       "      <th>4</th>\n",
       "      <td>5</td>\n",
       "      <td>F</td>\n",
       "      <td>50</td>\n",
       "    </tr>\n",
       "    <tr>\n",
       "      <th>...</th>\n",
       "      <td>...</td>\n",
       "      <td>...</td>\n",
       "      <td>...</td>\n",
       "    </tr>\n",
       "    <tr>\n",
       "      <th>19995</th>\n",
       "      <td>19996</td>\n",
       "      <td>N</td>\n",
       "      <td>47</td>\n",
       "    </tr>\n",
       "    <tr>\n",
       "      <th>19996</th>\n",
       "      <td>19997</td>\n",
       "      <td>N</td>\n",
       "      <td>18</td>\n",
       "    </tr>\n",
       "    <tr>\n",
       "      <th>19997</th>\n",
       "      <td>19998</td>\n",
       "      <td>B</td>\n",
       "      <td>39</td>\n",
       "    </tr>\n",
       "    <tr>\n",
       "      <th>19998</th>\n",
       "      <td>19999</td>\n",
       "      <td>B</td>\n",
       "      <td>14</td>\n",
       "    </tr>\n",
       "    <tr>\n",
       "      <th>19999</th>\n",
       "      <td>20000</td>\n",
       "      <td>M</td>\n",
       "      <td>13</td>\n",
       "    </tr>\n",
       "  </tbody>\n",
       "</table>\n",
       "<p>19952 rows × 3 columns</p>\n",
       "</div>"
      ],
      "text/plain": [
       "       client segment  idade\n",
       "0           1       N      2\n",
       "1           2       B     16\n",
       "2           3       B     17\n",
       "3           4       I     41\n",
       "4           5       F     50\n",
       "...       ...     ...    ...\n",
       "19995   19996       N     47\n",
       "19996   19997       N     18\n",
       "19997   19998       B     39\n",
       "19998   19999       B     14\n",
       "19999   20000       M     13\n",
       "\n",
       "[19952 rows x 3 columns]"
      ]
     },
     "execution_count": 6,
     "metadata": {},
     "output_type": "execute_result"
    }
   ],
   "source": [
    "clients_df[\"created_at\"] = pd.to_datetime(clients_df[\"created_at\"])\n",
    "\n",
    "# tempo de cadastro em meses\n",
    "clients_df[\"idade\"] = (\n",
    "    (clients_df[\"created_at\"].max() - clients_df[\"created_at\"]).dt.days\n",
    ") // 30\n",
    "\n",
    "clients_df_2 = clients_df[[\"client\", \"segment\", \"idade\"]]\n",
    "clients_df_2"
   ]
  },
  {
   "cell_type": "markdown",
   "metadata": {},
   "source": [
    "## Tabela transactions"
   ]
  },
  {
   "cell_type": "code",
   "execution_count": 7,
   "metadata": {},
   "outputs": [
    {
     "data": {
      "text/plain": [
       "(187230, 4)"
      ]
     },
     "execution_count": 7,
     "metadata": {},
     "output_type": "execute_result"
    }
   ],
   "source": [
    "transactions_df_original = \"./data/Estudo de dados/Transactions.csv\"\n",
    "transactions_df_original = pd.read_csv(transactions_df_original)\n",
    "\n",
    "transactions_df_original[\"date\"] = pd.to_datetime(\n",
    "    transactions_df_original[\"date\"]\n",
    ").dt.date\n",
    "\n",
    "transactions_df_original = transactions_df_original.sort_values(by=[\"date\", \"client\"])\n",
    "transactions_df_original.shape"
   ]
  },
  {
   "cell_type": "code",
   "execution_count": 8,
   "metadata": {},
   "outputs": [
    {
     "name": "stdout",
     "output_type": "stream",
     "text": [
      "Total de clientes: 19952\n"
     ]
    },
    {
     "data": {
      "text/plain": [
       "(186716, 6)"
      ]
     },
     "execution_count": 8,
     "metadata": {},
     "output_type": "execute_result"
    }
   ],
   "source": [
    "### Combinar com informações de clientes\n",
    "transactions_df_original = pd.merge(\n",
    "    transactions_df_original, clients_df_2, on=\"client\", how=\"inner\"\n",
    ")\n",
    "\n",
    "total_clientes = transactions_df_original[\"client\"].nunique()\n",
    "print(\"Total de clientes:\", total_clientes)\n",
    "transactions_df_original.shape"
   ]
  },
  {
   "cell_type": "markdown",
   "metadata": {},
   "source": [
    "### Avaliar possiveis problemas na base de dados"
   ]
  },
  {
   "cell_type": "code",
   "execution_count": 442,
   "metadata": {},
   "outputs": [
    {
     "data": {
      "text/html": [
       "<div>\n",
       "<style scoped>\n",
       "    .dataframe tbody tr th:only-of-type {\n",
       "        vertical-align: middle;\n",
       "    }\n",
       "\n",
       "    .dataframe tbody tr th {\n",
       "        vertical-align: top;\n",
       "    }\n",
       "\n",
       "    .dataframe thead th {\n",
       "        text-align: right;\n",
       "    }\n",
       "</style>\n",
       "<table border=\"1\" class=\"dataframe\">\n",
       "  <thead>\n",
       "    <tr style=\"text-align: right;\">\n",
       "      <th></th>\n",
       "      <th>client</th>\n",
       "      <th>sales_volume</th>\n",
       "      <th>sales_count</th>\n",
       "      <th>idade</th>\n",
       "    </tr>\n",
       "  </thead>\n",
       "  <tbody>\n",
       "    <tr>\n",
       "      <th>count</th>\n",
       "      <td>186716.00</td>\n",
       "      <td>186716.00</td>\n",
       "      <td>186716.00</td>\n",
       "      <td>186716.00</td>\n",
       "    </tr>\n",
       "    <tr>\n",
       "      <th>mean</th>\n",
       "      <td>9662.47</td>\n",
       "      <td>10484.76</td>\n",
       "      <td>157.29</td>\n",
       "      <td>26.01</td>\n",
       "    </tr>\n",
       "    <tr>\n",
       "      <th>std</th>\n",
       "      <td>5606.71</td>\n",
       "      <td>32593.71</td>\n",
       "      <td>472.45</td>\n",
       "      <td>14.93</td>\n",
       "    </tr>\n",
       "    <tr>\n",
       "      <th>min</th>\n",
       "      <td>1.00</td>\n",
       "      <td>-151381.32</td>\n",
       "      <td>0.00</td>\n",
       "      <td>0.00</td>\n",
       "    </tr>\n",
       "    <tr>\n",
       "      <th>25%</th>\n",
       "      <td>4989.75</td>\n",
       "      <td>1125.00</td>\n",
       "      <td>6.00</td>\n",
       "      <td>15.00</td>\n",
       "    </tr>\n",
       "    <tr>\n",
       "      <th>50%</th>\n",
       "      <td>9446.50</td>\n",
       "      <td>3913.97</td>\n",
       "      <td>33.00</td>\n",
       "      <td>23.00</td>\n",
       "    </tr>\n",
       "    <tr>\n",
       "      <th>75%</th>\n",
       "      <td>14231.00</td>\n",
       "      <td>10242.56</td>\n",
       "      <td>138.00</td>\n",
       "      <td>35.00</td>\n",
       "    </tr>\n",
       "    <tr>\n",
       "      <th>max</th>\n",
       "      <td>20000.00</td>\n",
       "      <td>4185543.61</td>\n",
       "      <td>37524.00</td>\n",
       "      <td>101.00</td>\n",
       "    </tr>\n",
       "  </tbody>\n",
       "</table>\n",
       "</div>"
      ],
      "text/plain": [
       "         client  sales_volume  sales_count     idade\n",
       "count 186716.00     186716.00    186716.00 186716.00\n",
       "mean    9662.47      10484.76       157.29     26.01\n",
       "std     5606.71      32593.71       472.45     14.93\n",
       "min        1.00    -151381.32         0.00      0.00\n",
       "25%     4989.75       1125.00         6.00     15.00\n",
       "50%     9446.50       3913.97        33.00     23.00\n",
       "75%    14231.00      10242.56       138.00     35.00\n",
       "max    20000.00    4185543.61     37524.00    101.00"
      ]
     },
     "execution_count": 442,
     "metadata": {},
     "output_type": "execute_result"
    }
   ],
   "source": [
    "transactions_df_original.describe()"
   ]
  },
  {
   "cell_type": "markdown",
   "metadata": {},
   "source": [
    "* As estatísticas descritivas mostram discrepâncias relevantes em sales_volume e sales_count, o que indica a necessidade de ajustes seja por regras de negócio ou remoção de outliers.\n",
    "  * Variância muito grande gera viés tanto para clusterização qunato para churn.\n",
    "\n",
    "### Ajustes necesários\n",
    "\n",
    "* verificar missing\n",
    "* Sales_volume negativo -> Erro, estorno?\n",
    "* 0 < Sales_volume < 1.40 -> cusgto mensal maquina TOM  Ton Super: 12x de R$ 1,40;\n",
    "* sales_count = 0 -> como tem registro se nada foi vendido?\n",
    "* Outliers (super clientes): media + 2 std = 80k;\n",
    "* Excluir clientes cadastrados no último mês."
   ]
  },
  {
   "cell_type": "markdown",
   "metadata": {},
   "source": [
    "#### Excluir clientes cadastrados no último mês (idade = 0)\n",
    "\n",
    "Esses não tem métrica de churn "
   ]
  },
  {
   "cell_type": "code",
   "execution_count": 12,
   "metadata": {},
   "outputs": [
    {
     "name": "stdout",
     "output_type": "stream",
     "text": [
      "Total de clientes: 19679\n"
     ]
    }
   ],
   "source": [
    "transactions_df = transactions_df_original.copy()\n",
    "transactions_df = transactions_df[transactions_df[\"idade\"] > 0]\n",
    "\n",
    "total_clientes = transactions_df[\"client\"].nunique()\n",
    "print(\"Total de clientes:\", total_clientes)"
   ]
  },
  {
   "cell_type": "markdown",
   "metadata": {},
   "source": [
    "#### Excluir transacoes com contagem = 0"
   ]
  },
  {
   "cell_type": "code",
   "execution_count": 14,
   "metadata": {},
   "outputs": [
    {
     "name": "stdout",
     "output_type": "stream",
     "text": [
      "Total de clientes: 19671\n"
     ]
    }
   ],
   "source": [
    "transactions_df = transactions_df[transactions_df[\"sales_count\"] > 0]\n",
    "total_clientes = transactions_df[\"client\"].nunique()\n",
    "print(\"Total de clientes:\", total_clientes)"
   ]
  },
  {
   "cell_type": "markdown",
   "metadata": {},
   "source": [
    "#### Excluir receitas negativas"
   ]
  },
  {
   "cell_type": "code",
   "execution_count": 15,
   "metadata": {},
   "outputs": [
    {
     "data": {
      "text/html": [
       "<div>\n",
       "<style scoped>\n",
       "    .dataframe tbody tr th:only-of-type {\n",
       "        vertical-align: middle;\n",
       "    }\n",
       "\n",
       "    .dataframe tbody tr th {\n",
       "        vertical-align: top;\n",
       "    }\n",
       "\n",
       "    .dataframe thead th {\n",
       "        text-align: right;\n",
       "    }\n",
       "</style>\n",
       "<table border=\"1\" class=\"dataframe\">\n",
       "  <thead>\n",
       "    <tr style=\"text-align: right;\">\n",
       "      <th></th>\n",
       "      <th>client</th>\n",
       "      <th>sales_volume</th>\n",
       "      <th>sales_count</th>\n",
       "      <th>idade</th>\n",
       "    </tr>\n",
       "  </thead>\n",
       "  <tbody>\n",
       "    <tr>\n",
       "      <th>count</th>\n",
       "      <td>185728.00</td>\n",
       "      <td>185728.00</td>\n",
       "      <td>185728.00</td>\n",
       "      <td>185728.00</td>\n",
       "    </tr>\n",
       "    <tr>\n",
       "      <th>mean</th>\n",
       "      <td>9657.70</td>\n",
       "      <td>10529.85</td>\n",
       "      <td>157.85</td>\n",
       "      <td>26.08</td>\n",
       "    </tr>\n",
       "    <tr>\n",
       "      <th>std</th>\n",
       "      <td>5604.06</td>\n",
       "      <td>32633.47</td>\n",
       "      <td>469.52</td>\n",
       "      <td>14.91</td>\n",
       "    </tr>\n",
       "    <tr>\n",
       "      <th>min</th>\n",
       "      <td>1.00</td>\n",
       "      <td>0.01</td>\n",
       "      <td>1.00</td>\n",
       "      <td>1.00</td>\n",
       "    </tr>\n",
       "    <tr>\n",
       "      <th>25%</th>\n",
       "      <td>4990.00</td>\n",
       "      <td>1148.87</td>\n",
       "      <td>7.00</td>\n",
       "      <td>15.00</td>\n",
       "    </tr>\n",
       "    <tr>\n",
       "      <th>50%</th>\n",
       "      <td>9438.00</td>\n",
       "      <td>3944.98</td>\n",
       "      <td>34.00</td>\n",
       "      <td>23.00</td>\n",
       "    </tr>\n",
       "    <tr>\n",
       "      <th>75%</th>\n",
       "      <td>14222.00</td>\n",
       "      <td>10287.99</td>\n",
       "      <td>139.00</td>\n",
       "      <td>35.00</td>\n",
       "    </tr>\n",
       "    <tr>\n",
       "      <th>max</th>\n",
       "      <td>20000.00</td>\n",
       "      <td>4185543.61</td>\n",
       "      <td>37524.00</td>\n",
       "      <td>101.00</td>\n",
       "    </tr>\n",
       "  </tbody>\n",
       "</table>\n",
       "</div>"
      ],
      "text/plain": [
       "         client  sales_volume  sales_count     idade\n",
       "count 185728.00     185728.00    185728.00 185728.00\n",
       "mean    9657.70      10529.85       157.85     26.08\n",
       "std     5604.06      32633.47       469.52     14.91\n",
       "min        1.00          0.01         1.00      1.00\n",
       "25%     4990.00       1148.87         7.00     15.00\n",
       "50%     9438.00       3944.98        34.00     23.00\n",
       "75%    14222.00      10287.99       139.00     35.00\n",
       "max    20000.00    4185543.61     37524.00    101.00"
      ]
     },
     "execution_count": 15,
     "metadata": {},
     "output_type": "execute_result"
    }
   ],
   "source": [
    "transactions_df = transactions_df.query(\"sales_volume > 0\")\n",
    "transactions_df.describe()"
   ]
  },
  {
   "cell_type": "markdown",
   "metadata": {},
   "source": [
    "## Churn"
   ]
  },
  {
   "cell_type": "code",
   "execution_count": 16,
   "metadata": {},
   "outputs": [],
   "source": [
    "transactions_df.sort_values(by=[\"date\"], inplace=True)\n",
    "\n",
    "churn_df = transactions_df[[\"client\", \"segment\", \"date\", \"sales_volume\"]]"
   ]
  },
  {
   "cell_type": "markdown",
   "metadata": {},
   "source": [
    "Nesse exercício, eu nao preciso me preocupar em clusterizar e nem tratar dados outliers. Ambas tarefas foram avaliads no primeiro exercício de estudo de dados.\n",
    "\n",
    "#### Trazer a informação de cluster por cliente"
   ]
  },
  {
   "cell_type": "code",
   "execution_count": 17,
   "metadata": {},
   "outputs": [
    {
     "data": {
      "text/html": [
       "<div>\n",
       "<style scoped>\n",
       "    .dataframe tbody tr th:only-of-type {\n",
       "        vertical-align: middle;\n",
       "    }\n",
       "\n",
       "    .dataframe tbody tr th {\n",
       "        vertical-align: top;\n",
       "    }\n",
       "\n",
       "    .dataframe thead th {\n",
       "        text-align: right;\n",
       "    }\n",
       "</style>\n",
       "<table border=\"1\" class=\"dataframe\">\n",
       "  <thead>\n",
       "    <tr style=\"text-align: right;\">\n",
       "      <th></th>\n",
       "      <th>client</th>\n",
       "      <th>segment</th>\n",
       "      <th>date</th>\n",
       "      <th>sales_volume</th>\n",
       "      <th>tier</th>\n",
       "    </tr>\n",
       "  </thead>\n",
       "  <tbody>\n",
       "    <tr>\n",
       "      <th>0</th>\n",
       "      <td>4</td>\n",
       "      <td>I</td>\n",
       "      <td>2021-01-01</td>\n",
       "      <td>10167.17</td>\n",
       "      <td>9K-71K</td>\n",
       "    </tr>\n",
       "    <tr>\n",
       "      <th>1</th>\n",
       "      <td>4</td>\n",
       "      <td>I</td>\n",
       "      <td>2021-02-01</td>\n",
       "      <td>9920.42</td>\n",
       "      <td>9K-71K</td>\n",
       "    </tr>\n",
       "    <tr>\n",
       "      <th>2</th>\n",
       "      <td>4</td>\n",
       "      <td>I</td>\n",
       "      <td>2021-03-01</td>\n",
       "      <td>7696.05</td>\n",
       "      <td>9K-71K</td>\n",
       "    </tr>\n",
       "    <tr>\n",
       "      <th>3</th>\n",
       "      <td>4</td>\n",
       "      <td>I</td>\n",
       "      <td>2021-04-01</td>\n",
       "      <td>9584.33</td>\n",
       "      <td>9K-71K</td>\n",
       "    </tr>\n",
       "    <tr>\n",
       "      <th>4</th>\n",
       "      <td>4</td>\n",
       "      <td>I</td>\n",
       "      <td>2021-05-01</td>\n",
       "      <td>12637.89</td>\n",
       "      <td>9K-71K</td>\n",
       "    </tr>\n",
       "    <tr>\n",
       "      <th>...</th>\n",
       "      <td>...</td>\n",
       "      <td>...</td>\n",
       "      <td>...</td>\n",
       "      <td>...</td>\n",
       "      <td>...</td>\n",
       "    </tr>\n",
       "    <tr>\n",
       "      <th>185723</th>\n",
       "      <td>17961</td>\n",
       "      <td>K</td>\n",
       "      <td>2022-12-01</td>\n",
       "      <td>3425.55</td>\n",
       "      <td>2K-4K</td>\n",
       "    </tr>\n",
       "    <tr>\n",
       "      <th>185724</th>\n",
       "      <td>6140</td>\n",
       "      <td>I</td>\n",
       "      <td>2022-12-01</td>\n",
       "      <td>10.00</td>\n",
       "      <td>1.50-500</td>\n",
       "    </tr>\n",
       "    <tr>\n",
       "      <th>185725</th>\n",
       "      <td>19378</td>\n",
       "      <td>I</td>\n",
       "      <td>2022-12-01</td>\n",
       "      <td>1552.50</td>\n",
       "      <td>500-2K</td>\n",
       "    </tr>\n",
       "    <tr>\n",
       "      <th>185726</th>\n",
       "      <td>12951</td>\n",
       "      <td>M</td>\n",
       "      <td>2022-12-01</td>\n",
       "      <td>75.00</td>\n",
       "      <td>1.50-500</td>\n",
       "    </tr>\n",
       "    <tr>\n",
       "      <th>185727</th>\n",
       "      <td>19421</td>\n",
       "      <td>I</td>\n",
       "      <td>2022-12-01</td>\n",
       "      <td>342.23</td>\n",
       "      <td>1.50-500</td>\n",
       "    </tr>\n",
       "  </tbody>\n",
       "</table>\n",
       "<p>185728 rows × 5 columns</p>\n",
       "</div>"
      ],
      "text/plain": [
       "        client segment        date  sales_volume      tier\n",
       "0            4       I  2021-01-01      10167.17    9K-71K\n",
       "1            4       I  2021-02-01       9920.42    9K-71K\n",
       "2            4       I  2021-03-01       7696.05    9K-71K\n",
       "3            4       I  2021-04-01       9584.33    9K-71K\n",
       "4            4       I  2021-05-01      12637.89    9K-71K\n",
       "...        ...     ...         ...           ...       ...\n",
       "185723   17961       K  2022-12-01       3425.55     2K-4K\n",
       "185724    6140       I  2022-12-01         10.00  1.50-500\n",
       "185725   19378       I  2022-12-01       1552.50    500-2K\n",
       "185726   12951       M  2022-12-01         75.00  1.50-500\n",
       "185727   19421       I  2022-12-01        342.23  1.50-500\n",
       "\n",
       "[185728 rows x 5 columns]"
      ]
     },
     "execution_count": 17,
     "metadata": {},
     "output_type": "execute_result"
    }
   ],
   "source": [
    "### Trazer a informação de chr por cliente\n",
    "tier_df = pd.read_parquet(\"df_quintil_cluster.parquet\")\n",
    "tier_df = tier_df[[\"client\", \"tier\"]]\n",
    "\n",
    "churn_df = churn_df.merge(tier_df, on=\"client\", how=\"inner\")\n",
    "churn_df"
   ]
  },
  {
   "cell_type": "markdown",
   "metadata": {},
   "source": [
    "#### Estatísticas descritivas por tier:\n",
    "\n",
    "Será utilizado para melhor separar o gráfico de churn por tier"
   ]
  },
  {
   "cell_type": "code",
   "execution_count": 18,
   "metadata": {},
   "outputs": [
    {
     "data": {
      "text/html": [
       "<div>\n",
       "<style scoped>\n",
       "    .dataframe tbody tr th:only-of-type {\n",
       "        vertical-align: middle;\n",
       "    }\n",
       "\n",
       "    .dataframe tbody tr th {\n",
       "        vertical-align: top;\n",
       "    }\n",
       "\n",
       "    .dataframe thead th {\n",
       "        text-align: right;\n",
       "    }\n",
       "</style>\n",
       "<table border=\"1\" class=\"dataframe\">\n",
       "  <thead>\n",
       "    <tr style=\"text-align: right;\">\n",
       "      <th></th>\n",
       "      <th>#_clients</th>\n",
       "      <th>#_registros</th>\n",
       "      <th>sales_volume_avg</th>\n",
       "      <th>clients_share</th>\n",
       "    </tr>\n",
       "    <tr>\n",
       "      <th>tier</th>\n",
       "      <th></th>\n",
       "      <th></th>\n",
       "      <th></th>\n",
       "      <th></th>\n",
       "    </tr>\n",
       "  </thead>\n",
       "  <tbody>\n",
       "    <tr>\n",
       "      <th>71K-2M</th>\n",
       "      <td>230</td>\n",
       "      <td>3178</td>\n",
       "      <td>145913.17</td>\n",
       "      <td>1.18</td>\n",
       "    </tr>\n",
       "    <tr>\n",
       "      <th>9K-71K</th>\n",
       "      <td>3875</td>\n",
       "      <td>52011</td>\n",
       "      <td>20679.81</td>\n",
       "      <td>19.93</td>\n",
       "    </tr>\n",
       "    <tr>\n",
       "      <th>4K-9K</th>\n",
       "      <td>3652</td>\n",
       "      <td>44734</td>\n",
       "      <td>6050.85</td>\n",
       "      <td>18.78</td>\n",
       "    </tr>\n",
       "    <tr>\n",
       "      <th>2K-4K</th>\n",
       "      <td>3705</td>\n",
       "      <td>40223</td>\n",
       "      <td>2736.57</td>\n",
       "      <td>19.05</td>\n",
       "    </tr>\n",
       "    <tr>\n",
       "      <th>500-2K</th>\n",
       "      <td>3758</td>\n",
       "      <td>30471</td>\n",
       "      <td>1064.45</td>\n",
       "      <td>19.33</td>\n",
       "    </tr>\n",
       "    <tr>\n",
       "      <th>1.50-500</th>\n",
       "      <td>3939</td>\n",
       "      <td>14769</td>\n",
       "      <td>217.47</td>\n",
       "      <td>20.26</td>\n",
       "    </tr>\n",
       "    <tr>\n",
       "      <th>0-1.5</th>\n",
       "      <td>285</td>\n",
       "      <td>342</td>\n",
       "      <td>0.67</td>\n",
       "      <td>1.47</td>\n",
       "    </tr>\n",
       "  </tbody>\n",
       "</table>\n",
       "</div>"
      ],
      "text/plain": [
       "          #_clients  #_registros  sales_volume_avg  clients_share\n",
       "tier                                                             \n",
       "71K-2M          230         3178         145913.17           1.18\n",
       "9K-71K         3875        52011          20679.81          19.93\n",
       "4K-9K          3652        44734           6050.85          18.78\n",
       "2K-4K          3705        40223           2736.57          19.05\n",
       "500-2K         3758        30471           1064.45          19.33\n",
       "1.50-500       3939        14769            217.47          20.26\n",
       "0-1.5           285          342              0.67           1.47"
      ]
     },
     "execution_count": 18,
     "metadata": {},
     "output_type": "execute_result"
    }
   ],
   "source": [
    "stats_segment = (\n",
    "    churn_df.groupby([\"tier\"], as_index=True, sort=True)\n",
    "    .agg(\n",
    "        {\n",
    "            \"client\": [\"nunique\", \"size\"],\n",
    "            \"sales_volume\": [\"mean\"],\n",
    "        }\n",
    "    )\n",
    "    .round(2)\n",
    ")\n",
    "\n",
    "stats_segment.columns = stats_segment.columns.droplevel(1)\n",
    "\n",
    "stats_segment.columns = [\n",
    "    \"#_clients\",\n",
    "    \"#_registros\",\n",
    "    \"sales_volume_avg\",\n",
    "]\n",
    "\n",
    "\n",
    "stats_segment[\"clients_share\"] = (\n",
    "    stats_segment[\"#_clients\"] / (stats_segment[\"#_clients\"].sum()) * 100\n",
    ")\n",
    "stats_segment = stats_segment.sort_values(by=\"sales_volume_avg\", ascending=False)\n",
    "\n",
    "stats_segment"
   ]
  },
  {
   "cell_type": "markdown",
   "metadata": {},
   "source": [
    " ###  Taxa de churn:\n",
    " * Razão entre a quantidade de clientes sem transacionar em um\n",
    "determinado mês (mas ativos no mês anterior) e a quantidade total de clientes\n",
    "que estavam ativos (i.e. transacionando) no mês anterior."
   ]
  },
  {
   "cell_type": "markdown",
   "metadata": {},
   "source": [
    "#### Passo 1: Identificar clientes ativos"
   ]
  },
  {
   "cell_type": "code",
   "execution_count": 19,
   "metadata": {},
   "outputs": [],
   "source": [
    "churn_df[\"ativo\"] = 1"
   ]
  },
  {
   "cell_type": "code",
   "execution_count": 21,
   "metadata": {},
   "outputs": [
    {
     "data": {
      "text/html": [
       "<div>\n",
       "<style scoped>\n",
       "    .dataframe tbody tr th:only-of-type {\n",
       "        vertical-align: middle;\n",
       "    }\n",
       "\n",
       "    .dataframe tbody tr th {\n",
       "        vertical-align: top;\n",
       "    }\n",
       "\n",
       "    .dataframe thead th {\n",
       "        text-align: right;\n",
       "    }\n",
       "</style>\n",
       "<table border=\"1\" class=\"dataframe\">\n",
       "  <thead>\n",
       "    <tr style=\"text-align: right;\">\n",
       "      <th></th>\n",
       "      <th>client</th>\n",
       "      <th>segment</th>\n",
       "      <th>date</th>\n",
       "      <th>sales_volume</th>\n",
       "      <th>tier</th>\n",
       "      <th>ativo</th>\n",
       "    </tr>\n",
       "  </thead>\n",
       "  <tbody>\n",
       "    <tr>\n",
       "      <th>154135</th>\n",
       "      <td>125</td>\n",
       "      <td>L</td>\n",
       "      <td>2021-11-01</td>\n",
       "      <td>303304.38</td>\n",
       "      <td>71K-2M</td>\n",
       "      <td>1</td>\n",
       "    </tr>\n",
       "    <tr>\n",
       "      <th>154136</th>\n",
       "      <td>125</td>\n",
       "      <td>L</td>\n",
       "      <td>2021-12-01</td>\n",
       "      <td>1047740.50</td>\n",
       "      <td>71K-2M</td>\n",
       "      <td>1</td>\n",
       "    </tr>\n",
       "    <tr>\n",
       "      <th>154137</th>\n",
       "      <td>125</td>\n",
       "      <td>L</td>\n",
       "      <td>2022-01-01</td>\n",
       "      <td>929190.06</td>\n",
       "      <td>71K-2M</td>\n",
       "      <td>1</td>\n",
       "    </tr>\n",
       "    <tr>\n",
       "      <th>154138</th>\n",
       "      <td>125</td>\n",
       "      <td>L</td>\n",
       "      <td>2022-02-01</td>\n",
       "      <td>865944.60</td>\n",
       "      <td>71K-2M</td>\n",
       "      <td>1</td>\n",
       "    </tr>\n",
       "    <tr>\n",
       "      <th>154139</th>\n",
       "      <td>125</td>\n",
       "      <td>L</td>\n",
       "      <td>2022-03-01</td>\n",
       "      <td>687414.48</td>\n",
       "      <td>71K-2M</td>\n",
       "      <td>1</td>\n",
       "    </tr>\n",
       "    <tr>\n",
       "      <th>154140</th>\n",
       "      <td>125</td>\n",
       "      <td>L</td>\n",
       "      <td>2022-05-01</td>\n",
       "      <td>561118.74</td>\n",
       "      <td>71K-2M</td>\n",
       "      <td>1</td>\n",
       "    </tr>\n",
       "    <tr>\n",
       "      <th>154141</th>\n",
       "      <td>125</td>\n",
       "      <td>L</td>\n",
       "      <td>2022-06-01</td>\n",
       "      <td>791069.24</td>\n",
       "      <td>71K-2M</td>\n",
       "      <td>1</td>\n",
       "    </tr>\n",
       "    <tr>\n",
       "      <th>154142</th>\n",
       "      <td>125</td>\n",
       "      <td>L</td>\n",
       "      <td>2022-07-01</td>\n",
       "      <td>545790.05</td>\n",
       "      <td>71K-2M</td>\n",
       "      <td>1</td>\n",
       "    </tr>\n",
       "    <tr>\n",
       "      <th>154143</th>\n",
       "      <td>125</td>\n",
       "      <td>L</td>\n",
       "      <td>2022-08-01</td>\n",
       "      <td>205.00</td>\n",
       "      <td>71K-2M</td>\n",
       "      <td>1</td>\n",
       "    </tr>\n",
       "  </tbody>\n",
       "</table>\n",
       "</div>"
      ],
      "text/plain": [
       "        client segment        date  sales_volume    tier  ativo\n",
       "154135     125       L  2021-11-01     303304.38  71K-2M      1\n",
       "154136     125       L  2021-12-01    1047740.50  71K-2M      1\n",
       "154137     125       L  2022-01-01     929190.06  71K-2M      1\n",
       "154138     125       L  2022-02-01     865944.60  71K-2M      1\n",
       "154139     125       L  2022-03-01     687414.48  71K-2M      1\n",
       "154140     125       L  2022-05-01     561118.74  71K-2M      1\n",
       "154141     125       L  2022-06-01     791069.24  71K-2M      1\n",
       "154142     125       L  2022-07-01     545790.05  71K-2M      1\n",
       "154143     125       L  2022-08-01        205.00  71K-2M      1"
      ]
     },
     "execution_count": 21,
     "metadata": {},
     "output_type": "execute_result"
    }
   ],
   "source": [
    "# Usar client 125 para debug\n",
    "churn_df.query(\"client ==125\")"
   ]
  },
  {
   "cell_type": "markdown",
   "metadata": {},
   "source": [
    "#### Passo 2: Identificar mês subsequente sem compra \n",
    "\n",
    "1. Expandir a base para todas as datas disponíveis por cliente:"
   ]
  },
  {
   "cell_type": "code",
   "execution_count": null,
   "metadata": {},
   "outputs": [],
   "source": [
    "churn_df[\"date\"] = pd.to_datetime(churn_df[\"date\"])\n",
    "\n",
    "# Identificar todos os clientes:\n",
    "all_clients = churn_df[\"client\"].unique()\n",
    "\n",
    "# Criar range de data\n",
    "all_dates = pd.date_range(\n",
    "    churn_df[\"date\"].min(), churn_df[\"date\"].max(), freq=\"MS\"\n",
    ")  # Monthly start\n",
    "\n",
    "# Expandir a série\n",
    "expanded_index = pd.MultiIndex.from_product(\n",
    "    [all_clients, all_dates], names=[\"client\", \"date\"]\n",
    ")\n",
    "expanded_df = pd.DataFrame(index=expanded_index).reset_index()"
   ]
  },
  {
   "cell_type": "markdown",
   "metadata": {},
   "source": [
    "2. Trazer informações da base transactions_df"
   ]
  },
  {
   "cell_type": "code",
   "execution_count": 24,
   "metadata": {},
   "outputs": [
    {
     "data": {
      "text/html": [
       "<div>\n",
       "<style scoped>\n",
       "    .dataframe tbody tr th:only-of-type {\n",
       "        vertical-align: middle;\n",
       "    }\n",
       "\n",
       "    .dataframe tbody tr th {\n",
       "        vertical-align: top;\n",
       "    }\n",
       "\n",
       "    .dataframe thead th {\n",
       "        text-align: right;\n",
       "    }\n",
       "</style>\n",
       "<table border=\"1\" class=\"dataframe\">\n",
       "  <thead>\n",
       "    <tr style=\"text-align: right;\">\n",
       "      <th></th>\n",
       "      <th>client</th>\n",
       "      <th>date</th>\n",
       "      <th>segment</th>\n",
       "      <th>sales_volume</th>\n",
       "      <th>tier</th>\n",
       "      <th>ativo</th>\n",
       "    </tr>\n",
       "  </thead>\n",
       "  <tbody>\n",
       "    <tr>\n",
       "      <th>453912</th>\n",
       "      <td>1</td>\n",
       "      <td>2021-01-01</td>\n",
       "      <td>NaN</td>\n",
       "      <td>NaN</td>\n",
       "      <td>NaN</td>\n",
       "      <td>NaN</td>\n",
       "    </tr>\n",
       "    <tr>\n",
       "      <th>453913</th>\n",
       "      <td>1</td>\n",
       "      <td>2021-02-01</td>\n",
       "      <td>NaN</td>\n",
       "      <td>NaN</td>\n",
       "      <td>NaN</td>\n",
       "      <td>NaN</td>\n",
       "    </tr>\n",
       "    <tr>\n",
       "      <th>453914</th>\n",
       "      <td>1</td>\n",
       "      <td>2021-03-01</td>\n",
       "      <td>NaN</td>\n",
       "      <td>NaN</td>\n",
       "      <td>NaN</td>\n",
       "      <td>NaN</td>\n",
       "    </tr>\n",
       "    <tr>\n",
       "      <th>453915</th>\n",
       "      <td>1</td>\n",
       "      <td>2021-04-01</td>\n",
       "      <td>NaN</td>\n",
       "      <td>NaN</td>\n",
       "      <td>NaN</td>\n",
       "      <td>NaN</td>\n",
       "    </tr>\n",
       "    <tr>\n",
       "      <th>453916</th>\n",
       "      <td>1</td>\n",
       "      <td>2021-05-01</td>\n",
       "      <td>NaN</td>\n",
       "      <td>NaN</td>\n",
       "      <td>NaN</td>\n",
       "      <td>NaN</td>\n",
       "    </tr>\n",
       "    <tr>\n",
       "      <th>...</th>\n",
       "      <td>...</td>\n",
       "      <td>...</td>\n",
       "      <td>...</td>\n",
       "      <td>...</td>\n",
       "      <td>...</td>\n",
       "      <td>...</td>\n",
       "    </tr>\n",
       "    <tr>\n",
       "      <th>331675</th>\n",
       "      <td>20000</td>\n",
       "      <td>2022-08-01</td>\n",
       "      <td>M</td>\n",
       "      <td>12558.25</td>\n",
       "      <td>9K-71K</td>\n",
       "      <td>1.00</td>\n",
       "    </tr>\n",
       "    <tr>\n",
       "      <th>331676</th>\n",
       "      <td>20000</td>\n",
       "      <td>2022-09-01</td>\n",
       "      <td>M</td>\n",
       "      <td>9963.50</td>\n",
       "      <td>9K-71K</td>\n",
       "      <td>1.00</td>\n",
       "    </tr>\n",
       "    <tr>\n",
       "      <th>331677</th>\n",
       "      <td>20000</td>\n",
       "      <td>2022-10-01</td>\n",
       "      <td>M</td>\n",
       "      <td>9080.00</td>\n",
       "      <td>9K-71K</td>\n",
       "      <td>1.00</td>\n",
       "    </tr>\n",
       "    <tr>\n",
       "      <th>331678</th>\n",
       "      <td>20000</td>\n",
       "      <td>2022-11-01</td>\n",
       "      <td>M</td>\n",
       "      <td>9025.00</td>\n",
       "      <td>9K-71K</td>\n",
       "      <td>1.00</td>\n",
       "    </tr>\n",
       "    <tr>\n",
       "      <th>331679</th>\n",
       "      <td>20000</td>\n",
       "      <td>2022-12-01</td>\n",
       "      <td>M</td>\n",
       "      <td>11382.50</td>\n",
       "      <td>9K-71K</td>\n",
       "      <td>1.00</td>\n",
       "    </tr>\n",
       "  </tbody>\n",
       "</table>\n",
       "<p>466656 rows × 6 columns</p>\n",
       "</div>"
      ],
      "text/plain": [
       "        client       date segment  sales_volume    tier  ativo\n",
       "453912       1 2021-01-01     NaN           NaN     NaN    NaN\n",
       "453913       1 2021-02-01     NaN           NaN     NaN    NaN\n",
       "453914       1 2021-03-01     NaN           NaN     NaN    NaN\n",
       "453915       1 2021-04-01     NaN           NaN     NaN    NaN\n",
       "453916       1 2021-05-01     NaN           NaN     NaN    NaN\n",
       "...        ...        ...     ...           ...     ...    ...\n",
       "331675   20000 2022-08-01       M      12558.25  9K-71K   1.00\n",
       "331676   20000 2022-09-01       M       9963.50  9K-71K   1.00\n",
       "331677   20000 2022-10-01       M       9080.00  9K-71K   1.00\n",
       "331678   20000 2022-11-01       M       9025.00  9K-71K   1.00\n",
       "331679   20000 2022-12-01       M      11382.50  9K-71K   1.00\n",
       "\n",
       "[466656 rows x 6 columns]"
      ]
     },
     "execution_count": 24,
     "metadata": {},
     "output_type": "execute_result"
    }
   ],
   "source": [
    "expanded_df = expanded_df.merge(churn_df, on=[\"client\", \"date\"], how=\"left\")\n",
    "expanded_df.sort_values(by=[\"client\", \"date\"], inplace=True)\n",
    "expanded_df"
   ]
  },
  {
   "cell_type": "markdown",
   "metadata": {},
   "source": [
    "\n",
    "Atenção: Existem situações em que cliente para de realizar transações no mês subsequente, porém, retorna a utilizar o erviço no outro mês.\n",
    "\n",
    "3. Identificar mês subsequente como inativo"
   ]
  },
  {
   "cell_type": "code",
   "execution_count": 25,
   "metadata": {},
   "outputs": [
    {
     "data": {
      "text/html": [
       "<div>\n",
       "<style scoped>\n",
       "    .dataframe tbody tr th:only-of-type {\n",
       "        vertical-align: middle;\n",
       "    }\n",
       "\n",
       "    .dataframe tbody tr th {\n",
       "        vertical-align: top;\n",
       "    }\n",
       "\n",
       "    .dataframe thead th {\n",
       "        text-align: right;\n",
       "    }\n",
       "</style>\n",
       "<table border=\"1\" class=\"dataframe\">\n",
       "  <thead>\n",
       "    <tr style=\"text-align: right;\">\n",
       "      <th></th>\n",
       "      <th>client</th>\n",
       "      <th>date</th>\n",
       "      <th>segment</th>\n",
       "      <th>sales_volume</th>\n",
       "      <th>tier</th>\n",
       "      <th>ativo</th>\n",
       "    </tr>\n",
       "  </thead>\n",
       "  <tbody>\n",
       "    <tr>\n",
       "      <th>453912</th>\n",
       "      <td>1</td>\n",
       "      <td>2021-01-01</td>\n",
       "      <td>NaN</td>\n",
       "      <td>NaN</td>\n",
       "      <td>NaN</td>\n",
       "      <td>0.00</td>\n",
       "    </tr>\n",
       "    <tr>\n",
       "      <th>453913</th>\n",
       "      <td>1</td>\n",
       "      <td>2021-02-01</td>\n",
       "      <td>NaN</td>\n",
       "      <td>NaN</td>\n",
       "      <td>NaN</td>\n",
       "      <td>0.00</td>\n",
       "    </tr>\n",
       "    <tr>\n",
       "      <th>453914</th>\n",
       "      <td>1</td>\n",
       "      <td>2021-03-01</td>\n",
       "      <td>NaN</td>\n",
       "      <td>NaN</td>\n",
       "      <td>NaN</td>\n",
       "      <td>0.00</td>\n",
       "    </tr>\n",
       "    <tr>\n",
       "      <th>453915</th>\n",
       "      <td>1</td>\n",
       "      <td>2021-04-01</td>\n",
       "      <td>NaN</td>\n",
       "      <td>NaN</td>\n",
       "      <td>NaN</td>\n",
       "      <td>0.00</td>\n",
       "    </tr>\n",
       "    <tr>\n",
       "      <th>453916</th>\n",
       "      <td>1</td>\n",
       "      <td>2021-05-01</td>\n",
       "      <td>NaN</td>\n",
       "      <td>NaN</td>\n",
       "      <td>NaN</td>\n",
       "      <td>0.00</td>\n",
       "    </tr>\n",
       "    <tr>\n",
       "      <th>...</th>\n",
       "      <td>...</td>\n",
       "      <td>...</td>\n",
       "      <td>...</td>\n",
       "      <td>...</td>\n",
       "      <td>...</td>\n",
       "      <td>...</td>\n",
       "    </tr>\n",
       "    <tr>\n",
       "      <th>331675</th>\n",
       "      <td>20000</td>\n",
       "      <td>2022-08-01</td>\n",
       "      <td>M</td>\n",
       "      <td>12558.25</td>\n",
       "      <td>9K-71K</td>\n",
       "      <td>1.00</td>\n",
       "    </tr>\n",
       "    <tr>\n",
       "      <th>331676</th>\n",
       "      <td>20000</td>\n",
       "      <td>2022-09-01</td>\n",
       "      <td>M</td>\n",
       "      <td>9963.50</td>\n",
       "      <td>9K-71K</td>\n",
       "      <td>1.00</td>\n",
       "    </tr>\n",
       "    <tr>\n",
       "      <th>331677</th>\n",
       "      <td>20000</td>\n",
       "      <td>2022-10-01</td>\n",
       "      <td>M</td>\n",
       "      <td>9080.00</td>\n",
       "      <td>9K-71K</td>\n",
       "      <td>1.00</td>\n",
       "    </tr>\n",
       "    <tr>\n",
       "      <th>331678</th>\n",
       "      <td>20000</td>\n",
       "      <td>2022-11-01</td>\n",
       "      <td>M</td>\n",
       "      <td>9025.00</td>\n",
       "      <td>9K-71K</td>\n",
       "      <td>1.00</td>\n",
       "    </tr>\n",
       "    <tr>\n",
       "      <th>331679</th>\n",
       "      <td>20000</td>\n",
       "      <td>2022-12-01</td>\n",
       "      <td>M</td>\n",
       "      <td>11382.50</td>\n",
       "      <td>9K-71K</td>\n",
       "      <td>1.00</td>\n",
       "    </tr>\n",
       "  </tbody>\n",
       "</table>\n",
       "<p>466656 rows × 6 columns</p>\n",
       "</div>"
      ],
      "text/plain": [
       "        client       date segment  sales_volume    tier  ativo\n",
       "453912       1 2021-01-01     NaN           NaN     NaN   0.00\n",
       "453913       1 2021-02-01     NaN           NaN     NaN   0.00\n",
       "453914       1 2021-03-01     NaN           NaN     NaN   0.00\n",
       "453915       1 2021-04-01     NaN           NaN     NaN   0.00\n",
       "453916       1 2021-05-01     NaN           NaN     NaN   0.00\n",
       "...        ...        ...     ...           ...     ...    ...\n",
       "331675   20000 2022-08-01       M      12558.25  9K-71K   1.00\n",
       "331676   20000 2022-09-01       M       9963.50  9K-71K   1.00\n",
       "331677   20000 2022-10-01       M       9080.00  9K-71K   1.00\n",
       "331678   20000 2022-11-01       M       9025.00  9K-71K   1.00\n",
       "331679   20000 2022-12-01       M      11382.50  9K-71K   1.00\n",
       "\n",
       "[466656 rows x 6 columns]"
      ]
     },
     "execution_count": 25,
     "metadata": {},
     "output_type": "execute_result"
    }
   ],
   "source": [
    "# Preencher NaN ativo = 0\n",
    "expanded_df[\"ativo\"] = expanded_df[\"ativo\"].fillna(0)\n",
    "\n",
    "# Para manter aitov =0 entre meses como receita\n",
    "expanded_df.update(expanded_df.groupby(\"client\").ffill())"
   ]
  },
  {
   "cell_type": "code",
   "execution_count": 26,
   "metadata": {},
   "outputs": [
    {
     "data": {
      "text/html": [
       "<div>\n",
       "<style scoped>\n",
       "    .dataframe tbody tr th:only-of-type {\n",
       "        vertical-align: middle;\n",
       "    }\n",
       "\n",
       "    .dataframe tbody tr th {\n",
       "        vertical-align: top;\n",
       "    }\n",
       "\n",
       "    .dataframe thead th {\n",
       "        text-align: right;\n",
       "    }\n",
       "</style>\n",
       "<table border=\"1\" class=\"dataframe\">\n",
       "  <thead>\n",
       "    <tr style=\"text-align: right;\">\n",
       "      <th></th>\n",
       "      <th>client</th>\n",
       "      <th>date</th>\n",
       "      <th>segment</th>\n",
       "      <th>sales_volume</th>\n",
       "      <th>tier</th>\n",
       "      <th>ativo</th>\n",
       "    </tr>\n",
       "  </thead>\n",
       "  <tbody>\n",
       "    <tr>\n",
       "      <th>321336</th>\n",
       "      <td>125</td>\n",
       "      <td>2021-01-01</td>\n",
       "      <td>NaN</td>\n",
       "      <td>NaN</td>\n",
       "      <td>NaN</td>\n",
       "      <td>0.00</td>\n",
       "    </tr>\n",
       "    <tr>\n",
       "      <th>321337</th>\n",
       "      <td>125</td>\n",
       "      <td>2021-02-01</td>\n",
       "      <td>NaN</td>\n",
       "      <td>NaN</td>\n",
       "      <td>NaN</td>\n",
       "      <td>0.00</td>\n",
       "    </tr>\n",
       "    <tr>\n",
       "      <th>321338</th>\n",
       "      <td>125</td>\n",
       "      <td>2021-03-01</td>\n",
       "      <td>NaN</td>\n",
       "      <td>NaN</td>\n",
       "      <td>NaN</td>\n",
       "      <td>0.00</td>\n",
       "    </tr>\n",
       "    <tr>\n",
       "      <th>321339</th>\n",
       "      <td>125</td>\n",
       "      <td>2021-04-01</td>\n",
       "      <td>NaN</td>\n",
       "      <td>NaN</td>\n",
       "      <td>NaN</td>\n",
       "      <td>0.00</td>\n",
       "    </tr>\n",
       "    <tr>\n",
       "      <th>321340</th>\n",
       "      <td>125</td>\n",
       "      <td>2021-05-01</td>\n",
       "      <td>NaN</td>\n",
       "      <td>NaN</td>\n",
       "      <td>NaN</td>\n",
       "      <td>0.00</td>\n",
       "    </tr>\n",
       "    <tr>\n",
       "      <th>321341</th>\n",
       "      <td>125</td>\n",
       "      <td>2021-06-01</td>\n",
       "      <td>NaN</td>\n",
       "      <td>NaN</td>\n",
       "      <td>NaN</td>\n",
       "      <td>0.00</td>\n",
       "    </tr>\n",
       "    <tr>\n",
       "      <th>321342</th>\n",
       "      <td>125</td>\n",
       "      <td>2021-07-01</td>\n",
       "      <td>NaN</td>\n",
       "      <td>NaN</td>\n",
       "      <td>NaN</td>\n",
       "      <td>0.00</td>\n",
       "    </tr>\n",
       "    <tr>\n",
       "      <th>321343</th>\n",
       "      <td>125</td>\n",
       "      <td>2021-08-01</td>\n",
       "      <td>NaN</td>\n",
       "      <td>NaN</td>\n",
       "      <td>NaN</td>\n",
       "      <td>0.00</td>\n",
       "    </tr>\n",
       "    <tr>\n",
       "      <th>321344</th>\n",
       "      <td>125</td>\n",
       "      <td>2021-09-01</td>\n",
       "      <td>NaN</td>\n",
       "      <td>NaN</td>\n",
       "      <td>NaN</td>\n",
       "      <td>0.00</td>\n",
       "    </tr>\n",
       "    <tr>\n",
       "      <th>321345</th>\n",
       "      <td>125</td>\n",
       "      <td>2021-10-01</td>\n",
       "      <td>NaN</td>\n",
       "      <td>NaN</td>\n",
       "      <td>NaN</td>\n",
       "      <td>0.00</td>\n",
       "    </tr>\n",
       "    <tr>\n",
       "      <th>321346</th>\n",
       "      <td>125</td>\n",
       "      <td>2021-11-01</td>\n",
       "      <td>L</td>\n",
       "      <td>303304.38</td>\n",
       "      <td>71K-2M</td>\n",
       "      <td>1.00</td>\n",
       "    </tr>\n",
       "    <tr>\n",
       "      <th>321347</th>\n",
       "      <td>125</td>\n",
       "      <td>2021-12-01</td>\n",
       "      <td>L</td>\n",
       "      <td>1047740.50</td>\n",
       "      <td>71K-2M</td>\n",
       "      <td>1.00</td>\n",
       "    </tr>\n",
       "    <tr>\n",
       "      <th>321348</th>\n",
       "      <td>125</td>\n",
       "      <td>2022-01-01</td>\n",
       "      <td>L</td>\n",
       "      <td>929190.06</td>\n",
       "      <td>71K-2M</td>\n",
       "      <td>1.00</td>\n",
       "    </tr>\n",
       "    <tr>\n",
       "      <th>321349</th>\n",
       "      <td>125</td>\n",
       "      <td>2022-02-01</td>\n",
       "      <td>L</td>\n",
       "      <td>865944.60</td>\n",
       "      <td>71K-2M</td>\n",
       "      <td>1.00</td>\n",
       "    </tr>\n",
       "    <tr>\n",
       "      <th>321350</th>\n",
       "      <td>125</td>\n",
       "      <td>2022-03-01</td>\n",
       "      <td>L</td>\n",
       "      <td>687414.48</td>\n",
       "      <td>71K-2M</td>\n",
       "      <td>1.00</td>\n",
       "    </tr>\n",
       "    <tr>\n",
       "      <th>321351</th>\n",
       "      <td>125</td>\n",
       "      <td>2022-04-01</td>\n",
       "      <td>L</td>\n",
       "      <td>687414.48</td>\n",
       "      <td>71K-2M</td>\n",
       "      <td>0.00</td>\n",
       "    </tr>\n",
       "    <tr>\n",
       "      <th>321352</th>\n",
       "      <td>125</td>\n",
       "      <td>2022-05-01</td>\n",
       "      <td>L</td>\n",
       "      <td>561118.74</td>\n",
       "      <td>71K-2M</td>\n",
       "      <td>1.00</td>\n",
       "    </tr>\n",
       "    <tr>\n",
       "      <th>321353</th>\n",
       "      <td>125</td>\n",
       "      <td>2022-06-01</td>\n",
       "      <td>L</td>\n",
       "      <td>791069.24</td>\n",
       "      <td>71K-2M</td>\n",
       "      <td>1.00</td>\n",
       "    </tr>\n",
       "    <tr>\n",
       "      <th>321354</th>\n",
       "      <td>125</td>\n",
       "      <td>2022-07-01</td>\n",
       "      <td>L</td>\n",
       "      <td>545790.05</td>\n",
       "      <td>71K-2M</td>\n",
       "      <td>1.00</td>\n",
       "    </tr>\n",
       "    <tr>\n",
       "      <th>321355</th>\n",
       "      <td>125</td>\n",
       "      <td>2022-08-01</td>\n",
       "      <td>L</td>\n",
       "      <td>205.00</td>\n",
       "      <td>71K-2M</td>\n",
       "      <td>1.00</td>\n",
       "    </tr>\n",
       "    <tr>\n",
       "      <th>321356</th>\n",
       "      <td>125</td>\n",
       "      <td>2022-09-01</td>\n",
       "      <td>L</td>\n",
       "      <td>205.00</td>\n",
       "      <td>71K-2M</td>\n",
       "      <td>0.00</td>\n",
       "    </tr>\n",
       "    <tr>\n",
       "      <th>321357</th>\n",
       "      <td>125</td>\n",
       "      <td>2022-10-01</td>\n",
       "      <td>L</td>\n",
       "      <td>205.00</td>\n",
       "      <td>71K-2M</td>\n",
       "      <td>0.00</td>\n",
       "    </tr>\n",
       "    <tr>\n",
       "      <th>321358</th>\n",
       "      <td>125</td>\n",
       "      <td>2022-11-01</td>\n",
       "      <td>L</td>\n",
       "      <td>205.00</td>\n",
       "      <td>71K-2M</td>\n",
       "      <td>0.00</td>\n",
       "    </tr>\n",
       "    <tr>\n",
       "      <th>321359</th>\n",
       "      <td>125</td>\n",
       "      <td>2022-12-01</td>\n",
       "      <td>L</td>\n",
       "      <td>205.00</td>\n",
       "      <td>71K-2M</td>\n",
       "      <td>0.00</td>\n",
       "    </tr>\n",
       "  </tbody>\n",
       "</table>\n",
       "</div>"
      ],
      "text/plain": [
       "        client       date segment  sales_volume    tier  ativo\n",
       "321336     125 2021-01-01     NaN           NaN     NaN   0.00\n",
       "321337     125 2021-02-01     NaN           NaN     NaN   0.00\n",
       "321338     125 2021-03-01     NaN           NaN     NaN   0.00\n",
       "321339     125 2021-04-01     NaN           NaN     NaN   0.00\n",
       "321340     125 2021-05-01     NaN           NaN     NaN   0.00\n",
       "321341     125 2021-06-01     NaN           NaN     NaN   0.00\n",
       "321342     125 2021-07-01     NaN           NaN     NaN   0.00\n",
       "321343     125 2021-08-01     NaN           NaN     NaN   0.00\n",
       "321344     125 2021-09-01     NaN           NaN     NaN   0.00\n",
       "321345     125 2021-10-01     NaN           NaN     NaN   0.00\n",
       "321346     125 2021-11-01       L     303304.38  71K-2M   1.00\n",
       "321347     125 2021-12-01       L    1047740.50  71K-2M   1.00\n",
       "321348     125 2022-01-01       L     929190.06  71K-2M   1.00\n",
       "321349     125 2022-02-01       L     865944.60  71K-2M   1.00\n",
       "321350     125 2022-03-01       L     687414.48  71K-2M   1.00\n",
       "321351     125 2022-04-01       L     687414.48  71K-2M   0.00\n",
       "321352     125 2022-05-01       L     561118.74  71K-2M   1.00\n",
       "321353     125 2022-06-01       L     791069.24  71K-2M   1.00\n",
       "321354     125 2022-07-01       L     545790.05  71K-2M   1.00\n",
       "321355     125 2022-08-01       L        205.00  71K-2M   1.00\n",
       "321356     125 2022-09-01       L        205.00  71K-2M   0.00\n",
       "321357     125 2022-10-01       L        205.00  71K-2M   0.00\n",
       "321358     125 2022-11-01       L        205.00  71K-2M   0.00\n",
       "321359     125 2022-12-01       L        205.00  71K-2M   0.00"
      ]
     },
     "execution_count": 26,
     "metadata": {},
     "output_type": "execute_result"
    }
   ],
   "source": [
    "# Debug\n",
    "expanded_df.query(\"client ==125\")"
   ]
  },
  {
   "cell_type": "markdown",
   "metadata": {},
   "source": [
    "#### Passo 3: Excluir meses desnecessários\n",
    "\n",
    "##### Antes do primeiro registro"
   ]
  },
  {
   "cell_type": "code",
   "execution_count": 27,
   "metadata": {},
   "outputs": [],
   "source": [
    "expanded_df = expanded_df.dropna(subset=[\"sales_volume\"])"
   ]
  },
  {
   "cell_type": "markdown",
   "metadata": {},
   "source": [
    "##### Após o último registro"
   ]
  },
  {
   "cell_type": "code",
   "execution_count": 28,
   "metadata": {},
   "outputs": [
    {
     "data": {
      "text/html": [
       "<div>\n",
       "<style scoped>\n",
       "    .dataframe tbody tr th:only-of-type {\n",
       "        vertical-align: middle;\n",
       "    }\n",
       "\n",
       "    .dataframe tbody tr th {\n",
       "        vertical-align: top;\n",
       "    }\n",
       "\n",
       "    .dataframe thead th {\n",
       "        text-align: right;\n",
       "    }\n",
       "</style>\n",
       "<table border=\"1\" class=\"dataframe\">\n",
       "  <thead>\n",
       "    <tr style=\"text-align: right;\">\n",
       "      <th></th>\n",
       "      <th>client</th>\n",
       "      <th>date</th>\n",
       "      <th>segment</th>\n",
       "      <th>sales_volume</th>\n",
       "      <th>tier</th>\n",
       "      <th>ativo</th>\n",
       "      <th>combined</th>\n",
       "    </tr>\n",
       "  </thead>\n",
       "  <tbody>\n",
       "    <tr>\n",
       "      <th>321346</th>\n",
       "      <td>125</td>\n",
       "      <td>2021-11-01</td>\n",
       "      <td>L</td>\n",
       "      <td>303304.38</td>\n",
       "      <td>71K-2M</td>\n",
       "      <td>1.00</td>\n",
       "      <td>125_303304.38_1.0</td>\n",
       "    </tr>\n",
       "    <tr>\n",
       "      <th>321347</th>\n",
       "      <td>125</td>\n",
       "      <td>2021-12-01</td>\n",
       "      <td>L</td>\n",
       "      <td>1047740.50</td>\n",
       "      <td>71K-2M</td>\n",
       "      <td>1.00</td>\n",
       "      <td>125_1047740.5_1.0</td>\n",
       "    </tr>\n",
       "    <tr>\n",
       "      <th>321348</th>\n",
       "      <td>125</td>\n",
       "      <td>2022-01-01</td>\n",
       "      <td>L</td>\n",
       "      <td>929190.06</td>\n",
       "      <td>71K-2M</td>\n",
       "      <td>1.00</td>\n",
       "      <td>125_929190.06_1.0</td>\n",
       "    </tr>\n",
       "    <tr>\n",
       "      <th>321349</th>\n",
       "      <td>125</td>\n",
       "      <td>2022-02-01</td>\n",
       "      <td>L</td>\n",
       "      <td>865944.60</td>\n",
       "      <td>71K-2M</td>\n",
       "      <td>1.00</td>\n",
       "      <td>125_865944.6_1.0</td>\n",
       "    </tr>\n",
       "    <tr>\n",
       "      <th>321350</th>\n",
       "      <td>125</td>\n",
       "      <td>2022-03-01</td>\n",
       "      <td>L</td>\n",
       "      <td>687414.48</td>\n",
       "      <td>71K-2M</td>\n",
       "      <td>1.00</td>\n",
       "      <td>125_687414.48_1.0</td>\n",
       "    </tr>\n",
       "    <tr>\n",
       "      <th>321351</th>\n",
       "      <td>125</td>\n",
       "      <td>2022-04-01</td>\n",
       "      <td>L</td>\n",
       "      <td>687414.48</td>\n",
       "      <td>71K-2M</td>\n",
       "      <td>0.00</td>\n",
       "      <td>125_687414.48_0.0</td>\n",
       "    </tr>\n",
       "    <tr>\n",
       "      <th>321352</th>\n",
       "      <td>125</td>\n",
       "      <td>2022-05-01</td>\n",
       "      <td>L</td>\n",
       "      <td>561118.74</td>\n",
       "      <td>71K-2M</td>\n",
       "      <td>1.00</td>\n",
       "      <td>125_561118.74_1.0</td>\n",
       "    </tr>\n",
       "    <tr>\n",
       "      <th>321353</th>\n",
       "      <td>125</td>\n",
       "      <td>2022-06-01</td>\n",
       "      <td>L</td>\n",
       "      <td>791069.24</td>\n",
       "      <td>71K-2M</td>\n",
       "      <td>1.00</td>\n",
       "      <td>125_791069.24_1.0</td>\n",
       "    </tr>\n",
       "    <tr>\n",
       "      <th>321354</th>\n",
       "      <td>125</td>\n",
       "      <td>2022-07-01</td>\n",
       "      <td>L</td>\n",
       "      <td>545790.05</td>\n",
       "      <td>71K-2M</td>\n",
       "      <td>1.00</td>\n",
       "      <td>125_545790.05_1.0</td>\n",
       "    </tr>\n",
       "    <tr>\n",
       "      <th>321355</th>\n",
       "      <td>125</td>\n",
       "      <td>2022-08-01</td>\n",
       "      <td>L</td>\n",
       "      <td>205.00</td>\n",
       "      <td>71K-2M</td>\n",
       "      <td>1.00</td>\n",
       "      <td>125_205.0_1.0</td>\n",
       "    </tr>\n",
       "    <tr>\n",
       "      <th>321356</th>\n",
       "      <td>125</td>\n",
       "      <td>2022-09-01</td>\n",
       "      <td>L</td>\n",
       "      <td>205.00</td>\n",
       "      <td>71K-2M</td>\n",
       "      <td>0.00</td>\n",
       "      <td>125_205.0_0.0</td>\n",
       "    </tr>\n",
       "    <tr>\n",
       "      <th>321357</th>\n",
       "      <td>125</td>\n",
       "      <td>2022-10-01</td>\n",
       "      <td>L</td>\n",
       "      <td>205.00</td>\n",
       "      <td>71K-2M</td>\n",
       "      <td>0.00</td>\n",
       "      <td>125_205.0_0.0</td>\n",
       "    </tr>\n",
       "    <tr>\n",
       "      <th>321358</th>\n",
       "      <td>125</td>\n",
       "      <td>2022-11-01</td>\n",
       "      <td>L</td>\n",
       "      <td>205.00</td>\n",
       "      <td>71K-2M</td>\n",
       "      <td>0.00</td>\n",
       "      <td>125_205.0_0.0</td>\n",
       "    </tr>\n",
       "    <tr>\n",
       "      <th>321359</th>\n",
       "      <td>125</td>\n",
       "      <td>2022-12-01</td>\n",
       "      <td>L</td>\n",
       "      <td>205.00</td>\n",
       "      <td>71K-2M</td>\n",
       "      <td>0.00</td>\n",
       "      <td>125_205.0_0.0</td>\n",
       "    </tr>\n",
       "  </tbody>\n",
       "</table>\n",
       "</div>"
      ],
      "text/plain": [
       "        client       date segment  sales_volume    tier  ativo  \\\n",
       "321346     125 2021-11-01       L     303304.38  71K-2M   1.00   \n",
       "321347     125 2021-12-01       L    1047740.50  71K-2M   1.00   \n",
       "321348     125 2022-01-01       L     929190.06  71K-2M   1.00   \n",
       "321349     125 2022-02-01       L     865944.60  71K-2M   1.00   \n",
       "321350     125 2022-03-01       L     687414.48  71K-2M   1.00   \n",
       "321351     125 2022-04-01       L     687414.48  71K-2M   0.00   \n",
       "321352     125 2022-05-01       L     561118.74  71K-2M   1.00   \n",
       "321353     125 2022-06-01       L     791069.24  71K-2M   1.00   \n",
       "321354     125 2022-07-01       L     545790.05  71K-2M   1.00   \n",
       "321355     125 2022-08-01       L        205.00  71K-2M   1.00   \n",
       "321356     125 2022-09-01       L        205.00  71K-2M   0.00   \n",
       "321357     125 2022-10-01       L        205.00  71K-2M   0.00   \n",
       "321358     125 2022-11-01       L        205.00  71K-2M   0.00   \n",
       "321359     125 2022-12-01       L        205.00  71K-2M   0.00   \n",
       "\n",
       "                 combined  \n",
       "321346  125_303304.38_1.0  \n",
       "321347  125_1047740.5_1.0  \n",
       "321348  125_929190.06_1.0  \n",
       "321349   125_865944.6_1.0  \n",
       "321350  125_687414.48_1.0  \n",
       "321351  125_687414.48_0.0  \n",
       "321352  125_561118.74_1.0  \n",
       "321353  125_791069.24_1.0  \n",
       "321354  125_545790.05_1.0  \n",
       "321355      125_205.0_1.0  \n",
       "321356      125_205.0_0.0  \n",
       "321357      125_205.0_0.0  \n",
       "321358      125_205.0_0.0  \n",
       "321359      125_205.0_0.0  "
      ]
     },
     "execution_count": 28,
     "metadata": {},
     "output_type": "execute_result"
    }
   ],
   "source": [
    "expanded_df[\"combined\"] = (\n",
    "    expanded_df[\"client\"].astype(str)\n",
    "    + \"_\"\n",
    "    + expanded_df[\"sales_volume\"].astype(str)\n",
    "    + \"_\"\n",
    "    + expanded_df[\"ativo\"].astype(str)\n",
    ")\n",
    "\n",
    "expanded_df.query(\"client==125\")"
   ]
  },
  {
   "cell_type": "code",
   "execution_count": 29,
   "metadata": {},
   "outputs": [],
   "source": [
    "expanded_df = expanded_df[~expanded_df[\"combined\"].duplicated(keep=\"first\")]"
   ]
  },
  {
   "cell_type": "code",
   "execution_count": 30,
   "metadata": {},
   "outputs": [
    {
     "data": {
      "text/html": [
       "<div>\n",
       "<style scoped>\n",
       "    .dataframe tbody tr th:only-of-type {\n",
       "        vertical-align: middle;\n",
       "    }\n",
       "\n",
       "    .dataframe tbody tr th {\n",
       "        vertical-align: top;\n",
       "    }\n",
       "\n",
       "    .dataframe thead th {\n",
       "        text-align: right;\n",
       "    }\n",
       "</style>\n",
       "<table border=\"1\" class=\"dataframe\">\n",
       "  <thead>\n",
       "    <tr style=\"text-align: right;\">\n",
       "      <th></th>\n",
       "      <th>client</th>\n",
       "      <th>date</th>\n",
       "      <th>segment</th>\n",
       "      <th>sales_volume</th>\n",
       "      <th>tier</th>\n",
       "      <th>ativo</th>\n",
       "      <th>combined</th>\n",
       "    </tr>\n",
       "  </thead>\n",
       "  <tbody>\n",
       "    <tr>\n",
       "      <th>321346</th>\n",
       "      <td>125</td>\n",
       "      <td>2021-11-01</td>\n",
       "      <td>L</td>\n",
       "      <td>303304.38</td>\n",
       "      <td>71K-2M</td>\n",
       "      <td>1.00</td>\n",
       "      <td>125_303304.38_1.0</td>\n",
       "    </tr>\n",
       "    <tr>\n",
       "      <th>321347</th>\n",
       "      <td>125</td>\n",
       "      <td>2021-12-01</td>\n",
       "      <td>L</td>\n",
       "      <td>1047740.50</td>\n",
       "      <td>71K-2M</td>\n",
       "      <td>1.00</td>\n",
       "      <td>125_1047740.5_1.0</td>\n",
       "    </tr>\n",
       "    <tr>\n",
       "      <th>321348</th>\n",
       "      <td>125</td>\n",
       "      <td>2022-01-01</td>\n",
       "      <td>L</td>\n",
       "      <td>929190.06</td>\n",
       "      <td>71K-2M</td>\n",
       "      <td>1.00</td>\n",
       "      <td>125_929190.06_1.0</td>\n",
       "    </tr>\n",
       "    <tr>\n",
       "      <th>321349</th>\n",
       "      <td>125</td>\n",
       "      <td>2022-02-01</td>\n",
       "      <td>L</td>\n",
       "      <td>865944.60</td>\n",
       "      <td>71K-2M</td>\n",
       "      <td>1.00</td>\n",
       "      <td>125_865944.6_1.0</td>\n",
       "    </tr>\n",
       "    <tr>\n",
       "      <th>321350</th>\n",
       "      <td>125</td>\n",
       "      <td>2022-03-01</td>\n",
       "      <td>L</td>\n",
       "      <td>687414.48</td>\n",
       "      <td>71K-2M</td>\n",
       "      <td>1.00</td>\n",
       "      <td>125_687414.48_1.0</td>\n",
       "    </tr>\n",
       "    <tr>\n",
       "      <th>321351</th>\n",
       "      <td>125</td>\n",
       "      <td>2022-04-01</td>\n",
       "      <td>L</td>\n",
       "      <td>687414.48</td>\n",
       "      <td>71K-2M</td>\n",
       "      <td>0.00</td>\n",
       "      <td>125_687414.48_0.0</td>\n",
       "    </tr>\n",
       "    <tr>\n",
       "      <th>321352</th>\n",
       "      <td>125</td>\n",
       "      <td>2022-05-01</td>\n",
       "      <td>L</td>\n",
       "      <td>561118.74</td>\n",
       "      <td>71K-2M</td>\n",
       "      <td>1.00</td>\n",
       "      <td>125_561118.74_1.0</td>\n",
       "    </tr>\n",
       "    <tr>\n",
       "      <th>321353</th>\n",
       "      <td>125</td>\n",
       "      <td>2022-06-01</td>\n",
       "      <td>L</td>\n",
       "      <td>791069.24</td>\n",
       "      <td>71K-2M</td>\n",
       "      <td>1.00</td>\n",
       "      <td>125_791069.24_1.0</td>\n",
       "    </tr>\n",
       "    <tr>\n",
       "      <th>321354</th>\n",
       "      <td>125</td>\n",
       "      <td>2022-07-01</td>\n",
       "      <td>L</td>\n",
       "      <td>545790.05</td>\n",
       "      <td>71K-2M</td>\n",
       "      <td>1.00</td>\n",
       "      <td>125_545790.05_1.0</td>\n",
       "    </tr>\n",
       "    <tr>\n",
       "      <th>321355</th>\n",
       "      <td>125</td>\n",
       "      <td>2022-08-01</td>\n",
       "      <td>L</td>\n",
       "      <td>205.00</td>\n",
       "      <td>71K-2M</td>\n",
       "      <td>1.00</td>\n",
       "      <td>125_205.0_1.0</td>\n",
       "    </tr>\n",
       "    <tr>\n",
       "      <th>321356</th>\n",
       "      <td>125</td>\n",
       "      <td>2022-09-01</td>\n",
       "      <td>L</td>\n",
       "      <td>205.00</td>\n",
       "      <td>71K-2M</td>\n",
       "      <td>0.00</td>\n",
       "      <td>125_205.0_0.0</td>\n",
       "    </tr>\n",
       "  </tbody>\n",
       "</table>\n",
       "</div>"
      ],
      "text/plain": [
       "        client       date segment  sales_volume    tier  ativo  \\\n",
       "321346     125 2021-11-01       L     303304.38  71K-2M   1.00   \n",
       "321347     125 2021-12-01       L    1047740.50  71K-2M   1.00   \n",
       "321348     125 2022-01-01       L     929190.06  71K-2M   1.00   \n",
       "321349     125 2022-02-01       L     865944.60  71K-2M   1.00   \n",
       "321350     125 2022-03-01       L     687414.48  71K-2M   1.00   \n",
       "321351     125 2022-04-01       L     687414.48  71K-2M   0.00   \n",
       "321352     125 2022-05-01       L     561118.74  71K-2M   1.00   \n",
       "321353     125 2022-06-01       L     791069.24  71K-2M   1.00   \n",
       "321354     125 2022-07-01       L     545790.05  71K-2M   1.00   \n",
       "321355     125 2022-08-01       L        205.00  71K-2M   1.00   \n",
       "321356     125 2022-09-01       L        205.00  71K-2M   0.00   \n",
       "\n",
       "                 combined  \n",
       "321346  125_303304.38_1.0  \n",
       "321347  125_1047740.5_1.0  \n",
       "321348  125_929190.06_1.0  \n",
       "321349   125_865944.6_1.0  \n",
       "321350  125_687414.48_1.0  \n",
       "321351  125_687414.48_0.0  \n",
       "321352  125_561118.74_1.0  \n",
       "321353  125_791069.24_1.0  \n",
       "321354  125_545790.05_1.0  \n",
       "321355      125_205.0_1.0  \n",
       "321356      125_205.0_0.0  "
      ]
     },
     "execution_count": 30,
     "metadata": {},
     "output_type": "execute_result"
    }
   ],
   "source": [
    "expanded_df.query(\"client==125\")"
   ]
  },
  {
   "cell_type": "markdown",
   "metadata": {},
   "source": [
    "### Tabela final da cálculos de churn"
   ]
  },
  {
   "cell_type": "code",
   "execution_count": 31,
   "metadata": {},
   "outputs": [
    {
     "data": {
      "text/html": [
       "<div>\n",
       "<style scoped>\n",
       "    .dataframe tbody tr th:only-of-type {\n",
       "        vertical-align: middle;\n",
       "    }\n",
       "\n",
       "    .dataframe tbody tr th {\n",
       "        vertical-align: top;\n",
       "    }\n",
       "\n",
       "    .dataframe thead th {\n",
       "        text-align: right;\n",
       "    }\n",
       "</style>\n",
       "<table border=\"1\" class=\"dataframe\">\n",
       "  <thead>\n",
       "    <tr style=\"text-align: right;\">\n",
       "      <th></th>\n",
       "      <th>client</th>\n",
       "      <th>date</th>\n",
       "      <th>segment</th>\n",
       "      <th>tier</th>\n",
       "      <th>ativo</th>\n",
       "    </tr>\n",
       "  </thead>\n",
       "  <tbody>\n",
       "    <tr>\n",
       "      <th>321346</th>\n",
       "      <td>125</td>\n",
       "      <td>2021-11-01</td>\n",
       "      <td>L</td>\n",
       "      <td>71K-2M</td>\n",
       "      <td>1.00</td>\n",
       "    </tr>\n",
       "    <tr>\n",
       "      <th>321347</th>\n",
       "      <td>125</td>\n",
       "      <td>2021-12-01</td>\n",
       "      <td>L</td>\n",
       "      <td>71K-2M</td>\n",
       "      <td>1.00</td>\n",
       "    </tr>\n",
       "    <tr>\n",
       "      <th>321348</th>\n",
       "      <td>125</td>\n",
       "      <td>2022-01-01</td>\n",
       "      <td>L</td>\n",
       "      <td>71K-2M</td>\n",
       "      <td>1.00</td>\n",
       "    </tr>\n",
       "    <tr>\n",
       "      <th>321349</th>\n",
       "      <td>125</td>\n",
       "      <td>2022-02-01</td>\n",
       "      <td>L</td>\n",
       "      <td>71K-2M</td>\n",
       "      <td>1.00</td>\n",
       "    </tr>\n",
       "    <tr>\n",
       "      <th>321350</th>\n",
       "      <td>125</td>\n",
       "      <td>2022-03-01</td>\n",
       "      <td>L</td>\n",
       "      <td>71K-2M</td>\n",
       "      <td>1.00</td>\n",
       "    </tr>\n",
       "    <tr>\n",
       "      <th>321351</th>\n",
       "      <td>125</td>\n",
       "      <td>2022-04-01</td>\n",
       "      <td>L</td>\n",
       "      <td>71K-2M</td>\n",
       "      <td>0.00</td>\n",
       "    </tr>\n",
       "    <tr>\n",
       "      <th>321352</th>\n",
       "      <td>125</td>\n",
       "      <td>2022-05-01</td>\n",
       "      <td>L</td>\n",
       "      <td>71K-2M</td>\n",
       "      <td>1.00</td>\n",
       "    </tr>\n",
       "    <tr>\n",
       "      <th>321353</th>\n",
       "      <td>125</td>\n",
       "      <td>2022-06-01</td>\n",
       "      <td>L</td>\n",
       "      <td>71K-2M</td>\n",
       "      <td>1.00</td>\n",
       "    </tr>\n",
       "    <tr>\n",
       "      <th>321354</th>\n",
       "      <td>125</td>\n",
       "      <td>2022-07-01</td>\n",
       "      <td>L</td>\n",
       "      <td>71K-2M</td>\n",
       "      <td>1.00</td>\n",
       "    </tr>\n",
       "    <tr>\n",
       "      <th>321355</th>\n",
       "      <td>125</td>\n",
       "      <td>2022-08-01</td>\n",
       "      <td>L</td>\n",
       "      <td>71K-2M</td>\n",
       "      <td>1.00</td>\n",
       "    </tr>\n",
       "    <tr>\n",
       "      <th>321356</th>\n",
       "      <td>125</td>\n",
       "      <td>2022-09-01</td>\n",
       "      <td>L</td>\n",
       "      <td>71K-2M</td>\n",
       "      <td>0.00</td>\n",
       "    </tr>\n",
       "  </tbody>\n",
       "</table>\n",
       "</div>"
      ],
      "text/plain": [
       "        client       date segment    tier  ativo\n",
       "321346     125 2021-11-01       L  71K-2M   1.00\n",
       "321347     125 2021-12-01       L  71K-2M   1.00\n",
       "321348     125 2022-01-01       L  71K-2M   1.00\n",
       "321349     125 2022-02-01       L  71K-2M   1.00\n",
       "321350     125 2022-03-01       L  71K-2M   1.00\n",
       "321351     125 2022-04-01       L  71K-2M   0.00\n",
       "321352     125 2022-05-01       L  71K-2M   1.00\n",
       "321353     125 2022-06-01       L  71K-2M   1.00\n",
       "321354     125 2022-07-01       L  71K-2M   1.00\n",
       "321355     125 2022-08-01       L  71K-2M   1.00\n",
       "321356     125 2022-09-01       L  71K-2M   0.00"
      ]
     },
     "execution_count": 31,
     "metadata": {},
     "output_type": "execute_result"
    }
   ],
   "source": [
    "churn_df_2 = expanded_df.drop(columns=[\"sales_volume\", \"combined\"])\n",
    "churn_df_2.query(\"client==125\")"
   ]
  },
  {
   "cell_type": "markdown",
   "metadata": {},
   "source": [
    "## Taxa de churn - Visão geral - Sem ponderação"
   ]
  },
  {
   "cell_type": "code",
   "execution_count": 32,
   "metadata": {},
   "outputs": [
    {
     "data": {
      "text/html": [
       "<div>\n",
       "<style scoped>\n",
       "    .dataframe tbody tr th:only-of-type {\n",
       "        vertical-align: middle;\n",
       "    }\n",
       "\n",
       "    .dataframe tbody tr th {\n",
       "        vertical-align: top;\n",
       "    }\n",
       "\n",
       "    .dataframe thead th {\n",
       "        text-align: right;\n",
       "    }\n",
       "</style>\n",
       "<table border=\"1\" class=\"dataframe\">\n",
       "  <thead>\n",
       "    <tr style=\"text-align: right;\">\n",
       "      <th></th>\n",
       "      <th>date</th>\n",
       "      <th>inativo_t</th>\n",
       "      <th>ativo_t</th>\n",
       "      <th>prev_ativo</th>\n",
       "      <th>churn_rate</th>\n",
       "    </tr>\n",
       "  </thead>\n",
       "  <tbody>\n",
       "    <tr>\n",
       "      <th>0</th>\n",
       "      <td>2021-02-01</td>\n",
       "      <td>608.00</td>\n",
       "      <td>6253.00</td>\n",
       "      <td>6150.00</td>\n",
       "      <td>9.89</td>\n",
       "    </tr>\n",
       "    <tr>\n",
       "      <th>1</th>\n",
       "      <td>2021-03-01</td>\n",
       "      <td>700.00</td>\n",
       "      <td>6348.00</td>\n",
       "      <td>6253.00</td>\n",
       "      <td>11.19</td>\n",
       "    </tr>\n",
       "    <tr>\n",
       "      <th>2</th>\n",
       "      <td>2021-04-01</td>\n",
       "      <td>679.00</td>\n",
       "      <td>6484.00</td>\n",
       "      <td>6348.00</td>\n",
       "      <td>10.70</td>\n",
       "    </tr>\n",
       "    <tr>\n",
       "      <th>3</th>\n",
       "      <td>2021-05-01</td>\n",
       "      <td>650.00</td>\n",
       "      <td>6675.00</td>\n",
       "      <td>6484.00</td>\n",
       "      <td>10.02</td>\n",
       "    </tr>\n",
       "    <tr>\n",
       "      <th>4</th>\n",
       "      <td>2021-06-01</td>\n",
       "      <td>666.00</td>\n",
       "      <td>6865.00</td>\n",
       "      <td>6675.00</td>\n",
       "      <td>9.98</td>\n",
       "    </tr>\n",
       "    <tr>\n",
       "      <th>5</th>\n",
       "      <td>2021-07-01</td>\n",
       "      <td>627.00</td>\n",
       "      <td>7298.00</td>\n",
       "      <td>6865.00</td>\n",
       "      <td>9.13</td>\n",
       "    </tr>\n",
       "    <tr>\n",
       "      <th>6</th>\n",
       "      <td>2021-08-01</td>\n",
       "      <td>769.00</td>\n",
       "      <td>7613.00</td>\n",
       "      <td>7298.00</td>\n",
       "      <td>10.54</td>\n",
       "    </tr>\n",
       "    <tr>\n",
       "      <th>7</th>\n",
       "      <td>2021-09-01</td>\n",
       "      <td>698.00</td>\n",
       "      <td>7958.00</td>\n",
       "      <td>7613.00</td>\n",
       "      <td>9.17</td>\n",
       "    </tr>\n",
       "    <tr>\n",
       "      <th>8</th>\n",
       "      <td>2021-10-01</td>\n",
       "      <td>721.00</td>\n",
       "      <td>8359.00</td>\n",
       "      <td>7958.00</td>\n",
       "      <td>9.06</td>\n",
       "    </tr>\n",
       "    <tr>\n",
       "      <th>9</th>\n",
       "      <td>2021-11-01</td>\n",
       "      <td>746.00</td>\n",
       "      <td>8672.00</td>\n",
       "      <td>8359.00</td>\n",
       "      <td>8.92</td>\n",
       "    </tr>\n",
       "    <tr>\n",
       "      <th>10</th>\n",
       "      <td>2021-12-01</td>\n",
       "      <td>773.00</td>\n",
       "      <td>8869.00</td>\n",
       "      <td>8672.00</td>\n",
       "      <td>8.91</td>\n",
       "    </tr>\n",
       "    <tr>\n",
       "      <th>11</th>\n",
       "      <td>2022-01-01</td>\n",
       "      <td>1093.00</td>\n",
       "      <td>8435.00</td>\n",
       "      <td>8869.00</td>\n",
       "      <td>12.32</td>\n",
       "    </tr>\n",
       "    <tr>\n",
       "      <th>12</th>\n",
       "      <td>2022-02-01</td>\n",
       "      <td>910.00</td>\n",
       "      <td>8296.00</td>\n",
       "      <td>8435.00</td>\n",
       "      <td>10.79</td>\n",
       "    </tr>\n",
       "    <tr>\n",
       "      <th>13</th>\n",
       "      <td>2022-03-01</td>\n",
       "      <td>850.00</td>\n",
       "      <td>8190.00</td>\n",
       "      <td>8296.00</td>\n",
       "      <td>10.25</td>\n",
       "    </tr>\n",
       "    <tr>\n",
       "      <th>14</th>\n",
       "      <td>2022-04-01</td>\n",
       "      <td>847.00</td>\n",
       "      <td>8051.00</td>\n",
       "      <td>8190.00</td>\n",
       "      <td>10.34</td>\n",
       "    </tr>\n",
       "    <tr>\n",
       "      <th>15</th>\n",
       "      <td>2022-05-01</td>\n",
       "      <td>755.00</td>\n",
       "      <td>8071.00</td>\n",
       "      <td>8051.00</td>\n",
       "      <td>9.38</td>\n",
       "    </tr>\n",
       "    <tr>\n",
       "      <th>16</th>\n",
       "      <td>2022-06-01</td>\n",
       "      <td>711.00</td>\n",
       "      <td>8051.00</td>\n",
       "      <td>8071.00</td>\n",
       "      <td>8.81</td>\n",
       "    </tr>\n",
       "    <tr>\n",
       "      <th>17</th>\n",
       "      <td>2022-07-01</td>\n",
       "      <td>674.00</td>\n",
       "      <td>8082.00</td>\n",
       "      <td>8051.00</td>\n",
       "      <td>8.37</td>\n",
       "    </tr>\n",
       "    <tr>\n",
       "      <th>18</th>\n",
       "      <td>2022-08-01</td>\n",
       "      <td>646.00</td>\n",
       "      <td>8176.00</td>\n",
       "      <td>8082.00</td>\n",
       "      <td>7.99</td>\n",
       "    </tr>\n",
       "    <tr>\n",
       "      <th>19</th>\n",
       "      <td>2022-09-01</td>\n",
       "      <td>760.00</td>\n",
       "      <td>8101.00</td>\n",
       "      <td>8176.00</td>\n",
       "      <td>9.30</td>\n",
       "    </tr>\n",
       "    <tr>\n",
       "      <th>20</th>\n",
       "      <td>2022-10-01</td>\n",
       "      <td>619.00</td>\n",
       "      <td>8108.00</td>\n",
       "      <td>8101.00</td>\n",
       "      <td>7.64</td>\n",
       "    </tr>\n",
       "    <tr>\n",
       "      <th>21</th>\n",
       "      <td>2022-11-01</td>\n",
       "      <td>612.00</td>\n",
       "      <td>8134.00</td>\n",
       "      <td>8108.00</td>\n",
       "      <td>7.55</td>\n",
       "    </tr>\n",
       "    <tr>\n",
       "      <th>22</th>\n",
       "      <td>2022-12-01</td>\n",
       "      <td>699.00</td>\n",
       "      <td>7785.00</td>\n",
       "      <td>8134.00</td>\n",
       "      <td>8.59</td>\n",
       "    </tr>\n",
       "  </tbody>\n",
       "</table>\n",
       "</div>"
      ],
      "text/plain": [
       "         date  inativo_t  ativo_t  prev_ativo  churn_rate\n",
       "0  2021-02-01     608.00  6253.00     6150.00        9.89\n",
       "1  2021-03-01     700.00  6348.00     6253.00       11.19\n",
       "2  2021-04-01     679.00  6484.00     6348.00       10.70\n",
       "3  2021-05-01     650.00  6675.00     6484.00       10.02\n",
       "4  2021-06-01     666.00  6865.00     6675.00        9.98\n",
       "5  2021-07-01     627.00  7298.00     6865.00        9.13\n",
       "6  2021-08-01     769.00  7613.00     7298.00       10.54\n",
       "7  2021-09-01     698.00  7958.00     7613.00        9.17\n",
       "8  2021-10-01     721.00  8359.00     7958.00        9.06\n",
       "9  2021-11-01     746.00  8672.00     8359.00        8.92\n",
       "10 2021-12-01     773.00  8869.00     8672.00        8.91\n",
       "11 2022-01-01    1093.00  8435.00     8869.00       12.32\n",
       "12 2022-02-01     910.00  8296.00     8435.00       10.79\n",
       "13 2022-03-01     850.00  8190.00     8296.00       10.25\n",
       "14 2022-04-01     847.00  8051.00     8190.00       10.34\n",
       "15 2022-05-01     755.00  8071.00     8051.00        9.38\n",
       "16 2022-06-01     711.00  8051.00     8071.00        8.81\n",
       "17 2022-07-01     674.00  8082.00     8051.00        8.37\n",
       "18 2022-08-01     646.00  8176.00     8082.00        7.99\n",
       "19 2022-09-01     760.00  8101.00     8176.00        9.30\n",
       "20 2022-10-01     619.00  8108.00     8101.00        7.64\n",
       "21 2022-11-01     612.00  8134.00     8108.00        7.55\n",
       "22 2022-12-01     699.00  7785.00     8134.00        8.59"
      ]
     },
     "execution_count": 32,
     "metadata": {},
     "output_type": "execute_result"
    }
   ],
   "source": [
    "def compute_churn_rate_overall(df):\n",
    "    # Step 1: Group by date and ativo status, then count clients\n",
    "    churn_stats = (\n",
    "        df.groupby([\"date\", \"ativo\"])[\"client\"]\n",
    "        .nunique()  # Count unique clients per date per ativo status\n",
    "        .reset_index()\n",
    "        .pivot(index=\"date\", columns=\"ativo\", values=\"client\")\n",
    "    )\n",
    "\n",
    "    churn_stats.columns = [\n",
    "        \"inativo_t\",\n",
    "        \"ativo_t\",\n",
    "    ]\n",
    "\n",
    "    # Step 2: Compute Previous Active Clients (shift ativo_t)\n",
    "    churn_stats[\"prev_ativo\"] = churn_stats[\"ativo_t\"].shift(1)\n",
    "\n",
    "    # Step 3: Compute Churn Rate (Avoid division by zero)\n",
    "    churn_stats[\"churn_rate\"] = (\n",
    "        churn_stats[\"inativo_t\"] / churn_stats[\"prev_ativo\"]\n",
    "    ) * 100\n",
    "\n",
    "    # Step 4: Drop columns churn_rate is NaN\n",
    "    churn_stats.dropna(subset=\"churn_rate\", inplace=True)\n",
    "\n",
    "    return churn_stats.reset_index()\n",
    "\n",
    "\n",
    "churn_df_overall = compute_churn_rate_overall(churn_df_2)\n",
    "churn_df_overall"
   ]
  },
  {
   "cell_type": "markdown",
   "metadata": {},
   "source": [
    "##### Gráfico Tendência Vs Volume - Visão geral"
   ]
  },
  {
   "cell_type": "code",
   "execution_count": 33,
   "metadata": {},
   "outputs": [
    {
     "data": {
      "application/vnd.plotly.v1+json": {
       "config": {
        "plotlyServerURL": "https://plot.ly"
       },
       "data": [
        {
         "customdata": [
          608,
          700,
          679,
          650,
          666,
          627,
          769,
          698,
          721,
          746,
          773,
          1093,
          910,
          850,
          847,
          755,
          711,
          674,
          646,
          760,
          619,
          612,
          699
         ],
         "hovertemplate": "<b>Date:</b> %{x}<br><b>Churn Rate:</b> %{y:.2f}%<br><b>Inactive Clients:</b> %{customdata}",
         "line": {
          "color": "red"
         },
         "mode": "lines+markers",
         "name": "Churn Rate",
         "type": "scatter",
         "x": [
          "2021-02-01T00:00:00",
          "2021-03-01T00:00:00",
          "2021-04-01T00:00:00",
          "2021-05-01T00:00:00",
          "2021-06-01T00:00:00",
          "2021-07-01T00:00:00",
          "2021-08-01T00:00:00",
          "2021-09-01T00:00:00",
          "2021-10-01T00:00:00",
          "2021-11-01T00:00:00",
          "2021-12-01T00:00:00",
          "2022-01-01T00:00:00",
          "2022-02-01T00:00:00",
          "2022-03-01T00:00:00",
          "2022-04-01T00:00:00",
          "2022-05-01T00:00:00",
          "2022-06-01T00:00:00",
          "2022-07-01T00:00:00",
          "2022-08-01T00:00:00",
          "2022-09-01T00:00:00",
          "2022-10-01T00:00:00",
          "2022-11-01T00:00:00",
          "2022-12-01T00:00:00"
         ],
         "xaxis": "x",
         "y": [
          9.886178861788618,
          11.194626579241964,
          10.696282293635791,
          10.024676125848242,
          9.97752808988764,
          9.133284777858703,
          10.537133461222254,
          9.168527518717982,
          9.060065343051017,
          8.924512501495393,
          8.913745387453874,
          12.323824557447288,
          10.78838174273859,
          10.245901639344263,
          10.34188034188034,
          9.377717053782138,
          8.809317308883656,
          8.371630853310148,
          7.993071022024252,
          9.295499021526417,
          7.64103197136156,
          7.548100641341884,
          8.593557905089746
         ],
         "yaxis": "y"
        },
        {
         "customdata": [
          9.886178861788618,
          11.194626579241964,
          10.696282293635791,
          10.024676125848242,
          9.97752808988764,
          9.133284777858703,
          10.537133461222254,
          9.168527518717982,
          9.060065343051017,
          8.924512501495393,
          8.913745387453874,
          12.323824557447288,
          10.78838174273859,
          10.245901639344263,
          10.34188034188034,
          9.377717053782138,
          8.809317308883656,
          8.371630853310148,
          7.993071022024252,
          9.295499021526417,
          7.64103197136156,
          7.548100641341884,
          8.593557905089746
         ],
         "hovertemplate": "<b>Date:</b> %{x}<br><b>Churn Rate:</b> %{y:.2f}%<br><b>Inactive Clients:</b> %{customdata}",
         "marker": {
          "color": "blue"
         },
         "name": "Inactive Clients",
         "type": "bar",
         "x": [
          "2021-02-01T00:00:00",
          "2021-03-01T00:00:00",
          "2021-04-01T00:00:00",
          "2021-05-01T00:00:00",
          "2021-06-01T00:00:00",
          "2021-07-01T00:00:00",
          "2021-08-01T00:00:00",
          "2021-09-01T00:00:00",
          "2021-10-01T00:00:00",
          "2021-11-01T00:00:00",
          "2021-12-01T00:00:00",
          "2022-01-01T00:00:00",
          "2022-02-01T00:00:00",
          "2022-03-01T00:00:00",
          "2022-04-01T00:00:00",
          "2022-05-01T00:00:00",
          "2022-06-01T00:00:00",
          "2022-07-01T00:00:00",
          "2022-08-01T00:00:00",
          "2022-09-01T00:00:00",
          "2022-10-01T00:00:00",
          "2022-11-01T00:00:00",
          "2022-12-01T00:00:00"
         ],
         "xaxis": "x2",
         "y": [
          608,
          700,
          679,
          650,
          666,
          627,
          769,
          698,
          721,
          746,
          773,
          1093,
          910,
          850,
          847,
          755,
          711,
          674,
          646,
          760,
          619,
          612,
          699
         ],
         "yaxis": "y2"
        }
       ],
       "layout": {
        "annotations": [
         {
          "font": {
           "size": 16
          },
          "showarrow": false,
          "text": "Churn Rate Over Time",
          "x": 0.5,
          "xanchor": "center",
          "xref": "paper",
          "y": 1,
          "yanchor": "bottom",
          "yref": "paper"
         },
         {
          "font": {
           "size": 16
          },
          "showarrow": false,
          "text": "Inactive Clients Over Time",
          "x": 0.5,
          "xanchor": "center",
          "xref": "paper",
          "y": 0.4,
          "yanchor": "bottom",
          "yref": "paper"
         }
        ],
        "height": 600,
        "hovermode": "x unified",
        "legend": {
         "orientation": "h",
         "x": 1.04,
         "xanchor": "right",
         "y": 1,
         "yanchor": "bottom"
        },
        "template": {
         "data": {
          "bar": [
           {
            "error_x": {
             "color": "#2a3f5f"
            },
            "error_y": {
             "color": "#2a3f5f"
            },
            "marker": {
             "line": {
              "color": "#E5ECF6",
              "width": 0.5
             },
             "pattern": {
              "fillmode": "overlay",
              "size": 10,
              "solidity": 0.2
             }
            },
            "type": "bar"
           }
          ],
          "barpolar": [
           {
            "marker": {
             "line": {
              "color": "#E5ECF6",
              "width": 0.5
             },
             "pattern": {
              "fillmode": "overlay",
              "size": 10,
              "solidity": 0.2
             }
            },
            "type": "barpolar"
           }
          ],
          "carpet": [
           {
            "aaxis": {
             "endlinecolor": "#2a3f5f",
             "gridcolor": "white",
             "linecolor": "white",
             "minorgridcolor": "white",
             "startlinecolor": "#2a3f5f"
            },
            "baxis": {
             "endlinecolor": "#2a3f5f",
             "gridcolor": "white",
             "linecolor": "white",
             "minorgridcolor": "white",
             "startlinecolor": "#2a3f5f"
            },
            "type": "carpet"
           }
          ],
          "choropleth": [
           {
            "colorbar": {
             "outlinewidth": 0,
             "ticks": ""
            },
            "type": "choropleth"
           }
          ],
          "contour": [
           {
            "colorbar": {
             "outlinewidth": 0,
             "ticks": ""
            },
            "colorscale": [
             [
              0,
              "#0d0887"
             ],
             [
              0.1111111111111111,
              "#46039f"
             ],
             [
              0.2222222222222222,
              "#7201a8"
             ],
             [
              0.3333333333333333,
              "#9c179e"
             ],
             [
              0.4444444444444444,
              "#bd3786"
             ],
             [
              0.5555555555555556,
              "#d8576b"
             ],
             [
              0.6666666666666666,
              "#ed7953"
             ],
             [
              0.7777777777777778,
              "#fb9f3a"
             ],
             [
              0.8888888888888888,
              "#fdca26"
             ],
             [
              1,
              "#f0f921"
             ]
            ],
            "type": "contour"
           }
          ],
          "contourcarpet": [
           {
            "colorbar": {
             "outlinewidth": 0,
             "ticks": ""
            },
            "type": "contourcarpet"
           }
          ],
          "heatmap": [
           {
            "colorbar": {
             "outlinewidth": 0,
             "ticks": ""
            },
            "colorscale": [
             [
              0,
              "#0d0887"
             ],
             [
              0.1111111111111111,
              "#46039f"
             ],
             [
              0.2222222222222222,
              "#7201a8"
             ],
             [
              0.3333333333333333,
              "#9c179e"
             ],
             [
              0.4444444444444444,
              "#bd3786"
             ],
             [
              0.5555555555555556,
              "#d8576b"
             ],
             [
              0.6666666666666666,
              "#ed7953"
             ],
             [
              0.7777777777777778,
              "#fb9f3a"
             ],
             [
              0.8888888888888888,
              "#fdca26"
             ],
             [
              1,
              "#f0f921"
             ]
            ],
            "type": "heatmap"
           }
          ],
          "heatmapgl": [
           {
            "colorbar": {
             "outlinewidth": 0,
             "ticks": ""
            },
            "colorscale": [
             [
              0,
              "#0d0887"
             ],
             [
              0.1111111111111111,
              "#46039f"
             ],
             [
              0.2222222222222222,
              "#7201a8"
             ],
             [
              0.3333333333333333,
              "#9c179e"
             ],
             [
              0.4444444444444444,
              "#bd3786"
             ],
             [
              0.5555555555555556,
              "#d8576b"
             ],
             [
              0.6666666666666666,
              "#ed7953"
             ],
             [
              0.7777777777777778,
              "#fb9f3a"
             ],
             [
              0.8888888888888888,
              "#fdca26"
             ],
             [
              1,
              "#f0f921"
             ]
            ],
            "type": "heatmapgl"
           }
          ],
          "histogram": [
           {
            "marker": {
             "pattern": {
              "fillmode": "overlay",
              "size": 10,
              "solidity": 0.2
             }
            },
            "type": "histogram"
           }
          ],
          "histogram2d": [
           {
            "colorbar": {
             "outlinewidth": 0,
             "ticks": ""
            },
            "colorscale": [
             [
              0,
              "#0d0887"
             ],
             [
              0.1111111111111111,
              "#46039f"
             ],
             [
              0.2222222222222222,
              "#7201a8"
             ],
             [
              0.3333333333333333,
              "#9c179e"
             ],
             [
              0.4444444444444444,
              "#bd3786"
             ],
             [
              0.5555555555555556,
              "#d8576b"
             ],
             [
              0.6666666666666666,
              "#ed7953"
             ],
             [
              0.7777777777777778,
              "#fb9f3a"
             ],
             [
              0.8888888888888888,
              "#fdca26"
             ],
             [
              1,
              "#f0f921"
             ]
            ],
            "type": "histogram2d"
           }
          ],
          "histogram2dcontour": [
           {
            "colorbar": {
             "outlinewidth": 0,
             "ticks": ""
            },
            "colorscale": [
             [
              0,
              "#0d0887"
             ],
             [
              0.1111111111111111,
              "#46039f"
             ],
             [
              0.2222222222222222,
              "#7201a8"
             ],
             [
              0.3333333333333333,
              "#9c179e"
             ],
             [
              0.4444444444444444,
              "#bd3786"
             ],
             [
              0.5555555555555556,
              "#d8576b"
             ],
             [
              0.6666666666666666,
              "#ed7953"
             ],
             [
              0.7777777777777778,
              "#fb9f3a"
             ],
             [
              0.8888888888888888,
              "#fdca26"
             ],
             [
              1,
              "#f0f921"
             ]
            ],
            "type": "histogram2dcontour"
           }
          ],
          "mesh3d": [
           {
            "colorbar": {
             "outlinewidth": 0,
             "ticks": ""
            },
            "type": "mesh3d"
           }
          ],
          "parcoords": [
           {
            "line": {
             "colorbar": {
              "outlinewidth": 0,
              "ticks": ""
             }
            },
            "type": "parcoords"
           }
          ],
          "pie": [
           {
            "automargin": true,
            "type": "pie"
           }
          ],
          "scatter": [
           {
            "fillpattern": {
             "fillmode": "overlay",
             "size": 10,
             "solidity": 0.2
            },
            "type": "scatter"
           }
          ],
          "scatter3d": [
           {
            "line": {
             "colorbar": {
              "outlinewidth": 0,
              "ticks": ""
             }
            },
            "marker": {
             "colorbar": {
              "outlinewidth": 0,
              "ticks": ""
             }
            },
            "type": "scatter3d"
           }
          ],
          "scattercarpet": [
           {
            "marker": {
             "colorbar": {
              "outlinewidth": 0,
              "ticks": ""
             }
            },
            "type": "scattercarpet"
           }
          ],
          "scattergeo": [
           {
            "marker": {
             "colorbar": {
              "outlinewidth": 0,
              "ticks": ""
             }
            },
            "type": "scattergeo"
           }
          ],
          "scattergl": [
           {
            "marker": {
             "colorbar": {
              "outlinewidth": 0,
              "ticks": ""
             }
            },
            "type": "scattergl"
           }
          ],
          "scattermapbox": [
           {
            "marker": {
             "colorbar": {
              "outlinewidth": 0,
              "ticks": ""
             }
            },
            "type": "scattermapbox"
           }
          ],
          "scatterpolar": [
           {
            "marker": {
             "colorbar": {
              "outlinewidth": 0,
              "ticks": ""
             }
            },
            "type": "scatterpolar"
           }
          ],
          "scatterpolargl": [
           {
            "marker": {
             "colorbar": {
              "outlinewidth": 0,
              "ticks": ""
             }
            },
            "type": "scatterpolargl"
           }
          ],
          "scatterternary": [
           {
            "marker": {
             "colorbar": {
              "outlinewidth": 0,
              "ticks": ""
             }
            },
            "type": "scatterternary"
           }
          ],
          "surface": [
           {
            "colorbar": {
             "outlinewidth": 0,
             "ticks": ""
            },
            "colorscale": [
             [
              0,
              "#0d0887"
             ],
             [
              0.1111111111111111,
              "#46039f"
             ],
             [
              0.2222222222222222,
              "#7201a8"
             ],
             [
              0.3333333333333333,
              "#9c179e"
             ],
             [
              0.4444444444444444,
              "#bd3786"
             ],
             [
              0.5555555555555556,
              "#d8576b"
             ],
             [
              0.6666666666666666,
              "#ed7953"
             ],
             [
              0.7777777777777778,
              "#fb9f3a"
             ],
             [
              0.8888888888888888,
              "#fdca26"
             ],
             [
              1,
              "#f0f921"
             ]
            ],
            "type": "surface"
           }
          ],
          "table": [
           {
            "cells": {
             "fill": {
              "color": "#EBF0F8"
             },
             "line": {
              "color": "white"
             }
            },
            "header": {
             "fill": {
              "color": "#C8D4E3"
             },
             "line": {
              "color": "white"
             }
            },
            "type": "table"
           }
          ]
         },
         "layout": {
          "annotationdefaults": {
           "arrowcolor": "#2a3f5f",
           "arrowhead": 0,
           "arrowwidth": 1
          },
          "autotypenumbers": "strict",
          "coloraxis": {
           "colorbar": {
            "outlinewidth": 0,
            "ticks": ""
           }
          },
          "colorscale": {
           "diverging": [
            [
             0,
             "#8e0152"
            ],
            [
             0.1,
             "#c51b7d"
            ],
            [
             0.2,
             "#de77ae"
            ],
            [
             0.3,
             "#f1b6da"
            ],
            [
             0.4,
             "#fde0ef"
            ],
            [
             0.5,
             "#f7f7f7"
            ],
            [
             0.6,
             "#e6f5d0"
            ],
            [
             0.7,
             "#b8e186"
            ],
            [
             0.8,
             "#7fbc41"
            ],
            [
             0.9,
             "#4d9221"
            ],
            [
             1,
             "#276419"
            ]
           ],
           "sequential": [
            [
             0,
             "#0d0887"
            ],
            [
             0.1111111111111111,
             "#46039f"
            ],
            [
             0.2222222222222222,
             "#7201a8"
            ],
            [
             0.3333333333333333,
             "#9c179e"
            ],
            [
             0.4444444444444444,
             "#bd3786"
            ],
            [
             0.5555555555555556,
             "#d8576b"
            ],
            [
             0.6666666666666666,
             "#ed7953"
            ],
            [
             0.7777777777777778,
             "#fb9f3a"
            ],
            [
             0.8888888888888888,
             "#fdca26"
            ],
            [
             1,
             "#f0f921"
            ]
           ],
           "sequentialminus": [
            [
             0,
             "#0d0887"
            ],
            [
             0.1111111111111111,
             "#46039f"
            ],
            [
             0.2222222222222222,
             "#7201a8"
            ],
            [
             0.3333333333333333,
             "#9c179e"
            ],
            [
             0.4444444444444444,
             "#bd3786"
            ],
            [
             0.5555555555555556,
             "#d8576b"
            ],
            [
             0.6666666666666666,
             "#ed7953"
            ],
            [
             0.7777777777777778,
             "#fb9f3a"
            ],
            [
             0.8888888888888888,
             "#fdca26"
            ],
            [
             1,
             "#f0f921"
            ]
           ]
          },
          "colorway": [
           "#636efa",
           "#EF553B",
           "#00cc96",
           "#ab63fa",
           "#FFA15A",
           "#19d3f3",
           "#FF6692",
           "#B6E880",
           "#FF97FF",
           "#FECB52"
          ],
          "font": {
           "color": "#2a3f5f"
          },
          "geo": {
           "bgcolor": "white",
           "lakecolor": "white",
           "landcolor": "#E5ECF6",
           "showlakes": true,
           "showland": true,
           "subunitcolor": "white"
          },
          "hoverlabel": {
           "align": "left"
          },
          "hovermode": "closest",
          "mapbox": {
           "style": "light"
          },
          "paper_bgcolor": "white",
          "plot_bgcolor": "#E5ECF6",
          "polar": {
           "angularaxis": {
            "gridcolor": "white",
            "linecolor": "white",
            "ticks": ""
           },
           "bgcolor": "#E5ECF6",
           "radialaxis": {
            "gridcolor": "white",
            "linecolor": "white",
            "ticks": ""
           }
          },
          "scene": {
           "xaxis": {
            "backgroundcolor": "#E5ECF6",
            "gridcolor": "white",
            "gridwidth": 2,
            "linecolor": "white",
            "showbackground": true,
            "ticks": "",
            "zerolinecolor": "white"
           },
           "yaxis": {
            "backgroundcolor": "#E5ECF6",
            "gridcolor": "white",
            "gridwidth": 2,
            "linecolor": "white",
            "showbackground": true,
            "ticks": "",
            "zerolinecolor": "white"
           },
           "zaxis": {
            "backgroundcolor": "#E5ECF6",
            "gridcolor": "white",
            "gridwidth": 2,
            "linecolor": "white",
            "showbackground": true,
            "ticks": "",
            "zerolinecolor": "white"
           }
          },
          "shapedefaults": {
           "line": {
            "color": "#2a3f5f"
           }
          },
          "ternary": {
           "aaxis": {
            "gridcolor": "white",
            "linecolor": "white",
            "ticks": ""
           },
           "baxis": {
            "gridcolor": "white",
            "linecolor": "white",
            "ticks": ""
           },
           "bgcolor": "#E5ECF6",
           "caxis": {
            "gridcolor": "white",
            "linecolor": "white",
            "ticks": ""
           }
          },
          "title": {
           "x": 0.05
          },
          "xaxis": {
           "automargin": true,
           "gridcolor": "white",
           "linecolor": "white",
           "ticks": "",
           "title": {
            "standoff": 15
           },
           "zerolinecolor": "white",
           "zerolinewidth": 2
          },
          "yaxis": {
           "automargin": true,
           "gridcolor": "white",
           "linecolor": "white",
           "ticks": "",
           "title": {
            "standoff": 15
           },
           "zerolinecolor": "white",
           "zerolinewidth": 2
          }
         }
        },
        "title": {
         "text": "Visão Geral - Churn - Taxa média: 9.52%"
        },
        "width": 900,
        "xaxis": {
         "anchor": "y",
         "domain": [
          0,
          1
         ],
         "matches": "x2",
         "showticklabels": false,
         "title": {
          "text": ""
         }
        },
        "xaxis2": {
         "anchor": "y2",
         "domain": [
          0,
          1
         ],
         "title": {
          "text": "Date"
         }
        },
        "yaxis": {
         "anchor": "x",
         "domain": [
          0.6000000000000001,
          1
         ],
         "title": {
          "text": "Churn Rate %"
         }
        },
        "yaxis2": {
         "anchor": "x2",
         "domain": [
          0,
          0.4
         ],
         "title": {
          "text": "Inactive Clients"
         }
        }
       }
      }
     },
     "metadata": {},
     "output_type": "display_data"
    }
   ],
   "source": [
    "def plot_churn_analysis(df, line_feature, bar_feature):\n",
    "    churn_df = df.copy()\n",
    "    churn_df_mean = churn_df[line_feature].mean().round(2)\n",
    "\n",
    "    # Create subplots with 2 rows and shared x-axis\n",
    "    fig = sp.make_subplots(\n",
    "        rows=2,\n",
    "        cols=1,\n",
    "        shared_xaxes=True,\n",
    "        subplot_titles=(\"Churn Rate Over Time\", \"Inactive Clients Over Time\"),\n",
    "        vertical_spacing=0.2,\n",
    "    )\n",
    "\n",
    "    # Custom hover template for both charts to show in one hover popup\n",
    "    hover_template = (\n",
    "        \"<b>Date:</b> %{x}<br>\"\n",
    "        + \"<b>Churn Rate:</b> %{y:.2f}%<br>\"\n",
    "        + \"<b>Inactive Clients:</b> %{customdata}\"\n",
    "    )\n",
    "\n",
    "    # Top chart: Churn Rate (Line plot)\n",
    "    fig.add_trace(\n",
    "        go.Scatter(\n",
    "            x=churn_df[\"date\"],\n",
    "            y=churn_df[line_feature],\n",
    "            mode=\"lines+markers\",\n",
    "            name=\"Churn Rate\",\n",
    "            line=dict(color=\"red\"),\n",
    "            customdata=churn_df[bar_feature],  # Pass inactive clients to hover\n",
    "            hovertemplate=hover_template,  # Custom hover tooltip\n",
    "        ),\n",
    "        row=1,\n",
    "        col=1,\n",
    "    )\n",
    "\n",
    "    # Bottom chart: Inactive Clients (Bar plot)\n",
    "    fig.add_trace(\n",
    "        go.Bar(\n",
    "            x=churn_df[\"date\"],\n",
    "            y=churn_df[bar_feature],\n",
    "            name=\"Inactive Clients\",\n",
    "            marker_color=\"blue\",\n",
    "            customdata=churn_df[line_feature],  # Pass churn rate to hover\n",
    "            hovertemplate=hover_template,  # Custom hover tooltip\n",
    "        ),\n",
    "        row=2,\n",
    "        col=1,\n",
    "    )\n",
    "\n",
    "    # Update layout to enable hover for both charts\n",
    "    fig.update_layout(\n",
    "        height=600,\n",
    "        width=900,\n",
    "        hovermode=\"x unified\",  # Enables synchronized hover\n",
    "        legend=dict(orientation=\"h\", yanchor=\"bottom\", y=1, xanchor=\"right\", x=1.04),\n",
    "        title_text=f\"Visão Geral - Churn - Taxa média: {churn_df_mean}%\",\n",
    "        xaxis_title=\"\",\n",
    "        yaxis_title=\"Churn Rate %\",\n",
    "        xaxis2_title=\"Date\",\n",
    "        yaxis2_title=\"Inactive Clients\",\n",
    "    )\n",
    "\n",
    "    # Show figure\n",
    "    fig.show()\n",
    "\n",
    "\n",
    "# Call function to plot\n",
    "plot_churn_analysis(churn_df_overall, \"churn_rate\", \"inativo_t\")"
   ]
  },
  {
   "cell_type": "markdown",
   "metadata": {},
   "source": [
    "#### Avaliando tendência e sazonalidade de churn_rate\n",
    "\n",
    "Para esse exercício, eu preciso de ter ao menso 2 ciclos calendários completos. Então, eu imputei um valor inicial apenas apra simular o exercício. "
   ]
  },
  {
   "cell_type": "code",
   "execution_count": 55,
   "metadata": {},
   "outputs": [],
   "source": [
    "# Ensure date column is datetime\n",
    "churn_df_overall_2 = churn_df_overall.copy()\n",
    "churn_df_overall_2[\"date\"] = pd.to_datetime(churn_df_overall_2[\"date\"])\n",
    "\n",
    "# Create a new first row with all columns\n",
    "first_row = pd.DataFrame(\n",
    "    columns=churn_df_overall_2.columns\n",
    ")  # Keep all existing columns\n",
    "first_row.loc[0] = np.nan  # Initialize with NaNs\n",
    "first_row[\"date\"] = pd.to_datetime(\"2021-01-01\")  # Set the new date\n",
    "first_row[\"churn_rate\"] = 10.75  # Set churn_rate value\n",
    "\n",
    "# Concatenate the new row at the top\n",
    "churn_df_overall_2 = pd.concat([first_row, churn_df_overall_2], ignore_index=True)\n",
    "\n",
    "# Sort by date just to be safe\n",
    "churn_df_overall_2.sort_values(\"date\", inplace=True)\n",
    "churn_df_overall_2.reset_index(drop=True, inplace=True)"
   ]
  },
  {
   "cell_type": "code",
   "execution_count": 35,
   "metadata": {},
   "outputs": [
    {
     "data": {
      "image/png": "[encoded data removed]",
      "text/plain": [
       "<Figure size 1000x400 with 2 Axes>"
      ]
     },
     "metadata": {},
     "output_type": "display_data"
    }
   ],
   "source": [
    "churn_df_overall_2.set_index(\"date\", inplace=True)\n",
    "\n",
    "# Perform seasonal decomposition (Multiplicative or Additive)\n",
    "decomposition = seasonal_decompose(\n",
    "    churn_df_overall_2[\"churn_rate\"], model=\"additive\", period=12\n",
    ")\n",
    "\n",
    "# Plot Trend and Seasonality\n",
    "fig, axes = plt.subplots(2, 1, figsize=(10, 4), sharex=True)\n",
    "\n",
    "# Trend Plot\n",
    "axes[0].plot(decomposition.trend, label=\"Trend\", color=\"red\")\n",
    "axes[0].set_title(\"Churn Rate - Trend\")\n",
    "axes[0].legend()\n",
    "\n",
    "# Seasonality Plot\n",
    "axes[1].plot(decomposition.seasonal, label=\"Seasonality\", color=\"blue\")\n",
    "axes[1].set_title(\"Churn Rate - Seasonality\")\n",
    "axes[1].legend()\n",
    "\n",
    "plt.xlabel(\"Date\")\n",
    "plt.tight_layout()\n",
    "plt.show()"
   ]
  },
  {
   "cell_type": "markdown",
   "metadata": {},
   "source": [
    "### Observações gerais:\n",
    "\n",
    "* A média geral de churn é de 9,52%;\n",
    "* Entre os anos de 2021 e 2022, houve uma redução da taxa churn $\\rightarrow$ Tendência de redução das taxas de churn\n",
    "* Sazonalidade de  churn:\n",
    "  * Maiores taxas e churn no primeiro trimestre;\n",
    "  * Existe um segundo pico entre os meses de agosto e setembr.\n",
    "\n",
    "* **Necessário identificar os sinais que levam cliente a churn**\n",
    "  * Redução seguinda em sales_volume\n",
    "  * Queda ascentuada"
   ]
  },
  {
   "cell_type": "markdown",
   "metadata": {},
   "source": [
    "### Taxa de churn - Por tier"
   ]
  },
  {
   "cell_type": "code",
   "execution_count": 40,
   "metadata": {},
   "outputs": [
    {
     "data": {
      "text/html": [
       "<div>\n",
       "<style scoped>\n",
       "    .dataframe tbody tr th:only-of-type {\n",
       "        vertical-align: middle;\n",
       "    }\n",
       "\n",
       "    .dataframe tbody tr th {\n",
       "        vertical-align: top;\n",
       "    }\n",
       "\n",
       "    .dataframe thead th {\n",
       "        text-align: right;\n",
       "    }\n",
       "</style>\n",
       "<table border=\"1\" class=\"dataframe\">\n",
       "  <thead>\n",
       "    <tr style=\"text-align: right;\">\n",
       "      <th></th>\n",
       "      <th>date</th>\n",
       "      <th>tier</th>\n",
       "      <th>inativo_t</th>\n",
       "      <th>ativo_t</th>\n",
       "      <th>prev_ativo</th>\n",
       "      <th>churn_rate</th>\n",
       "    </tr>\n",
       "  </thead>\n",
       "  <tbody>\n",
       "    <tr>\n",
       "      <th>0</th>\n",
       "      <td>2021-02-01</td>\n",
       "      <td>0-1.5</td>\n",
       "      <td>20.00</td>\n",
       "      <td>19.00</td>\n",
       "      <td>23.00</td>\n",
       "      <td>86.96</td>\n",
       "    </tr>\n",
       "    <tr>\n",
       "      <th>1</th>\n",
       "      <td>2021-02-01</td>\n",
       "      <td>1.50-500</td>\n",
       "      <td>287.00</td>\n",
       "      <td>728.00</td>\n",
       "      <td>825.00</td>\n",
       "      <td>34.79</td>\n",
       "    </tr>\n",
       "    <tr>\n",
       "      <th>2</th>\n",
       "      <td>2021-02-01</td>\n",
       "      <td>2K-4K</td>\n",
       "      <td>69.00</td>\n",
       "      <td>1350.00</td>\n",
       "      <td>1275.00</td>\n",
       "      <td>5.41</td>\n",
       "    </tr>\n",
       "    <tr>\n",
       "      <th>3</th>\n",
       "      <td>2021-02-01</td>\n",
       "      <td>4K-9K</td>\n",
       "      <td>43.00</td>\n",
       "      <td>1392.00</td>\n",
       "      <td>1334.00</td>\n",
       "      <td>3.22</td>\n",
       "    </tr>\n",
       "    <tr>\n",
       "      <th>4</th>\n",
       "      <td>2021-02-01</td>\n",
       "      <td>500-2K</td>\n",
       "      <td>158.00</td>\n",
       "      <td>1217.00</td>\n",
       "      <td>1231.00</td>\n",
       "      <td>12.84</td>\n",
       "    </tr>\n",
       "    <tr>\n",
       "      <th>...</th>\n",
       "      <td>...</td>\n",
       "      <td>...</td>\n",
       "      <td>...</td>\n",
       "      <td>...</td>\n",
       "      <td>...</td>\n",
       "      <td>...</td>\n",
       "    </tr>\n",
       "    <tr>\n",
       "      <th>156</th>\n",
       "      <td>2022-12-01</td>\n",
       "      <td>2K-4K</td>\n",
       "      <td>135.00</td>\n",
       "      <td>1555.00</td>\n",
       "      <td>1628.00</td>\n",
       "      <td>8.29</td>\n",
       "    </tr>\n",
       "    <tr>\n",
       "      <th>157</th>\n",
       "      <td>2022-12-01</td>\n",
       "      <td>4K-9K</td>\n",
       "      <td>95.00</td>\n",
       "      <td>1986.00</td>\n",
       "      <td>2049.00</td>\n",
       "      <td>4.64</td>\n",
       "    </tr>\n",
       "    <tr>\n",
       "      <th>158</th>\n",
       "      <td>2022-12-01</td>\n",
       "      <td>500-2K</td>\n",
       "      <td>191.00</td>\n",
       "      <td>1025.00</td>\n",
       "      <td>1124.00</td>\n",
       "      <td>16.99</td>\n",
       "    </tr>\n",
       "    <tr>\n",
       "      <th>159</th>\n",
       "      <td>2022-12-01</td>\n",
       "      <td>71K-2M</td>\n",
       "      <td>4.00</td>\n",
       "      <td>172.00</td>\n",
       "      <td>175.00</td>\n",
       "      <td>2.29</td>\n",
       "    </tr>\n",
       "    <tr>\n",
       "      <th>160</th>\n",
       "      <td>2022-12-01</td>\n",
       "      <td>9K-71K</td>\n",
       "      <td>80.00</td>\n",
       "      <td>2597.00</td>\n",
       "      <td>2654.00</td>\n",
       "      <td>3.01</td>\n",
       "    </tr>\n",
       "  </tbody>\n",
       "</table>\n",
       "<p>161 rows × 6 columns</p>\n",
       "</div>"
      ],
      "text/plain": [
       "          date      tier  inativo_t  ativo_t  prev_ativo  churn_rate\n",
       "0   2021-02-01     0-1.5      20.00    19.00       23.00       86.96\n",
       "1   2021-02-01  1.50-500     287.00   728.00      825.00       34.79\n",
       "2   2021-02-01     2K-4K      69.00  1350.00     1275.00        5.41\n",
       "3   2021-02-01     4K-9K      43.00  1392.00     1334.00        3.22\n",
       "4   2021-02-01    500-2K     158.00  1217.00     1231.00       12.84\n",
       "..         ...       ...        ...      ...         ...         ...\n",
       "156 2022-12-01     2K-4K     135.00  1555.00     1628.00        8.29\n",
       "157 2022-12-01     4K-9K      95.00  1986.00     2049.00        4.64\n",
       "158 2022-12-01    500-2K     191.00  1025.00     1124.00       16.99\n",
       "159 2022-12-01    71K-2M       4.00   172.00      175.00        2.29\n",
       "160 2022-12-01    9K-71K      80.00  2597.00     2654.00        3.01\n",
       "\n",
       "[161 rows x 6 columns]"
      ]
     },
     "execution_count": 40,
     "metadata": {},
     "output_type": "execute_result"
    }
   ],
   "source": [
    "def compute_churn_rate_tier(df):\n",
    "    churn_stats = (\n",
    "        df.groupby([\"date\", \"tier\", \"ativo\"])[\"client\"]\n",
    "        .nunique()  # Count unique clients per date per tier per ativo status\n",
    "        .reset_index()\n",
    "        .pivot(index=[\"date\", \"tier\"], columns=\"ativo\", values=\"client\")\n",
    "    )\n",
    "\n",
    "    # Rename columns for clarity\n",
    "    churn_stats.columns = [\"inativo_t\", \"ativo_t\"]  # 1 -> ativo_t, 0 -> inativo_t\n",
    "\n",
    "    # Step 2: Compute Previous Active Clients (shift ativo_t per tier)\n",
    "    churn_stats[\"prev_ativo\"] = churn_stats.groupby(\"tier\")[\"ativo_t\"].shift(1)\n",
    "\n",
    "    # Step 3: Compute Churn Rate (Avoid division by zero)\n",
    "    churn_stats[\"churn_rate\"] = (\n",
    "        churn_stats[\"inativo_t\"] / churn_stats[\"prev_ativo\"]\n",
    "    ) * 100\n",
    "\n",
    "    # Step 4: Drop columns churn_rate is NaN\n",
    "    churn_stats.dropna(subset=\"churn_rate\", inplace=True)\n",
    "\n",
    "    return churn_stats.reset_index()\n",
    "\n",
    "\n",
    "churn_df_tier = compute_churn_rate_tier(churn_df_2)\n",
    "churn_df_tier"
   ]
  },
  {
   "cell_type": "markdown",
   "metadata": {},
   "source": [
    "##### Gráfico Tendência Vs Volume - Por tier"
   ]
  },
  {
   "cell_type": "code",
   "execution_count": 43,
   "metadata": {},
   "outputs": [
    {
     "data": {
      "application/vnd.plotly.v1+json": {
       "config": {
        "plotlyServerURL": "https://plot.ly"
       },
       "data": [
        {
         "hoverinfo": "x+y+name",
         "hovertemplate": "tier=0-1.5<br>date=%{x}<br>churn_rate=%{y}<extra></extra>",
         "legendgroup": "0-1.5",
         "line": {
          "color": "#636efa",
          "dash": "solid",
          "shape": "linear"
         },
         "marker": {
          "symbol": "circle"
         },
         "mode": "lines+markers",
         "name": "0-1.5",
         "orientation": "v",
         "showlegend": true,
         "type": "scatter",
         "x": [
          "2021-02-01T00:00:00",
          "2021-03-01T00:00:00",
          "2021-04-01T00:00:00",
          "2021-05-01T00:00:00",
          "2021-06-01T00:00:00",
          "2021-07-01T00:00:00",
          "2021-08-01T00:00:00",
          "2021-09-01T00:00:00",
          "2021-10-01T00:00:00",
          "2021-11-01T00:00:00",
          "2021-12-01T00:00:00",
          "2022-01-01T00:00:00",
          "2022-02-01T00:00:00",
          "2022-03-01T00:00:00",
          "2022-04-01T00:00:00",
          "2022-05-01T00:00:00",
          "2022-06-01T00:00:00",
          "2022-07-01T00:00:00",
          "2022-08-01T00:00:00",
          "2022-09-01T00:00:00",
          "2022-10-01T00:00:00",
          "2022-11-01T00:00:00",
          "2022-12-01T00:00:00"
         ],
         "xaxis": "x",
         "y": [
          86.95652173913044,
          100,
          95.23809523809523,
          100,
          93.75,
          84.21052631578947,
          88.88888888888889,
          100,
          100,
          93.33333333333333,
          91.66666666666666,
          100,
          92.3076923076923,
          100,
          100,
          88.88888888888889,
          94.11764705882352,
          90.9090909090909,
          80,
          100,
          100,
          83.33333333333334,
          81.81818181818183
         ],
         "yaxis": "y"
        },
        {
         "hoverinfo": "x+y+name",
         "hovertemplate": "tier=1.50-500<br>date=%{x}<br>churn_rate=%{y}<extra></extra>",
         "legendgroup": "1.50-500",
         "line": {
          "color": "#EF553B",
          "dash": "solid",
          "shape": "linear"
         },
         "marker": {
          "symbol": "circle"
         },
         "mode": "lines+markers",
         "name": "1.50-500",
         "orientation": "v",
         "showlegend": true,
         "type": "scatter",
         "x": [
          "2021-02-01T00:00:00",
          "2021-03-01T00:00:00",
          "2021-04-01T00:00:00",
          "2021-05-01T00:00:00",
          "2021-06-01T00:00:00",
          "2021-07-01T00:00:00",
          "2021-08-01T00:00:00",
          "2021-09-01T00:00:00",
          "2021-10-01T00:00:00",
          "2021-11-01T00:00:00",
          "2021-12-01T00:00:00",
          "2022-01-01T00:00:00",
          "2022-02-01T00:00:00",
          "2022-03-01T00:00:00",
          "2022-04-01T00:00:00",
          "2022-05-01T00:00:00",
          "2022-06-01T00:00:00",
          "2022-07-01T00:00:00",
          "2022-08-01T00:00:00",
          "2022-09-01T00:00:00",
          "2022-10-01T00:00:00",
          "2022-11-01T00:00:00",
          "2022-12-01T00:00:00"
         ],
         "xaxis": "x",
         "y": [
          34.78787878787879,
          36.675824175824175,
          39,
          36.91860465116279,
          37.704918032786885,
          34.177215189873415,
          43.18507890961262,
          36.666666666666664,
          36.95652173913043,
          37.51803751803752,
          33.93103448275862,
          47.020725388601036,
          43.44827586206896,
          40.150093808630395,
          39.0625,
          40.2834008097166,
          38.398357289527716,
          34.623217922606926,
          36.47294589178357,
          40.77079107505071,
          36.43724696356275,
          38.03921568627451,
          37.52535496957404
         ],
         "yaxis": "y"
        },
        {
         "hoverinfo": "x+y+name",
         "hovertemplate": "tier=2K-4K<br>date=%{x}<br>churn_rate=%{y}<extra></extra>",
         "legendgroup": "2K-4K",
         "line": {
          "color": "#00cc96",
          "dash": "solid",
          "shape": "linear"
         },
         "marker": {
          "symbol": "circle"
         },
         "mode": "lines+markers",
         "name": "2K-4K",
         "orientation": "v",
         "showlegend": true,
         "type": "scatter",
         "x": [
          "2021-02-01T00:00:00",
          "2021-03-01T00:00:00",
          "2021-04-01T00:00:00",
          "2021-05-01T00:00:00",
          "2021-06-01T00:00:00",
          "2021-07-01T00:00:00",
          "2021-08-01T00:00:00",
          "2021-09-01T00:00:00",
          "2021-10-01T00:00:00",
          "2021-11-01T00:00:00",
          "2021-12-01T00:00:00",
          "2022-01-01T00:00:00",
          "2022-02-01T00:00:00",
          "2022-03-01T00:00:00",
          "2022-04-01T00:00:00",
          "2022-05-01T00:00:00",
          "2022-06-01T00:00:00",
          "2022-07-01T00:00:00",
          "2022-08-01T00:00:00",
          "2022-09-01T00:00:00",
          "2022-10-01T00:00:00",
          "2022-11-01T00:00:00",
          "2022-12-01T00:00:00"
         ],
         "xaxis": "x",
         "y": [
          5.411764705882352,
          8.444444444444445,
          7.028985507246377,
          7.028531663187196,
          7.543391188251001,
          6.25,
          7.621951219512195,
          7.482598607888631,
          7.310267857142858,
          7.453083109919572,
          7.950438822922044,
          9.718670076726342,
          9.350237717908081,
          8.881754949170679,
          9.313725490196079,
          8.912556053811658,
          8.745031232254401,
          7.450523864959255,
          7.472270869819031,
          8.845928529584066,
          7.451923076923077,
          6.280788177339902,
          8.292383292383294
         ],
         "yaxis": "y"
        },
        {
         "hoverinfo": "x+y+name",
         "hovertemplate": "tier=4K-9K<br>date=%{x}<br>churn_rate=%{y}<extra></extra>",
         "legendgroup": "4K-9K",
         "line": {
          "color": "#ab63fa",
          "dash": "solid",
          "shape": "linear"
         },
         "marker": {
          "symbol": "circle"
         },
         "mode": "lines+markers",
         "name": "4K-9K",
         "orientation": "v",
         "showlegend": true,
         "type": "scatter",
         "x": [
          "2021-02-01T00:00:00",
          "2021-03-01T00:00:00",
          "2021-04-01T00:00:00",
          "2021-05-01T00:00:00",
          "2021-06-01T00:00:00",
          "2021-07-01T00:00:00",
          "2021-08-01T00:00:00",
          "2021-09-01T00:00:00",
          "2021-10-01T00:00:00",
          "2021-11-01T00:00:00",
          "2021-12-01T00:00:00",
          "2022-01-01T00:00:00",
          "2022-02-01T00:00:00",
          "2022-03-01T00:00:00",
          "2022-04-01T00:00:00",
          "2022-05-01T00:00:00",
          "2022-06-01T00:00:00",
          "2022-07-01T00:00:00",
          "2022-08-01T00:00:00",
          "2022-09-01T00:00:00",
          "2022-10-01T00:00:00",
          "2022-11-01T00:00:00",
          "2022-12-01T00:00:00"
         ],
         "xaxis": "x",
         "y": [
          3.223388305847077,
          4.166666666666666,
          4.117236566643405,
          4.385964912280701,
          4.11495754408883,
          4.542626011200996,
          5.2507374631268435,
          4.287305122494432,
          4.421052631578947,
          4.55,
          5.053449951409135,
          6.223277909738718,
          6.7114093959731544,
          6.741028128031037,
          7.1779744346116034,
          5.867602808425276,
          5.682951146560319,
          5.052526263131566,
          5.044510385756676,
          5.245098039215686,
          3.776360961255518,
          4.5321637426900585,
          4.636408003904344
         ],
         "yaxis": "y"
        },
        {
         "hoverinfo": "x+y+name",
         "hovertemplate": "tier=500-2K<br>date=%{x}<br>churn_rate=%{y}<extra></extra>",
         "legendgroup": "500-2K",
         "line": {
          "color": "#FFA15A",
          "dash": "solid",
          "shape": "linear"
         },
         "marker": {
          "symbol": "circle"
         },
         "mode": "lines+markers",
         "name": "500-2K",
         "orientation": "v",
         "showlegend": true,
         "type": "scatter",
         "x": [
          "2021-02-01T00:00:00",
          "2021-03-01T00:00:00",
          "2021-04-01T00:00:00",
          "2021-05-01T00:00:00",
          "2021-06-01T00:00:00",
          "2021-07-01T00:00:00",
          "2021-08-01T00:00:00",
          "2021-09-01T00:00:00",
          "2021-10-01T00:00:00",
          "2021-11-01T00:00:00",
          "2021-12-01T00:00:00",
          "2022-01-01T00:00:00",
          "2022-02-01T00:00:00",
          "2022-03-01T00:00:00",
          "2022-04-01T00:00:00",
          "2022-05-01T00:00:00",
          "2022-06-01T00:00:00",
          "2022-07-01T00:00:00",
          "2022-08-01T00:00:00",
          "2022-09-01T00:00:00",
          "2022-10-01T00:00:00",
          "2022-11-01T00:00:00",
          "2022-12-01T00:00:00"
         ],
         "xaxis": "x",
         "y": [
          12.835093419983753,
          15.283483976992605,
          14.506927465362674,
          14.124293785310735,
          14.319620253164558,
          14.829500396510706,
          14.560862865947612,
          14.48736998514116,
          14.768552534900808,
          12.862190812720847,
          13.368983957219251,
          18.33223031105228,
          15.474452554744525,
          15.967016491754125,
          16.679596586501162,
          14.838709677419354,
          12.996688741721854,
          15.833333333333332,
          12.727272727272727,
          16.013628620102217,
          12.455516014234876,
          13.150926743159753,
          16.992882562277583
         ],
         "yaxis": "y"
        },
        {
         "hoverinfo": "x+y+name",
         "hovertemplate": "tier=71K-2M<br>date=%{x}<br>churn_rate=%{y}<extra></extra>",
         "legendgroup": "71K-2M",
         "line": {
          "color": "#19d3f3",
          "dash": "solid",
          "shape": "linear"
         },
         "marker": {
          "symbol": "circle"
         },
         "mode": "lines+markers",
         "name": "71K-2M",
         "orientation": "v",
         "showlegend": true,
         "type": "scatter",
         "x": [
          "2021-02-01T00:00:00",
          "2021-03-01T00:00:00",
          "2021-04-01T00:00:00",
          "2021-05-01T00:00:00",
          "2021-06-01T00:00:00",
          "2021-07-01T00:00:00",
          "2021-08-01T00:00:00",
          "2021-09-01T00:00:00",
          "2021-10-01T00:00:00",
          "2021-11-01T00:00:00",
          "2021-12-01T00:00:00",
          "2022-01-01T00:00:00",
          "2022-02-01T00:00:00",
          "2022-03-01T00:00:00",
          "2022-04-01T00:00:00",
          "2022-05-01T00:00:00",
          "2022-06-01T00:00:00",
          "2022-07-01T00:00:00",
          "2022-08-01T00:00:00",
          "2022-09-01T00:00:00",
          "2022-10-01T00:00:00",
          "2022-11-01T00:00:00",
          "2022-12-01T00:00:00"
         ],
         "xaxis": "x",
         "y": [
          1.6666666666666667,
          1.4705882352941175,
          1.3888888888888888,
          1.3157894736842104,
          1.1904761904761905,
          1.0752688172043012,
          0.9523809523809524,
          0.847457627118644,
          2.4193548387096775,
          2.2222222222222223,
          0.7092198581560284,
          4.666666666666667,
          2.73972602739726,
          4.10958904109589,
          4.10958904109589,
          2.6143790849673203,
          3.1446540880503147,
          0.625,
          2.3391812865497075,
          4.545454545454546,
          5.202312138728324,
          2.2857142857142856,
          2.2857142857142856
         ],
         "yaxis": "y"
        },
        {
         "hoverinfo": "x+y+name",
         "hovertemplate": "tier=9K-71K<br>date=%{x}<br>churn_rate=%{y}<extra></extra>",
         "legendgroup": "9K-71K",
         "line": {
          "color": "#FF6692",
          "dash": "solid",
          "shape": "linear"
         },
         "marker": {
          "symbol": "circle"
         },
         "mode": "lines+markers",
         "name": "9K-71K",
         "orientation": "v",
         "showlegend": true,
         "type": "scatter",
         "x": [
          "2021-02-01T00:00:00",
          "2021-03-01T00:00:00",
          "2021-04-01T00:00:00",
          "2021-05-01T00:00:00",
          "2021-06-01T00:00:00",
          "2021-07-01T00:00:00",
          "2021-08-01T00:00:00",
          "2021-09-01T00:00:00",
          "2021-10-01T00:00:00",
          "2021-11-01T00:00:00",
          "2021-12-01T00:00:00",
          "2022-01-01T00:00:00",
          "2022-02-01T00:00:00",
          "2022-03-01T00:00:00",
          "2022-04-01T00:00:00",
          "2022-05-01T00:00:00",
          "2022-06-01T00:00:00",
          "2022-07-01T00:00:00",
          "2022-08-01T00:00:00",
          "2022-09-01T00:00:00",
          "2022-10-01T00:00:00",
          "2022-11-01T00:00:00",
          "2022-12-01T00:00:00"
         ],
         "xaxis": "x",
         "y": [
          2.1398002853067046,
          3.7187288708586883,
          3.3663366336633667,
          2.9601029601029603,
          2.4829298572315333,
          2.21316249271986,
          2.6016260162601625,
          2.4217961654894045,
          2.447058823529412,
          2.5491949910554563,
          2.4750325662179766,
          4.61864406779661,
          4.814657008947592,
          4.3143955574540795,
          4.230118443316413,
          3.53386621792175,
          3.2059186189889024,
          2.9935275080906147,
          2.9856687898089174,
          3.7999224505622333,
          2.892402622445044,
          2.492331288343558,
          3.014318010550113
         ],
         "yaxis": "y"
        }
       ],
       "layout": {
        "height": 600,
        "hovermode": "x unified",
        "legend": {
         "title": {
          "text": "Segment"
         },
         "tracegroupgap": 0
        },
        "template": {
         "data": {
          "bar": [
           {
            "error_x": {
             "color": "#2a3f5f"
            },
            "error_y": {
             "color": "#2a3f5f"
            },
            "marker": {
             "line": {
              "color": "#E5ECF6",
              "width": 0.5
             },
             "pattern": {
              "fillmode": "overlay",
              "size": 10,
              "solidity": 0.2
             }
            },
            "type": "bar"
           }
          ],
          "barpolar": [
           {
            "marker": {
             "line": {
              "color": "#E5ECF6",
              "width": 0.5
             },
             "pattern": {
              "fillmode": "overlay",
              "size": 10,
              "solidity": 0.2
             }
            },
            "type": "barpolar"
           }
          ],
          "carpet": [
           {
            "aaxis": {
             "endlinecolor": "#2a3f5f",
             "gridcolor": "white",
             "linecolor": "white",
             "minorgridcolor": "white",
             "startlinecolor": "#2a3f5f"
            },
            "baxis": {
             "endlinecolor": "#2a3f5f",
             "gridcolor": "white",
             "linecolor": "white",
             "minorgridcolor": "white",
             "startlinecolor": "#2a3f5f"
            },
            "type": "carpet"
           }
          ],
          "choropleth": [
           {
            "colorbar": {
             "outlinewidth": 0,
             "ticks": ""
            },
            "type": "choropleth"
           }
          ],
          "contour": [
           {
            "colorbar": {
             "outlinewidth": 0,
             "ticks": ""
            },
            "colorscale": [
             [
              0,
              "#0d0887"
             ],
             [
              0.1111111111111111,
              "#46039f"
             ],
             [
              0.2222222222222222,
              "#7201a8"
             ],
             [
              0.3333333333333333,
              "#9c179e"
             ],
             [
              0.4444444444444444,
              "#bd3786"
             ],
             [
              0.5555555555555556,
              "#d8576b"
             ],
             [
              0.6666666666666666,
              "#ed7953"
             ],
             [
              0.7777777777777778,
              "#fb9f3a"
             ],
             [
              0.8888888888888888,
              "#fdca26"
             ],
             [
              1,
              "#f0f921"
             ]
            ],
            "type": "contour"
           }
          ],
          "contourcarpet": [
           {
            "colorbar": {
             "outlinewidth": 0,
             "ticks": ""
            },
            "type": "contourcarpet"
           }
          ],
          "heatmap": [
           {
            "colorbar": {
             "outlinewidth": 0,
             "ticks": ""
            },
            "colorscale": [
             [
              0,
              "#0d0887"
             ],
             [
              0.1111111111111111,
              "#46039f"
             ],
             [
              0.2222222222222222,
              "#7201a8"
             ],
             [
              0.3333333333333333,
              "#9c179e"
             ],
             [
              0.4444444444444444,
              "#bd3786"
             ],
             [
              0.5555555555555556,
              "#d8576b"
             ],
             [
              0.6666666666666666,
              "#ed7953"
             ],
             [
              0.7777777777777778,
              "#fb9f3a"
             ],
             [
              0.8888888888888888,
              "#fdca26"
             ],
             [
              1,
              "#f0f921"
             ]
            ],
            "type": "heatmap"
           }
          ],
          "heatmapgl": [
           {
            "colorbar": {
             "outlinewidth": 0,
             "ticks": ""
            },
            "colorscale": [
             [
              0,
              "#0d0887"
             ],
             [
              0.1111111111111111,
              "#46039f"
             ],
             [
              0.2222222222222222,
              "#7201a8"
             ],
             [
              0.3333333333333333,
              "#9c179e"
             ],
             [
              0.4444444444444444,
              "#bd3786"
             ],
             [
              0.5555555555555556,
              "#d8576b"
             ],
             [
              0.6666666666666666,
              "#ed7953"
             ],
             [
              0.7777777777777778,
              "#fb9f3a"
             ],
             [
              0.8888888888888888,
              "#fdca26"
             ],
             [
              1,
              "#f0f921"
             ]
            ],
            "type": "heatmapgl"
           }
          ],
          "histogram": [
           {
            "marker": {
             "pattern": {
              "fillmode": "overlay",
              "size": 10,
              "solidity": 0.2
             }
            },
            "type": "histogram"
           }
          ],
          "histogram2d": [
           {
            "colorbar": {
             "outlinewidth": 0,
             "ticks": ""
            },
            "colorscale": [
             [
              0,
              "#0d0887"
             ],
             [
              0.1111111111111111,
              "#46039f"
             ],
             [
              0.2222222222222222,
              "#7201a8"
             ],
             [
              0.3333333333333333,
              "#9c179e"
             ],
             [
              0.4444444444444444,
              "#bd3786"
             ],
             [
              0.5555555555555556,
              "#d8576b"
             ],
             [
              0.6666666666666666,
              "#ed7953"
             ],
             [
              0.7777777777777778,
              "#fb9f3a"
             ],
             [
              0.8888888888888888,
              "#fdca26"
             ],
             [
              1,
              "#f0f921"
             ]
            ],
            "type": "histogram2d"
           }
          ],
          "histogram2dcontour": [
           {
            "colorbar": {
             "outlinewidth": 0,
             "ticks": ""
            },
            "colorscale": [
             [
              0,
              "#0d0887"
             ],
             [
              0.1111111111111111,
              "#46039f"
             ],
             [
              0.2222222222222222,
              "#7201a8"
             ],
             [
              0.3333333333333333,
              "#9c179e"
             ],
             [
              0.4444444444444444,
              "#bd3786"
             ],
             [
              0.5555555555555556,
              "#d8576b"
             ],
             [
              0.6666666666666666,
              "#ed7953"
             ],
             [
              0.7777777777777778,
              "#fb9f3a"
             ],
             [
              0.8888888888888888,
              "#fdca26"
             ],
             [
              1,
              "#f0f921"
             ]
            ],
            "type": "histogram2dcontour"
           }
          ],
          "mesh3d": [
           {
            "colorbar": {
             "outlinewidth": 0,
             "ticks": ""
            },
            "type": "mesh3d"
           }
          ],
          "parcoords": [
           {
            "line": {
             "colorbar": {
              "outlinewidth": 0,
              "ticks": ""
             }
            },
            "type": "parcoords"
           }
          ],
          "pie": [
           {
            "automargin": true,
            "type": "pie"
           }
          ],
          "scatter": [
           {
            "fillpattern": {
             "fillmode": "overlay",
             "size": 10,
             "solidity": 0.2
            },
            "type": "scatter"
           }
          ],
          "scatter3d": [
           {
            "line": {
             "colorbar": {
              "outlinewidth": 0,
              "ticks": ""
             }
            },
            "marker": {
             "colorbar": {
              "outlinewidth": 0,
              "ticks": ""
             }
            },
            "type": "scatter3d"
           }
          ],
          "scattercarpet": [
           {
            "marker": {
             "colorbar": {
              "outlinewidth": 0,
              "ticks": ""
             }
            },
            "type": "scattercarpet"
           }
          ],
          "scattergeo": [
           {
            "marker": {
             "colorbar": {
              "outlinewidth": 0,
              "ticks": ""
             }
            },
            "type": "scattergeo"
           }
          ],
          "scattergl": [
           {
            "marker": {
             "colorbar": {
              "outlinewidth": 0,
              "ticks": ""
             }
            },
            "type": "scattergl"
           }
          ],
          "scattermapbox": [
           {
            "marker": {
             "colorbar": {
              "outlinewidth": 0,
              "ticks": ""
             }
            },
            "type": "scattermapbox"
           }
          ],
          "scatterpolar": [
           {
            "marker": {
             "colorbar": {
              "outlinewidth": 0,
              "ticks": ""
             }
            },
            "type": "scatterpolar"
           }
          ],
          "scatterpolargl": [
           {
            "marker": {
             "colorbar": {
              "outlinewidth": 0,
              "ticks": ""
             }
            },
            "type": "scatterpolargl"
           }
          ],
          "scatterternary": [
           {
            "marker": {
             "colorbar": {
              "outlinewidth": 0,
              "ticks": ""
             }
            },
            "type": "scatterternary"
           }
          ],
          "surface": [
           {
            "colorbar": {
             "outlinewidth": 0,
             "ticks": ""
            },
            "colorscale": [
             [
              0,
              "#0d0887"
             ],
             [
              0.1111111111111111,
              "#46039f"
             ],
             [
              0.2222222222222222,
              "#7201a8"
             ],
             [
              0.3333333333333333,
              "#9c179e"
             ],
             [
              0.4444444444444444,
              "#bd3786"
             ],
             [
              0.5555555555555556,
              "#d8576b"
             ],
             [
              0.6666666666666666,
              "#ed7953"
             ],
             [
              0.7777777777777778,
              "#fb9f3a"
             ],
             [
              0.8888888888888888,
              "#fdca26"
             ],
             [
              1,
              "#f0f921"
             ]
            ],
            "type": "surface"
           }
          ],
          "table": [
           {
            "cells": {
             "fill": {
              "color": "#EBF0F8"
             },
             "line": {
              "color": "white"
             }
            },
            "header": {
             "fill": {
              "color": "#C8D4E3"
             },
             "line": {
              "color": "white"
             }
            },
            "type": "table"
           }
          ]
         },
         "layout": {
          "annotationdefaults": {
           "arrowcolor": "#2a3f5f",
           "arrowhead": 0,
           "arrowwidth": 1
          },
          "autotypenumbers": "strict",
          "coloraxis": {
           "colorbar": {
            "outlinewidth": 0,
            "ticks": ""
           }
          },
          "colorscale": {
           "diverging": [
            [
             0,
             "#8e0152"
            ],
            [
             0.1,
             "#c51b7d"
            ],
            [
             0.2,
             "#de77ae"
            ],
            [
             0.3,
             "#f1b6da"
            ],
            [
             0.4,
             "#fde0ef"
            ],
            [
             0.5,
             "#f7f7f7"
            ],
            [
             0.6,
             "#e6f5d0"
            ],
            [
             0.7,
             "#b8e186"
            ],
            [
             0.8,
             "#7fbc41"
            ],
            [
             0.9,
             "#4d9221"
            ],
            [
             1,
             "#276419"
            ]
           ],
           "sequential": [
            [
             0,
             "#0d0887"
            ],
            [
             0.1111111111111111,
             "#46039f"
            ],
            [
             0.2222222222222222,
             "#7201a8"
            ],
            [
             0.3333333333333333,
             "#9c179e"
            ],
            [
             0.4444444444444444,
             "#bd3786"
            ],
            [
             0.5555555555555556,
             "#d8576b"
            ],
            [
             0.6666666666666666,
             "#ed7953"
            ],
            [
             0.7777777777777778,
             "#fb9f3a"
            ],
            [
             0.8888888888888888,
             "#fdca26"
            ],
            [
             1,
             "#f0f921"
            ]
           ],
           "sequentialminus": [
            [
             0,
             "#0d0887"
            ],
            [
             0.1111111111111111,
             "#46039f"
            ],
            [
             0.2222222222222222,
             "#7201a8"
            ],
            [
             0.3333333333333333,
             "#9c179e"
            ],
            [
             0.4444444444444444,
             "#bd3786"
            ],
            [
             0.5555555555555556,
             "#d8576b"
            ],
            [
             0.6666666666666666,
             "#ed7953"
            ],
            [
             0.7777777777777778,
             "#fb9f3a"
            ],
            [
             0.8888888888888888,
             "#fdca26"
            ],
            [
             1,
             "#f0f921"
            ]
           ]
          },
          "colorway": [
           "#636efa",
           "#EF553B",
           "#00cc96",
           "#ab63fa",
           "#FFA15A",
           "#19d3f3",
           "#FF6692",
           "#B6E880",
           "#FF97FF",
           "#FECB52"
          ],
          "font": {
           "color": "#2a3f5f"
          },
          "geo": {
           "bgcolor": "white",
           "lakecolor": "white",
           "landcolor": "#E5ECF6",
           "showlakes": true,
           "showland": true,
           "subunitcolor": "white"
          },
          "hoverlabel": {
           "align": "left"
          },
          "hovermode": "closest",
          "mapbox": {
           "style": "light"
          },
          "paper_bgcolor": "white",
          "plot_bgcolor": "#E5ECF6",
          "polar": {
           "angularaxis": {
            "gridcolor": "white",
            "linecolor": "white",
            "ticks": ""
           },
           "bgcolor": "#E5ECF6",
           "radialaxis": {
            "gridcolor": "white",
            "linecolor": "white",
            "ticks": ""
           }
          },
          "scene": {
           "xaxis": {
            "backgroundcolor": "#E5ECF6",
            "gridcolor": "white",
            "gridwidth": 2,
            "linecolor": "white",
            "showbackground": true,
            "ticks": "",
            "zerolinecolor": "white"
           },
           "yaxis": {
            "backgroundcolor": "#E5ECF6",
            "gridcolor": "white",
            "gridwidth": 2,
            "linecolor": "white",
            "showbackground": true,
            "ticks": "",
            "zerolinecolor": "white"
           },
           "zaxis": {
            "backgroundcolor": "#E5ECF6",
            "gridcolor": "white",
            "gridwidth": 2,
            "linecolor": "white",
            "showbackground": true,
            "ticks": "",
            "zerolinecolor": "white"
           }
          },
          "shapedefaults": {
           "line": {
            "color": "#2a3f5f"
           }
          },
          "ternary": {
           "aaxis": {
            "gridcolor": "white",
            "linecolor": "white",
            "ticks": ""
           },
           "baxis": {
            "gridcolor": "white",
            "linecolor": "white",
            "ticks": ""
           },
           "bgcolor": "#E5ECF6",
           "caxis": {
            "gridcolor": "white",
            "linecolor": "white",
            "ticks": ""
           }
          },
          "title": {
           "x": 0.05
          },
          "xaxis": {
           "automargin": true,
           "gridcolor": "white",
           "linecolor": "white",
           "ticks": "",
           "title": {
            "standoff": 15
           },
           "zerolinecolor": "white",
           "zerolinewidth": 2
          },
          "yaxis": {
           "automargin": true,
           "gridcolor": "white",
           "linecolor": "white",
           "ticks": "",
           "title": {
            "standoff": 15
           },
           "zerolinecolor": "white",
           "zerolinewidth": 2
          }
         }
        },
        "title": {
         "text": "Churn Rate Per Segment Over Time"
        },
        "width": 900,
        "xaxis": {
         "anchor": "y",
         "domain": [
          0,
          1
         ],
         "title": {
          "text": "Date"
         }
        },
        "yaxis": {
         "anchor": "x",
         "domain": [
          0,
          1
         ],
         "title": {
          "text": "Churn Rate (%)"
         }
        }
       }
      }
     },
     "metadata": {},
     "output_type": "display_data"
    }
   ],
   "source": [
    "def plot_churn_rate_per_tier(churn_df):\n",
    "    fig = px.line(\n",
    "        churn_df,\n",
    "        x=\"date\",\n",
    "        y=\"churn_rate\",\n",
    "        color=\"tier\",\n",
    "        title=\"Churn Rate Per Segment Over Time\",\n",
    "        markers=True,\n",
    "        line_shape=\"linear\",\n",
    "    )\n",
    "\n",
    "    # Alterar layout plotly\n",
    "    fig.update_traces(hoverinfo=\"x+y+name\")\n",
    "    fig.update_layout(\n",
    "        hovermode=\"x unified\",\n",
    "        xaxis_title=\"Date\",\n",
    "        yaxis_title=\"Churn Rate (%)\",\n",
    "        legend_title=\"Segment\",\n",
    "        height=600,\n",
    "        width=900,\n",
    "    )\n",
    "\n",
    "    fig.show()\n",
    "\n",
    "\n",
    "# Gerar gráfico\n",
    "plot_churn_rate_per_tier(churn_df_tier)"
   ]
  },
  {
   "cell_type": "markdown",
   "metadata": {},
   "source": [
    "* Observação: \n",
    "  * Note que o efeito sazonal também ocorre entre os diferentes Tiers, principalmente no primeiro trimestre. \n",
    "  * jan-2022 $\\rightarrow$ Pico de churn. Vinculado ao efeito da COVID Onicrom.\n",
    "\n",
    "#### Estatísticas consolidadas: Por tier"
   ]
  },
  {
   "cell_type": "code",
   "execution_count": 44,
   "metadata": {},
   "outputs": [
    {
     "data": {
      "text/html": [
       "<div>\n",
       "<style scoped>\n",
       "    .dataframe tbody tr th:only-of-type {\n",
       "        vertical-align: middle;\n",
       "    }\n",
       "\n",
       "    .dataframe tbody tr th {\n",
       "        vertical-align: top;\n",
       "    }\n",
       "\n",
       "    .dataframe thead th {\n",
       "        text-align: right;\n",
       "    }\n",
       "</style>\n",
       "<table border=\"1\" class=\"dataframe\">\n",
       "  <thead>\n",
       "    <tr style=\"text-align: right;\">\n",
       "      <th></th>\n",
       "      <th>churn_rate_first</th>\n",
       "      <th>churn_rate_last</th>\n",
       "      <th>churn_rate_avg</th>\n",
       "    </tr>\n",
       "    <tr>\n",
       "      <th>tier</th>\n",
       "      <th></th>\n",
       "      <th></th>\n",
       "      <th></th>\n",
       "    </tr>\n",
       "  </thead>\n",
       "  <tbody>\n",
       "    <tr>\n",
       "      <th>0-1.5</th>\n",
       "      <td>86.96</td>\n",
       "      <td>81.82</td>\n",
       "      <td>93.28</td>\n",
       "    </tr>\n",
       "    <tr>\n",
       "      <th>1.50-500</th>\n",
       "      <td>34.79</td>\n",
       "      <td>37.53</td>\n",
       "      <td>38.25</td>\n",
       "    </tr>\n",
       "    <tr>\n",
       "      <th>2K-4K</th>\n",
       "      <td>5.41</td>\n",
       "      <td>8.29</td>\n",
       "      <td>7.84</td>\n",
       "    </tr>\n",
       "    <tr>\n",
       "      <th>4K-9K</th>\n",
       "      <td>3.22</td>\n",
       "      <td>4.64</td>\n",
       "      <td>4.99</td>\n",
       "    </tr>\n",
       "    <tr>\n",
       "      <th>500-2K</th>\n",
       "      <td>12.84</td>\n",
       "      <td>16.99</td>\n",
       "      <td>14.67</td>\n",
       "    </tr>\n",
       "    <tr>\n",
       "      <th>71K-2M</th>\n",
       "      <td>1.67</td>\n",
       "      <td>2.29</td>\n",
       "      <td>2.34</td>\n",
       "    </tr>\n",
       "    <tr>\n",
       "      <th>9K-71K</th>\n",
       "      <td>2.14</td>\n",
       "      <td>3.01</td>\n",
       "      <td>3.14</td>\n",
       "    </tr>\n",
       "  </tbody>\n",
       "</table>\n",
       "</div>"
      ],
      "text/plain": [
       "          churn_rate_first  churn_rate_last  churn_rate_avg\n",
       "tier                                                       \n",
       "0-1.5                86.96            81.82           93.28\n",
       "1.50-500             34.79            37.53           38.25\n",
       "2K-4K                 5.41             8.29            7.84\n",
       "4K-9K                 3.22             4.64            4.99\n",
       "500-2K               12.84            16.99           14.67\n",
       "71K-2M                1.67             2.29            2.34\n",
       "9K-71K                2.14             3.01            3.14"
      ]
     },
     "execution_count": 44,
     "metadata": {},
     "output_type": "execute_result"
    }
   ],
   "source": [
    "stats_tier_2 = (\n",
    "    churn_df_tier.groupby([\"tier\"], as_index=True, sort=True)\n",
    "    .agg(\n",
    "        {\n",
    "            \"churn_rate\": [\"first\", \"last\", \"mean\"],\n",
    "        }\n",
    "    )\n",
    "    .round(2)\n",
    ")\n",
    "\n",
    "stats_tier_2.columns = stats_tier_2.columns.droplevel(1)\n",
    "\n",
    "stats_tier_2.columns = [\n",
    "    \"churn_rate_first\",\n",
    "    \"churn_rate_last\",\n",
    "    \"churn_rate_avg\",\n",
    "]\n",
    "\n",
    "stats_tier_2"
   ]
  },
  {
   "cell_type": "markdown",
   "metadata": {},
   "source": [
    "##### Gráfico Tendência Vs Volume"
   ]
  },
  {
   "cell_type": "code",
   "execution_count": 45,
   "metadata": {},
   "outputs": [
    {
     "data": {
      "application/vnd.plotly.v1+json": {
       "config": {
        "plotlyServerURL": "https://plot.ly"
       },
       "data": [
        {
         "hovertemplate": "<b>Date:</b> %{x}<br><b>Churn Rate:</b> %{y:.2f}%",
         "line": {
          "color": "red"
         },
         "mode": "lines+markers",
         "name": "Churn Rate",
         "type": "scatter",
         "x": [
          "2021-02-01T00:00:00",
          "2021-03-01T00:00:00",
          "2021-04-01T00:00:00",
          "2021-05-01T00:00:00",
          "2021-06-01T00:00:00",
          "2021-07-01T00:00:00",
          "2021-08-01T00:00:00",
          "2021-09-01T00:00:00",
          "2021-10-01T00:00:00",
          "2021-11-01T00:00:00",
          "2021-12-01T00:00:00",
          "2022-01-01T00:00:00",
          "2022-02-01T00:00:00",
          "2022-03-01T00:00:00",
          "2022-04-01T00:00:00",
          "2022-05-01T00:00:00",
          "2022-06-01T00:00:00",
          "2022-07-01T00:00:00",
          "2022-08-01T00:00:00",
          "2022-09-01T00:00:00",
          "2022-10-01T00:00:00",
          "2022-11-01T00:00:00",
          "2022-12-01T00:00:00"
         ],
         "xaxis": "x",
         "y": [
          5.411764705882352,
          8.444444444444445,
          7.028985507246377,
          7.028531663187196,
          7.543391188251001,
          6.25,
          7.621951219512195,
          7.482598607888631,
          7.310267857142858,
          7.453083109919572,
          7.950438822922044,
          9.718670076726342,
          9.350237717908081,
          8.881754949170679,
          9.313725490196079,
          8.912556053811658,
          8.745031232254401,
          7.450523864959255,
          7.472270869819031,
          8.845928529584066,
          7.451923076923077,
          6.280788177339902,
          8.292383292383294
         ],
         "yaxis": "y"
        },
        {
         "hovertemplate": "<b>Date:</b> %{x}<br><b>Inactive Clients:</b> %{y}",
         "marker": {
          "color": "blue"
         },
         "name": "Inactive Clients",
         "type": "bar",
         "x": [
          "2021-02-01T00:00:00",
          "2021-03-01T00:00:00",
          "2021-04-01T00:00:00",
          "2021-05-01T00:00:00",
          "2021-06-01T00:00:00",
          "2021-07-01T00:00:00",
          "2021-08-01T00:00:00",
          "2021-09-01T00:00:00",
          "2021-10-01T00:00:00",
          "2021-11-01T00:00:00",
          "2021-12-01T00:00:00",
          "2022-01-01T00:00:00",
          "2022-02-01T00:00:00",
          "2022-03-01T00:00:00",
          "2022-04-01T00:00:00",
          "2022-05-01T00:00:00",
          "2022-06-01T00:00:00",
          "2022-07-01T00:00:00",
          "2022-08-01T00:00:00",
          "2022-09-01T00:00:00",
          "2022-10-01T00:00:00",
          "2022-11-01T00:00:00",
          "2022-12-01T00:00:00"
         ],
         "xaxis": "x2",
         "y": [
          69,
          114,
          97,
          101,
          113,
          96,
          125,
          129,
          131,
          139,
          154,
          190,
          177,
          166,
          171,
          159,
          154,
          128,
          128,
          151,
          124,
          102,
          135
         ],
         "yaxis": "y2"
        }
       ],
       "layout": {
        "annotations": [
         {
          "font": {
           "size": 16
          },
          "showarrow": false,
          "text": "Churn Rate Over Time - Tier: 2K-4K",
          "x": 0.5,
          "xanchor": "center",
          "xref": "paper",
          "y": 1,
          "yanchor": "bottom",
          "yref": "paper"
         },
         {
          "font": {
           "size": 16
          },
          "showarrow": false,
          "text": "Inactive Clients Over Time",
          "x": 0.5,
          "xanchor": "center",
          "xref": "paper",
          "y": 0.4,
          "yanchor": "bottom",
          "yref": "paper"
         }
        ],
        "height": 600,
        "hovermode": "x unified",
        "legend": {
         "orientation": "h",
         "x": 1.04,
         "xanchor": "right",
         "y": 1,
         "yanchor": "bottom"
        },
        "template": {
         "data": {
          "bar": [
           {
            "error_x": {
             "color": "#2a3f5f"
            },
            "error_y": {
             "color": "#2a3f5f"
            },
            "marker": {
             "line": {
              "color": "#E5ECF6",
              "width": 0.5
             },
             "pattern": {
              "fillmode": "overlay",
              "size": 10,
              "solidity": 0.2
             }
            },
            "type": "bar"
           }
          ],
          "barpolar": [
           {
            "marker": {
             "line": {
              "color": "#E5ECF6",
              "width": 0.5
             },
             "pattern": {
              "fillmode": "overlay",
              "size": 10,
              "solidity": 0.2
             }
            },
            "type": "barpolar"
           }
          ],
          "carpet": [
           {
            "aaxis": {
             "endlinecolor": "#2a3f5f",
             "gridcolor": "white",
             "linecolor": "white",
             "minorgridcolor": "white",
             "startlinecolor": "#2a3f5f"
            },
            "baxis": {
             "endlinecolor": "#2a3f5f",
             "gridcolor": "white",
             "linecolor": "white",
             "minorgridcolor": "white",
             "startlinecolor": "#2a3f5f"
            },
            "type": "carpet"
           }
          ],
          "choropleth": [
           {
            "colorbar": {
             "outlinewidth": 0,
             "ticks": ""
            },
            "type": "choropleth"
           }
          ],
          "contour": [
           {
            "colorbar": {
             "outlinewidth": 0,
             "ticks": ""
            },
            "colorscale": [
             [
              0,
              "#0d0887"
             ],
             [
              0.1111111111111111,
              "#46039f"
             ],
             [
              0.2222222222222222,
              "#7201a8"
             ],
             [
              0.3333333333333333,
              "#9c179e"
             ],
             [
              0.4444444444444444,
              "#bd3786"
             ],
             [
              0.5555555555555556,
              "#d8576b"
             ],
             [
              0.6666666666666666,
              "#ed7953"
             ],
             [
              0.7777777777777778,
              "#fb9f3a"
             ],
             [
              0.8888888888888888,
              "#fdca26"
             ],
             [
              1,
              "#f0f921"
             ]
            ],
            "type": "contour"
           }
          ],
          "contourcarpet": [
           {
            "colorbar": {
             "outlinewidth": 0,
             "ticks": ""
            },
            "type": "contourcarpet"
           }
          ],
          "heatmap": [
           {
            "colorbar": {
             "outlinewidth": 0,
             "ticks": ""
            },
            "colorscale": [
             [
              0,
              "#0d0887"
             ],
             [
              0.1111111111111111,
              "#46039f"
             ],
             [
              0.2222222222222222,
              "#7201a8"
             ],
             [
              0.3333333333333333,
              "#9c179e"
             ],
             [
              0.4444444444444444,
              "#bd3786"
             ],
             [
              0.5555555555555556,
              "#d8576b"
             ],
             [
              0.6666666666666666,
              "#ed7953"
             ],
             [
              0.7777777777777778,
              "#fb9f3a"
             ],
             [
              0.8888888888888888,
              "#fdca26"
             ],
             [
              1,
              "#f0f921"
             ]
            ],
            "type": "heatmap"
           }
          ],
          "heatmapgl": [
           {
            "colorbar": {
             "outlinewidth": 0,
             "ticks": ""
            },
            "colorscale": [
             [
              0,
              "#0d0887"
             ],
             [
              0.1111111111111111,
              "#46039f"
             ],
             [
              0.2222222222222222,
              "#7201a8"
             ],
             [
              0.3333333333333333,
              "#9c179e"
             ],
             [
              0.4444444444444444,
              "#bd3786"
             ],
             [
              0.5555555555555556,
              "#d8576b"
             ],
             [
              0.6666666666666666,
              "#ed7953"
             ],
             [
              0.7777777777777778,
              "#fb9f3a"
             ],
             [
              0.8888888888888888,
              "#fdca26"
             ],
             [
              1,
              "#f0f921"
             ]
            ],
            "type": "heatmapgl"
           }
          ],
          "histogram": [
           {
            "marker": {
             "pattern": {
              "fillmode": "overlay",
              "size": 10,
              "solidity": 0.2
             }
            },
            "type": "histogram"
           }
          ],
          "histogram2d": [
           {
            "colorbar": {
             "outlinewidth": 0,
             "ticks": ""
            },
            "colorscale": [
             [
              0,
              "#0d0887"
             ],
             [
              0.1111111111111111,
              "#46039f"
             ],
             [
              0.2222222222222222,
              "#7201a8"
             ],
             [
              0.3333333333333333,
              "#9c179e"
             ],
             [
              0.4444444444444444,
              "#bd3786"
             ],
             [
              0.5555555555555556,
              "#d8576b"
             ],
             [
              0.6666666666666666,
              "#ed7953"
             ],
             [
              0.7777777777777778,
              "#fb9f3a"
             ],
             [
              0.8888888888888888,
              "#fdca26"
             ],
             [
              1,
              "#f0f921"
             ]
            ],
            "type": "histogram2d"
           }
          ],
          "histogram2dcontour": [
           {
            "colorbar": {
             "outlinewidth": 0,
             "ticks": ""
            },
            "colorscale": [
             [
              0,
              "#0d0887"
             ],
             [
              0.1111111111111111,
              "#46039f"
             ],
             [
              0.2222222222222222,
              "#7201a8"
             ],
             [
              0.3333333333333333,
              "#9c179e"
             ],
             [
              0.4444444444444444,
              "#bd3786"
             ],
             [
              0.5555555555555556,
              "#d8576b"
             ],
             [
              0.6666666666666666,
              "#ed7953"
             ],
             [
              0.7777777777777778,
              "#fb9f3a"
             ],
             [
              0.8888888888888888,
              "#fdca26"
             ],
             [
              1,
              "#f0f921"
             ]
            ],
            "type": "histogram2dcontour"
           }
          ],
          "mesh3d": [
           {
            "colorbar": {
             "outlinewidth": 0,
             "ticks": ""
            },
            "type": "mesh3d"
           }
          ],
          "parcoords": [
           {
            "line": {
             "colorbar": {
              "outlinewidth": 0,
              "ticks": ""
             }
            },
            "type": "parcoords"
           }
          ],
          "pie": [
           {
            "automargin": true,
            "type": "pie"
           }
          ],
          "scatter": [
           {
            "fillpattern": {
             "fillmode": "overlay",
             "size": 10,
             "solidity": 0.2
            },
            "type": "scatter"
           }
          ],
          "scatter3d": [
           {
            "line": {
             "colorbar": {
              "outlinewidth": 0,
              "ticks": ""
             }
            },
            "marker": {
             "colorbar": {
              "outlinewidth": 0,
              "ticks": ""
             }
            },
            "type": "scatter3d"
           }
          ],
          "scattercarpet": [
           {
            "marker": {
             "colorbar": {
              "outlinewidth": 0,
              "ticks": ""
             }
            },
            "type": "scattercarpet"
           }
          ],
          "scattergeo": [
           {
            "marker": {
             "colorbar": {
              "outlinewidth": 0,
              "ticks": ""
             }
            },
            "type": "scattergeo"
           }
          ],
          "scattergl": [
           {
            "marker": {
             "colorbar": {
              "outlinewidth": 0,
              "ticks": ""
             }
            },
            "type": "scattergl"
           }
          ],
          "scattermapbox": [
           {
            "marker": {
             "colorbar": {
              "outlinewidth": 0,
              "ticks": ""
             }
            },
            "type": "scattermapbox"
           }
          ],
          "scatterpolar": [
           {
            "marker": {
             "colorbar": {
              "outlinewidth": 0,
              "ticks": ""
             }
            },
            "type": "scatterpolar"
           }
          ],
          "scatterpolargl": [
           {
            "marker": {
             "colorbar": {
              "outlinewidth": 0,
              "ticks": ""
             }
            },
            "type": "scatterpolargl"
           }
          ],
          "scatterternary": [
           {
            "marker": {
             "colorbar": {
              "outlinewidth": 0,
              "ticks": ""
             }
            },
            "type": "scatterternary"
           }
          ],
          "surface": [
           {
            "colorbar": {
             "outlinewidth": 0,
             "ticks": ""
            },
            "colorscale": [
             [
              0,
              "#0d0887"
             ],
             [
              0.1111111111111111,
              "#46039f"
             ],
             [
              0.2222222222222222,
              "#7201a8"
             ],
             [
              0.3333333333333333,
              "#9c179e"
             ],
             [
              0.4444444444444444,
              "#bd3786"
             ],
             [
              0.5555555555555556,
              "#d8576b"
             ],
             [
              0.6666666666666666,
              "#ed7953"
             ],
             [
              0.7777777777777778,
              "#fb9f3a"
             ],
             [
              0.8888888888888888,
              "#fdca26"
             ],
             [
              1,
              "#f0f921"
             ]
            ],
            "type": "surface"
           }
          ],
          "table": [
           {
            "cells": {
             "fill": {
              "color": "#EBF0F8"
             },
             "line": {
              "color": "white"
             }
            },
            "header": {
             "fill": {
              "color": "#C8D4E3"
             },
             "line": {
              "color": "white"
             }
            },
            "type": "table"
           }
          ]
         },
         "layout": {
          "annotationdefaults": {
           "arrowcolor": "#2a3f5f",
           "arrowhead": 0,
           "arrowwidth": 1
          },
          "autotypenumbers": "strict",
          "coloraxis": {
           "colorbar": {
            "outlinewidth": 0,
            "ticks": ""
           }
          },
          "colorscale": {
           "diverging": [
            [
             0,
             "#8e0152"
            ],
            [
             0.1,
             "#c51b7d"
            ],
            [
             0.2,
             "#de77ae"
            ],
            [
             0.3,
             "#f1b6da"
            ],
            [
             0.4,
             "#fde0ef"
            ],
            [
             0.5,
             "#f7f7f7"
            ],
            [
             0.6,
             "#e6f5d0"
            ],
            [
             0.7,
             "#b8e186"
            ],
            [
             0.8,
             "#7fbc41"
            ],
            [
             0.9,
             "#4d9221"
            ],
            [
             1,
             "#276419"
            ]
           ],
           "sequential": [
            [
             0,
             "#0d0887"
            ],
            [
             0.1111111111111111,
             "#46039f"
            ],
            [
             0.2222222222222222,
             "#7201a8"
            ],
            [
             0.3333333333333333,
             "#9c179e"
            ],
            [
             0.4444444444444444,
             "#bd3786"
            ],
            [
             0.5555555555555556,
             "#d8576b"
            ],
            [
             0.6666666666666666,
             "#ed7953"
            ],
            [
             0.7777777777777778,
             "#fb9f3a"
            ],
            [
             0.8888888888888888,
             "#fdca26"
            ],
            [
             1,
             "#f0f921"
            ]
           ],
           "sequentialminus": [
            [
             0,
             "#0d0887"
            ],
            [
             0.1111111111111111,
             "#46039f"
            ],
            [
             0.2222222222222222,
             "#7201a8"
            ],
            [
             0.3333333333333333,
             "#9c179e"
            ],
            [
             0.4444444444444444,
             "#bd3786"
            ],
            [
             0.5555555555555556,
             "#d8576b"
            ],
            [
             0.6666666666666666,
             "#ed7953"
            ],
            [
             0.7777777777777778,
             "#fb9f3a"
            ],
            [
             0.8888888888888888,
             "#fdca26"
            ],
            [
             1,
             "#f0f921"
            ]
           ]
          },
          "colorway": [
           "#636efa",
           "#EF553B",
           "#00cc96",
           "#ab63fa",
           "#FFA15A",
           "#19d3f3",
           "#FF6692",
           "#B6E880",
           "#FF97FF",
           "#FECB52"
          ],
          "font": {
           "color": "#2a3f5f"
          },
          "geo": {
           "bgcolor": "white",
           "lakecolor": "white",
           "landcolor": "#E5ECF6",
           "showlakes": true,
           "showland": true,
           "subunitcolor": "white"
          },
          "hoverlabel": {
           "align": "left"
          },
          "hovermode": "closest",
          "mapbox": {
           "style": "light"
          },
          "paper_bgcolor": "white",
          "plot_bgcolor": "#E5ECF6",
          "polar": {
           "angularaxis": {
            "gridcolor": "white",
            "linecolor": "white",
            "ticks": ""
           },
           "bgcolor": "#E5ECF6",
           "radialaxis": {
            "gridcolor": "white",
            "linecolor": "white",
            "ticks": ""
           }
          },
          "scene": {
           "xaxis": {
            "backgroundcolor": "#E5ECF6",
            "gridcolor": "white",
            "gridwidth": 2,
            "linecolor": "white",
            "showbackground": true,
            "ticks": "",
            "zerolinecolor": "white"
           },
           "yaxis": {
            "backgroundcolor": "#E5ECF6",
            "gridcolor": "white",
            "gridwidth": 2,
            "linecolor": "white",
            "showbackground": true,
            "ticks": "",
            "zerolinecolor": "white"
           },
           "zaxis": {
            "backgroundcolor": "#E5ECF6",
            "gridcolor": "white",
            "gridwidth": 2,
            "linecolor": "white",
            "showbackground": true,
            "ticks": "",
            "zerolinecolor": "white"
           }
          },
          "shapedefaults": {
           "line": {
            "color": "#2a3f5f"
           }
          },
          "ternary": {
           "aaxis": {
            "gridcolor": "white",
            "linecolor": "white",
            "ticks": ""
           },
           "baxis": {
            "gridcolor": "white",
            "linecolor": "white",
            "ticks": ""
           },
           "bgcolor": "#E5ECF6",
           "caxis": {
            "gridcolor": "white",
            "linecolor": "white",
            "ticks": ""
           }
          },
          "title": {
           "x": 0.05
          },
          "xaxis": {
           "automargin": true,
           "gridcolor": "white",
           "linecolor": "white",
           "ticks": "",
           "title": {
            "standoff": 15
           },
           "zerolinecolor": "white",
           "zerolinewidth": 2
          },
          "yaxis": {
           "automargin": true,
           "gridcolor": "white",
           "linecolor": "white",
           "ticks": "",
           "title": {
            "standoff": 15
           },
           "zerolinecolor": "white",
           "zerolinewidth": 2
          }
         }
        },
        "title": {
         "text": "Churn Analysis - Tier: 2K-4K (Avg Churn: 7.84%)"
        },
        "width": 900,
        "xaxis": {
         "anchor": "y",
         "domain": [
          0,
          1
         ],
         "matches": "x2",
         "showticklabels": false,
         "title": {
          "text": ""
         }
        },
        "xaxis2": {
         "anchor": "y2",
         "domain": [
          0,
          1
         ],
         "title": {
          "text": "Date"
         }
        },
        "yaxis": {
         "anchor": "x",
         "domain": [
          0.6000000000000001,
          1
         ],
         "title": {
          "text": "Churn Rate (%)"
         }
        },
        "yaxis2": {
         "anchor": "x2",
         "domain": [
          0,
          0.4
         ],
         "title": {
          "text": "Inactive Clients"
         }
        }
       }
      }
     },
     "metadata": {},
     "output_type": "display_data"
    }
   ],
   "source": [
    "def plot_churn_analysis_tier(df, tier, line_feature, bar_feature):\n",
    "    # Filter dataset by the selected tier\n",
    "    churn_df = df[df[\"tier\"] == tier].copy()\n",
    "\n",
    "    # Ensure 'date' is in datetime format for proper plotting\n",
    "    churn_df[\"date\"] = pd.to_datetime(churn_df[\"date\"])\n",
    "\n",
    "    # Compute mean churn rate for the title\n",
    "    churn_df_mean = churn_df[line_feature].mean().round(2)\n",
    "\n",
    "    # Create subplots with 2 rows and shared x-axis\n",
    "    fig = sp.make_subplots(\n",
    "        rows=2,\n",
    "        cols=1,\n",
    "        shared_xaxes=True,\n",
    "        subplot_titles=(\n",
    "            f\"Churn Rate Over Time - Tier: {tier}\",\n",
    "            \"Inactive Clients Over Time\",\n",
    "        ),\n",
    "        vertical_spacing=0.2,\n",
    "    )\n",
    "\n",
    "    # Custom hover templates (separate for each chart)\n",
    "    hover_template_line = \"<b>Date:</b> %{x}<br>\" \"<b>Churn Rate:</b> %{y:.2f}%\"\n",
    "\n",
    "    hover_template_bar = \"<b>Date:</b> %{x}<br>\" \"<b>Inactive Clients:</b> %{y}\"\n",
    "\n",
    "    # Top chart: Churn Rate (Line plot)\n",
    "    fig.add_trace(\n",
    "        go.Scatter(\n",
    "            x=churn_df[\"date\"],\n",
    "            y=churn_df[line_feature],\n",
    "            mode=\"lines+markers\",\n",
    "            name=\"Churn Rate\",\n",
    "            line=dict(color=\"red\"),\n",
    "            hovertemplate=hover_template_line,  # Corrected hover template for line plot\n",
    "        ),\n",
    "        row=1,\n",
    "        col=1,\n",
    "    )\n",
    "\n",
    "    # Bottom chart: Inactive Clients (Bar plot)\n",
    "    fig.add_trace(\n",
    "        go.Bar(\n",
    "            x=churn_df[\"date\"],\n",
    "            y=churn_df[bar_feature],\n",
    "            name=\"Inactive Clients\",\n",
    "            marker_color=\"blue\",\n",
    "            hovertemplate=hover_template_bar,  # Corrected hover template for bar plot\n",
    "        ),\n",
    "        row=2,\n",
    "        col=1,\n",
    "    )\n",
    "\n",
    "    # Update layout for better visualization\n",
    "    fig.update_layout(\n",
    "        height=600,\n",
    "        width=900,\n",
    "        hovermode=\"x unified\",  # Enables synchronized hover\n",
    "        legend=dict(orientation=\"h\", yanchor=\"bottom\", y=1, xanchor=\"right\", x=1.04),\n",
    "        title_text=f\"Churn Analysis - Tier: {tier} (Avg Churn: {churn_df_mean}%)\",\n",
    "        xaxis_title=\"\",\n",
    "        yaxis_title=\"Churn Rate (%)\",\n",
    "        xaxis2_title=\"Date\",\n",
    "        yaxis2_title=\"Inactive Clients\",\n",
    "    )\n",
    "\n",
    "    # Show figure\n",
    "    fig.show()\n",
    "\n",
    "\n",
    "# tier = \"0-1.5 \"\n",
    "\n",
    "tier = \"2K-4K\"\n",
    "\n",
    "plot_churn_analysis_tier(churn_df_tier, \"2K-4K\", \"churn_rate\", \"inativo_t\")"
   ]
  },
  {
   "cell_type": "markdown",
   "metadata": {},
   "source": [
    "* Note que a taxa de churn varia bastante entre os diversos tiers, o que pode levar a uma interpetação equivocada da taxa de churn geral;\n",
    "* Necessário ponderar as taxas peo clients_share de cada grupo no período analisado"
   ]
  },
  {
   "cell_type": "markdown",
   "metadata": {},
   "source": [
    "### Taxa de churn geral ponderada por market share\n",
    "\n",
    "#### Passo 1: Computar total de clientes por dia e tier"
   ]
  },
  {
   "cell_type": "code",
   "execution_count": null,
   "metadata": {},
   "outputs": [],
   "source": [
    "stats_tier_date = (\n",
    "    churn_df_2.groupby([\"date\", \"tier\"], as_index=True, sort=True)\n",
    "    .agg(\n",
    "        {\n",
    "            \"client\": [\"nunique\"],\n",
    "        }\n",
    "    )\n",
    "    .round(2)\n",
    ")\n",
    "\n",
    "stats_tier_date.columns = stats_tier_date.columns.droplevel(1)\n",
    "\n",
    "stats_tier_date.columns = [\n",
    "    \"#_clients_tier_date\",\n",
    "]\n",
    "\n",
    "stats_tier_date.reset_index(inplace=True)\n",
    "\n",
    "stats_tier_date\n",
    "\n",
    "stats_date = (\n",
    "    churn_df_2.groupby([\"date\"], as_index=True, sort=True)\n",
    "    .agg(\n",
    "        {\n",
    "            \"client\": [\"nunique\"],\n",
    "        }\n",
    "    )\n",
    "    .round(2)\n",
    ")\n",
    "\n",
    "stats_date.columns = stats_date.columns.droplevel(1)\n",
    "\n",
    "stats_date.columns = [\n",
    "    \"#_clients_all_date\",\n",
    "]\n",
    "\n",
    "stats_date.reset_index(inplace=True)"
   ]
  },
  {
   "cell_type": "markdown",
   "metadata": {},
   "source": [
    "#### Passo 2: Calcular market share por tier"
   ]
  },
  {
   "cell_type": "code",
   "execution_count": 49,
   "metadata": {},
   "outputs": [
    {
     "data": {
      "text/html": [
       "<div>\n",
       "<style scoped>\n",
       "    .dataframe tbody tr th:only-of-type {\n",
       "        vertical-align: middle;\n",
       "    }\n",
       "\n",
       "    .dataframe tbody tr th {\n",
       "        vertical-align: top;\n",
       "    }\n",
       "\n",
       "    .dataframe thead th {\n",
       "        text-align: right;\n",
       "    }\n",
       "</style>\n",
       "<table border=\"1\" class=\"dataframe\">\n",
       "  <thead>\n",
       "    <tr style=\"text-align: right;\">\n",
       "      <th></th>\n",
       "      <th>date</th>\n",
       "      <th>tier</th>\n",
       "      <th>#_clients_tier_date</th>\n",
       "      <th>#_clients_all_date</th>\n",
       "      <th>share_tier_date</th>\n",
       "    </tr>\n",
       "  </thead>\n",
       "  <tbody>\n",
       "    <tr>\n",
       "      <th>0</th>\n",
       "      <td>2021-01-01</td>\n",
       "      <td>0-1.5</td>\n",
       "      <td>23</td>\n",
       "      <td>6150</td>\n",
       "      <td>0.37</td>\n",
       "    </tr>\n",
       "    <tr>\n",
       "      <th>1</th>\n",
       "      <td>2021-01-01</td>\n",
       "      <td>1.50-500</td>\n",
       "      <td>825</td>\n",
       "      <td>6150</td>\n",
       "      <td>13.41</td>\n",
       "    </tr>\n",
       "    <tr>\n",
       "      <th>2</th>\n",
       "      <td>2021-01-01</td>\n",
       "      <td>2K-4K</td>\n",
       "      <td>1275</td>\n",
       "      <td>6150</td>\n",
       "      <td>20.73</td>\n",
       "    </tr>\n",
       "    <tr>\n",
       "      <th>3</th>\n",
       "      <td>2021-01-01</td>\n",
       "      <td>4K-9K</td>\n",
       "      <td>1334</td>\n",
       "      <td>6150</td>\n",
       "      <td>21.69</td>\n",
       "    </tr>\n",
       "    <tr>\n",
       "      <th>4</th>\n",
       "      <td>2021-01-01</td>\n",
       "      <td>500-2K</td>\n",
       "      <td>1231</td>\n",
       "      <td>6150</td>\n",
       "      <td>20.02</td>\n",
       "    </tr>\n",
       "    <tr>\n",
       "      <th>...</th>\n",
       "      <td>...</td>\n",
       "      <td>...</td>\n",
       "      <td>...</td>\n",
       "      <td>...</td>\n",
       "      <td>...</td>\n",
       "    </tr>\n",
       "    <tr>\n",
       "      <th>163</th>\n",
       "      <td>2022-12-01</td>\n",
       "      <td>2K-4K</td>\n",
       "      <td>1690</td>\n",
       "      <td>8484</td>\n",
       "      <td>19.92</td>\n",
       "    </tr>\n",
       "    <tr>\n",
       "      <th>164</th>\n",
       "      <td>2022-12-01</td>\n",
       "      <td>4K-9K</td>\n",
       "      <td>2081</td>\n",
       "      <td>8484</td>\n",
       "      <td>24.53</td>\n",
       "    </tr>\n",
       "    <tr>\n",
       "      <th>165</th>\n",
       "      <td>2022-12-01</td>\n",
       "      <td>500-2K</td>\n",
       "      <td>1216</td>\n",
       "      <td>8484</td>\n",
       "      <td>14.33</td>\n",
       "    </tr>\n",
       "    <tr>\n",
       "      <th>166</th>\n",
       "      <td>2022-12-01</td>\n",
       "      <td>71K-2M</td>\n",
       "      <td>176</td>\n",
       "      <td>8484</td>\n",
       "      <td>2.07</td>\n",
       "    </tr>\n",
       "    <tr>\n",
       "      <th>167</th>\n",
       "      <td>2022-12-01</td>\n",
       "      <td>9K-71K</td>\n",
       "      <td>2677</td>\n",
       "      <td>8484</td>\n",
       "      <td>31.55</td>\n",
       "    </tr>\n",
       "  </tbody>\n",
       "</table>\n",
       "<p>168 rows × 5 columns</p>\n",
       "</div>"
      ],
      "text/plain": [
       "          date      tier  #_clients_tier_date  #_clients_all_date  \\\n",
       "0   2021-01-01     0-1.5                   23                6150   \n",
       "1   2021-01-01  1.50-500                  825                6150   \n",
       "2   2021-01-01     2K-4K                 1275                6150   \n",
       "3   2021-01-01     4K-9K                 1334                6150   \n",
       "4   2021-01-01    500-2K                 1231                6150   \n",
       "..         ...       ...                  ...                 ...   \n",
       "163 2022-12-01     2K-4K                 1690                8484   \n",
       "164 2022-12-01     4K-9K                 2081                8484   \n",
       "165 2022-12-01    500-2K                 1216                8484   \n",
       "166 2022-12-01    71K-2M                  176                8484   \n",
       "167 2022-12-01    9K-71K                 2677                8484   \n",
       "\n",
       "     share_tier_date  \n",
       "0               0.37  \n",
       "1              13.41  \n",
       "2              20.73  \n",
       "3              21.69  \n",
       "4              20.02  \n",
       "..               ...  \n",
       "163            19.92  \n",
       "164            24.53  \n",
       "165            14.33  \n",
       "166             2.07  \n",
       "167            31.55  \n",
       "\n",
       "[168 rows x 5 columns]"
      ]
     },
     "execution_count": 49,
     "metadata": {},
     "output_type": "execute_result"
    }
   ],
   "source": [
    "stats_tier_full = stats_tier_date.merge(stats_date, on=\"date\", how=\"inner\")\n",
    "stats_tier_full[\"share_tier_date\"] = (\n",
    "    stats_tier_full[\"#_clients_tier_date\"] / stats_tier_full[\"#_clients_all_date\"] * 100\n",
    ")\n",
    "stats_tier_full"
   ]
  },
  {
   "cell_type": "code",
   "execution_count": 50,
   "metadata": {},
   "outputs": [
    {
     "data": {
      "text/html": [
       "<div>\n",
       "<style scoped>\n",
       "    .dataframe tbody tr th:only-of-type {\n",
       "        vertical-align: middle;\n",
       "    }\n",
       "\n",
       "    .dataframe tbody tr th {\n",
       "        vertical-align: top;\n",
       "    }\n",
       "\n",
       "    .dataframe thead th {\n",
       "        text-align: right;\n",
       "    }\n",
       "</style>\n",
       "<table border=\"1\" class=\"dataframe\">\n",
       "  <thead>\n",
       "    <tr style=\"text-align: right;\">\n",
       "      <th></th>\n",
       "      <th>date</th>\n",
       "      <th>tier</th>\n",
       "      <th>inativo_t</th>\n",
       "      <th>ativo_t</th>\n",
       "      <th>prev_ativo</th>\n",
       "      <th>churn_rate</th>\n",
       "      <th>#_clients_tier_date</th>\n",
       "      <th>#_clients_all_date</th>\n",
       "      <th>share_tier_date</th>\n",
       "    </tr>\n",
       "  </thead>\n",
       "  <tbody>\n",
       "    <tr>\n",
       "      <th>0</th>\n",
       "      <td>2021-02-01</td>\n",
       "      <td>0-1.5</td>\n",
       "      <td>20.00</td>\n",
       "      <td>19.00</td>\n",
       "      <td>23.00</td>\n",
       "      <td>86.96</td>\n",
       "      <td>39</td>\n",
       "      <td>6861</td>\n",
       "      <td>0.57</td>\n",
       "    </tr>\n",
       "    <tr>\n",
       "      <th>1</th>\n",
       "      <td>2021-02-01</td>\n",
       "      <td>1.50-500</td>\n",
       "      <td>287.00</td>\n",
       "      <td>728.00</td>\n",
       "      <td>825.00</td>\n",
       "      <td>34.79</td>\n",
       "      <td>1015</td>\n",
       "      <td>6861</td>\n",
       "      <td>14.79</td>\n",
       "    </tr>\n",
       "    <tr>\n",
       "      <th>2</th>\n",
       "      <td>2021-02-01</td>\n",
       "      <td>2K-4K</td>\n",
       "      <td>69.00</td>\n",
       "      <td>1350.00</td>\n",
       "      <td>1275.00</td>\n",
       "      <td>5.41</td>\n",
       "      <td>1419</td>\n",
       "      <td>6861</td>\n",
       "      <td>20.68</td>\n",
       "    </tr>\n",
       "    <tr>\n",
       "      <th>3</th>\n",
       "      <td>2021-02-01</td>\n",
       "      <td>4K-9K</td>\n",
       "      <td>43.00</td>\n",
       "      <td>1392.00</td>\n",
       "      <td>1334.00</td>\n",
       "      <td>3.22</td>\n",
       "      <td>1435</td>\n",
       "      <td>6861</td>\n",
       "      <td>20.92</td>\n",
       "    </tr>\n",
       "    <tr>\n",
       "      <th>4</th>\n",
       "      <td>2021-02-01</td>\n",
       "      <td>500-2K</td>\n",
       "      <td>158.00</td>\n",
       "      <td>1217.00</td>\n",
       "      <td>1231.00</td>\n",
       "      <td>12.84</td>\n",
       "      <td>1375</td>\n",
       "      <td>6861</td>\n",
       "      <td>20.04</td>\n",
       "    </tr>\n",
       "    <tr>\n",
       "      <th>5</th>\n",
       "      <td>2021-02-01</td>\n",
       "      <td>71K-2M</td>\n",
       "      <td>1.00</td>\n",
       "      <td>68.00</td>\n",
       "      <td>60.00</td>\n",
       "      <td>1.67</td>\n",
       "      <td>69</td>\n",
       "      <td>6861</td>\n",
       "      <td>1.01</td>\n",
       "    </tr>\n",
       "    <tr>\n",
       "      <th>6</th>\n",
       "      <td>2021-02-01</td>\n",
       "      <td>9K-71K</td>\n",
       "      <td>30.00</td>\n",
       "      <td>1479.00</td>\n",
       "      <td>1402.00</td>\n",
       "      <td>2.14</td>\n",
       "      <td>1509</td>\n",
       "      <td>6861</td>\n",
       "      <td>21.99</td>\n",
       "    </tr>\n",
       "  </tbody>\n",
       "</table>\n",
       "</div>"
      ],
      "text/plain": [
       "        date      tier  inativo_t  ativo_t  prev_ativo  churn_rate  \\\n",
       "0 2021-02-01     0-1.5      20.00    19.00       23.00       86.96   \n",
       "1 2021-02-01  1.50-500     287.00   728.00      825.00       34.79   \n",
       "2 2021-02-01     2K-4K      69.00  1350.00     1275.00        5.41   \n",
       "3 2021-02-01     4K-9K      43.00  1392.00     1334.00        3.22   \n",
       "4 2021-02-01    500-2K     158.00  1217.00     1231.00       12.84   \n",
       "5 2021-02-01    71K-2M       1.00    68.00       60.00        1.67   \n",
       "6 2021-02-01    9K-71K      30.00  1479.00     1402.00        2.14   \n",
       "\n",
       "   #_clients_tier_date  #_clients_all_date  share_tier_date  \n",
       "0                   39                6861             0.57  \n",
       "1                 1015                6861            14.79  \n",
       "2                 1419                6861            20.68  \n",
       "3                 1435                6861            20.92  \n",
       "4                 1375                6861            20.04  \n",
       "5                   69                6861             1.01  \n",
       "6                 1509                6861            21.99  "
      ]
     },
     "execution_count": 50,
     "metadata": {},
     "output_type": "execute_result"
    }
   ],
   "source": [
    "churn_df_w = churn_df_tier.merge(stats_tier_full, on=[\"date\", \"tier\"], how=\"left\")\n",
    "\n",
    "churn_df_w.head(7)"
   ]
  },
  {
   "cell_type": "markdown",
   "metadata": {},
   "source": [
    "#### Passo 3: Calcular taxa geral de churn ponderada por market share"
   ]
  },
  {
   "cell_type": "code",
   "execution_count": 51,
   "metadata": {},
   "outputs": [],
   "source": [
    "weighted_churn_rate_df = (\n",
    "    churn_df_w.groupby(\"date\")\n",
    "    .apply(\n",
    "        lambda x: ((x[\"churn_rate\"] / 100) * (x[\"share_tier_date\"] / 100)).sum() * 100\n",
    "    )  # Convert back to percentage\n",
    "    .reset_index(name=\"churn_rate_weighted\")\n",
    ")"
   ]
  },
  {
   "cell_type": "markdown",
   "metadata": {},
   "source": [
    "##### Gráfico Taxa Churn - Visão geral Ponderada "
   ]
  },
  {
   "cell_type": "code",
   "execution_count": 54,
   "metadata": {},
   "outputs": [
    {
     "data": {
      "application/vnd.plotly.v1+json": {
       "config": {
        "plotlyServerURL": "https://plot.ly"
       },
       "data": [
        {
         "line": {
          "color": "red"
         },
         "mode": "lines+markers",
         "name": "Original Churn Rate",
         "type": "scatter",
         "x": [
          "2021-02-01T00:00:00",
          "2021-03-01T00:00:00",
          "2021-04-01T00:00:00",
          "2021-05-01T00:00:00",
          "2021-06-01T00:00:00",
          "2021-07-01T00:00:00",
          "2021-08-01T00:00:00",
          "2021-09-01T00:00:00",
          "2021-10-01T00:00:00",
          "2021-11-01T00:00:00",
          "2021-12-01T00:00:00",
          "2022-01-01T00:00:00",
          "2022-02-01T00:00:00",
          "2022-03-01T00:00:00",
          "2022-04-01T00:00:00",
          "2022-05-01T00:00:00",
          "2022-06-01T00:00:00",
          "2022-07-01T00:00:00",
          "2022-08-01T00:00:00",
          "2022-09-01T00:00:00",
          "2022-10-01T00:00:00",
          "2022-11-01T00:00:00",
          "2022-12-01T00:00:00"
         ],
         "y": [
          9.886178861788618,
          11.194626579241964,
          10.696282293635791,
          10.024676125848242,
          9.97752808988764,
          9.133284777858703,
          10.537133461222254,
          9.168527518717982,
          9.060065343051017,
          8.924512501495393,
          8.913745387453874,
          12.323824557447288,
          10.78838174273859,
          10.245901639344263,
          10.34188034188034,
          9.377717053782138,
          8.809317308883656,
          8.371630853310148,
          7.993071022024252,
          9.295499021526417,
          7.64103197136156,
          7.548100641341884,
          8.593557905089746
         ]
        },
        {
         "line": {
          "color": "blue"
         },
         "mode": "lines+markers",
         "name": "Weighted Churn Rate",
         "type": "scatter",
         "x": [
          "2021-02-01T00:00:00",
          "2021-03-01T00:00:00",
          "2021-04-01T00:00:00",
          "2021-05-01T00:00:00",
          "2021-06-01T00:00:00",
          "2021-07-01T00:00:00",
          "2021-08-01T00:00:00",
          "2021-09-01T00:00:00",
          "2021-10-01T00:00:00",
          "2021-11-01T00:00:00",
          "2021-12-01T00:00:00",
          "2022-01-01T00:00:00",
          "2022-02-01T00:00:00",
          "2022-03-01T00:00:00",
          "2022-04-01T00:00:00",
          "2022-05-01T00:00:00",
          "2022-06-01T00:00:00",
          "2022-07-01T00:00:00",
          "2022-08-01T00:00:00",
          "2022-09-01T00:00:00",
          "2022-10-01T00:00:00",
          "2022-11-01T00:00:00",
          "2022-12-01T00:00:00"
         ],
         "y": [
          10.49381573197291,
          12.17868077553024,
          11.63465348930241,
          10.939238621020863,
          10.754307336767294,
          10.000187975789043,
          11.31887716137269,
          9.905759063555552,
          9.990089484424566,
          9.827069496789457,
          9.739775667453452,
          12.96516730583271,
          11.545591374025191,
          10.93148196786531,
          11.000091559720202,
          10.129394119150183,
          9.505193332323305,
          8.973119891466402,
          8.557463346386502,
          10.134887688441092,
          8.33974424034604,
          8.228544953994446,
          9.155170541548092
         ]
        }
       ],
       "layout": {
        "height": 500,
        "hovermode": "x unified",
        "legend": {
         "orientation": "h",
         "x": 1,
         "xanchor": "right",
         "y": 1,
         "yanchor": "bottom"
        },
        "template": {
         "data": {
          "bar": [
           {
            "error_x": {
             "color": "#2a3f5f"
            },
            "error_y": {
             "color": "#2a3f5f"
            },
            "marker": {
             "line": {
              "color": "#E5ECF6",
              "width": 0.5
             },
             "pattern": {
              "fillmode": "overlay",
              "size": 10,
              "solidity": 0.2
             }
            },
            "type": "bar"
           }
          ],
          "barpolar": [
           {
            "marker": {
             "line": {
              "color": "#E5ECF6",
              "width": 0.5
             },
             "pattern": {
              "fillmode": "overlay",
              "size": 10,
              "solidity": 0.2
             }
            },
            "type": "barpolar"
           }
          ],
          "carpet": [
           {
            "aaxis": {
             "endlinecolor": "#2a3f5f",
             "gridcolor": "white",
             "linecolor": "white",
             "minorgridcolor": "white",
             "startlinecolor": "#2a3f5f"
            },
            "baxis": {
             "endlinecolor": "#2a3f5f",
             "gridcolor": "white",
             "linecolor": "white",
             "minorgridcolor": "white",
             "startlinecolor": "#2a3f5f"
            },
            "type": "carpet"
           }
          ],
          "choropleth": [
           {
            "colorbar": {
             "outlinewidth": 0,
             "ticks": ""
            },
            "type": "choropleth"
           }
          ],
          "contour": [
           {
            "colorbar": {
             "outlinewidth": 0,
             "ticks": ""
            },
            "colorscale": [
             [
              0,
              "#0d0887"
             ],
             [
              0.1111111111111111,
              "#46039f"
             ],
             [
              0.2222222222222222,
              "#7201a8"
             ],
             [
              0.3333333333333333,
              "#9c179e"
             ],
             [
              0.4444444444444444,
              "#bd3786"
             ],
             [
              0.5555555555555556,
              "#d8576b"
             ],
             [
              0.6666666666666666,
              "#ed7953"
             ],
             [
              0.7777777777777778,
              "#fb9f3a"
             ],
             [
              0.8888888888888888,
              "#fdca26"
             ],
             [
              1,
              "#f0f921"
             ]
            ],
            "type": "contour"
           }
          ],
          "contourcarpet": [
           {
            "colorbar": {
             "outlinewidth": 0,
             "ticks": ""
            },
            "type": "contourcarpet"
           }
          ],
          "heatmap": [
           {
            "colorbar": {
             "outlinewidth": 0,
             "ticks": ""
            },
            "colorscale": [
             [
              0,
              "#0d0887"
             ],
             [
              0.1111111111111111,
              "#46039f"
             ],
             [
              0.2222222222222222,
              "#7201a8"
             ],
             [
              0.3333333333333333,
              "#9c179e"
             ],
             [
              0.4444444444444444,
              "#bd3786"
             ],
             [
              0.5555555555555556,
              "#d8576b"
             ],
             [
              0.6666666666666666,
              "#ed7953"
             ],
             [
              0.7777777777777778,
              "#fb9f3a"
             ],
             [
              0.8888888888888888,
              "#fdca26"
             ],
             [
              1,
              "#f0f921"
             ]
            ],
            "type": "heatmap"
           }
          ],
          "heatmapgl": [
           {
            "colorbar": {
             "outlinewidth": 0,
             "ticks": ""
            },
            "colorscale": [
             [
              0,
              "#0d0887"
             ],
             [
              0.1111111111111111,
              "#46039f"
             ],
             [
              0.2222222222222222,
              "#7201a8"
             ],
             [
              0.3333333333333333,
              "#9c179e"
             ],
             [
              0.4444444444444444,
              "#bd3786"
             ],
             [
              0.5555555555555556,
              "#d8576b"
             ],
             [
              0.6666666666666666,
              "#ed7953"
             ],
             [
              0.7777777777777778,
              "#fb9f3a"
             ],
             [
              0.8888888888888888,
              "#fdca26"
             ],
             [
              1,
              "#f0f921"
             ]
            ],
            "type": "heatmapgl"
           }
          ],
          "histogram": [
           {
            "marker": {
             "pattern": {
              "fillmode": "overlay",
              "size": 10,
              "solidity": 0.2
             }
            },
            "type": "histogram"
           }
          ],
          "histogram2d": [
           {
            "colorbar": {
             "outlinewidth": 0,
             "ticks": ""
            },
            "colorscale": [
             [
              0,
              "#0d0887"
             ],
             [
              0.1111111111111111,
              "#46039f"
             ],
             [
              0.2222222222222222,
              "#7201a8"
             ],
             [
              0.3333333333333333,
              "#9c179e"
             ],
             [
              0.4444444444444444,
              "#bd3786"
             ],
             [
              0.5555555555555556,
              "#d8576b"
             ],
             [
              0.6666666666666666,
              "#ed7953"
             ],
             [
              0.7777777777777778,
              "#fb9f3a"
             ],
             [
              0.8888888888888888,
              "#fdca26"
             ],
             [
              1,
              "#f0f921"
             ]
            ],
            "type": "histogram2d"
           }
          ],
          "histogram2dcontour": [
           {
            "colorbar": {
             "outlinewidth": 0,
             "ticks": ""
            },
            "colorscale": [
             [
              0,
              "#0d0887"
             ],
             [
              0.1111111111111111,
              "#46039f"
             ],
             [
              0.2222222222222222,
              "#7201a8"
             ],
             [
              0.3333333333333333,
              "#9c179e"
             ],
             [
              0.4444444444444444,
              "#bd3786"
             ],
             [
              0.5555555555555556,
              "#d8576b"
             ],
             [
              0.6666666666666666,
              "#ed7953"
             ],
             [
              0.7777777777777778,
              "#fb9f3a"
             ],
             [
              0.8888888888888888,
              "#fdca26"
             ],
             [
              1,
              "#f0f921"
             ]
            ],
            "type": "histogram2dcontour"
           }
          ],
          "mesh3d": [
           {
            "colorbar": {
             "outlinewidth": 0,
             "ticks": ""
            },
            "type": "mesh3d"
           }
          ],
          "parcoords": [
           {
            "line": {
             "colorbar": {
              "outlinewidth": 0,
              "ticks": ""
             }
            },
            "type": "parcoords"
           }
          ],
          "pie": [
           {
            "automargin": true,
            "type": "pie"
           }
          ],
          "scatter": [
           {
            "fillpattern": {
             "fillmode": "overlay",
             "size": 10,
             "solidity": 0.2
            },
            "type": "scatter"
           }
          ],
          "scatter3d": [
           {
            "line": {
             "colorbar": {
              "outlinewidth": 0,
              "ticks": ""
             }
            },
            "marker": {
             "colorbar": {
              "outlinewidth": 0,
              "ticks": ""
             }
            },
            "type": "scatter3d"
           }
          ],
          "scattercarpet": [
           {
            "marker": {
             "colorbar": {
              "outlinewidth": 0,
              "ticks": ""
             }
            },
            "type": "scattercarpet"
           }
          ],
          "scattergeo": [
           {
            "marker": {
             "colorbar": {
              "outlinewidth": 0,
              "ticks": ""
             }
            },
            "type": "scattergeo"
           }
          ],
          "scattergl": [
           {
            "marker": {
             "colorbar": {
              "outlinewidth": 0,
              "ticks": ""
             }
            },
            "type": "scattergl"
           }
          ],
          "scattermapbox": [
           {
            "marker": {
             "colorbar": {
              "outlinewidth": 0,
              "ticks": ""
             }
            },
            "type": "scattermapbox"
           }
          ],
          "scatterpolar": [
           {
            "marker": {
             "colorbar": {
              "outlinewidth": 0,
              "ticks": ""
             }
            },
            "type": "scatterpolar"
           }
          ],
          "scatterpolargl": [
           {
            "marker": {
             "colorbar": {
              "outlinewidth": 0,
              "ticks": ""
             }
            },
            "type": "scatterpolargl"
           }
          ],
          "scatterternary": [
           {
            "marker": {
             "colorbar": {
              "outlinewidth": 0,
              "ticks": ""
             }
            },
            "type": "scatterternary"
           }
          ],
          "surface": [
           {
            "colorbar": {
             "outlinewidth": 0,
             "ticks": ""
            },
            "colorscale": [
             [
              0,
              "#0d0887"
             ],
             [
              0.1111111111111111,
              "#46039f"
             ],
             [
              0.2222222222222222,
              "#7201a8"
             ],
             [
              0.3333333333333333,
              "#9c179e"
             ],
             [
              0.4444444444444444,
              "#bd3786"
             ],
             [
              0.5555555555555556,
              "#d8576b"
             ],
             [
              0.6666666666666666,
              "#ed7953"
             ],
             [
              0.7777777777777778,
              "#fb9f3a"
             ],
             [
              0.8888888888888888,
              "#fdca26"
             ],
             [
              1,
              "#f0f921"
             ]
            ],
            "type": "surface"
           }
          ],
          "table": [
           {
            "cells": {
             "fill": {
              "color": "#EBF0F8"
             },
             "line": {
              "color": "white"
             }
            },
            "header": {
             "fill": {
              "color": "#C8D4E3"
             },
             "line": {
              "color": "white"
             }
            },
            "type": "table"
           }
          ]
         },
         "layout": {
          "annotationdefaults": {
           "arrowcolor": "#2a3f5f",
           "arrowhead": 0,
           "arrowwidth": 1
          },
          "autotypenumbers": "strict",
          "coloraxis": {
           "colorbar": {
            "outlinewidth": 0,
            "ticks": ""
           }
          },
          "colorscale": {
           "diverging": [
            [
             0,
             "#8e0152"
            ],
            [
             0.1,
             "#c51b7d"
            ],
            [
             0.2,
             "#de77ae"
            ],
            [
             0.3,
             "#f1b6da"
            ],
            [
             0.4,
             "#fde0ef"
            ],
            [
             0.5,
             "#f7f7f7"
            ],
            [
             0.6,
             "#e6f5d0"
            ],
            [
             0.7,
             "#b8e186"
            ],
            [
             0.8,
             "#7fbc41"
            ],
            [
             0.9,
             "#4d9221"
            ],
            [
             1,
             "#276419"
            ]
           ],
           "sequential": [
            [
             0,
             "#0d0887"
            ],
            [
             0.1111111111111111,
             "#46039f"
            ],
            [
             0.2222222222222222,
             "#7201a8"
            ],
            [
             0.3333333333333333,
             "#9c179e"
            ],
            [
             0.4444444444444444,
             "#bd3786"
            ],
            [
             0.5555555555555556,
             "#d8576b"
            ],
            [
             0.6666666666666666,
             "#ed7953"
            ],
            [
             0.7777777777777778,
             "#fb9f3a"
            ],
            [
             0.8888888888888888,
             "#fdca26"
            ],
            [
             1,
             "#f0f921"
            ]
           ],
           "sequentialminus": [
            [
             0,
             "#0d0887"
            ],
            [
             0.1111111111111111,
             "#46039f"
            ],
            [
             0.2222222222222222,
             "#7201a8"
            ],
            [
             0.3333333333333333,
             "#9c179e"
            ],
            [
             0.4444444444444444,
             "#bd3786"
            ],
            [
             0.5555555555555556,
             "#d8576b"
            ],
            [
             0.6666666666666666,
             "#ed7953"
            ],
            [
             0.7777777777777778,
             "#fb9f3a"
            ],
            [
             0.8888888888888888,
             "#fdca26"
            ],
            [
             1,
             "#f0f921"
            ]
           ]
          },
          "colorway": [
           "#636efa",
           "#EF553B",
           "#00cc96",
           "#ab63fa",
           "#FFA15A",
           "#19d3f3",
           "#FF6692",
           "#B6E880",
           "#FF97FF",
           "#FECB52"
          ],
          "font": {
           "color": "#2a3f5f"
          },
          "geo": {
           "bgcolor": "white",
           "lakecolor": "white",
           "landcolor": "#E5ECF6",
           "showlakes": true,
           "showland": true,
           "subunitcolor": "white"
          },
          "hoverlabel": {
           "align": "left"
          },
          "hovermode": "closest",
          "mapbox": {
           "style": "light"
          },
          "paper_bgcolor": "white",
          "plot_bgcolor": "#E5ECF6",
          "polar": {
           "angularaxis": {
            "gridcolor": "white",
            "linecolor": "white",
            "ticks": ""
           },
           "bgcolor": "#E5ECF6",
           "radialaxis": {
            "gridcolor": "white",
            "linecolor": "white",
            "ticks": ""
           }
          },
          "scene": {
           "xaxis": {
            "backgroundcolor": "#E5ECF6",
            "gridcolor": "white",
            "gridwidth": 2,
            "linecolor": "white",
            "showbackground": true,
            "ticks": "",
            "zerolinecolor": "white"
           },
           "yaxis": {
            "backgroundcolor": "#E5ECF6",
            "gridcolor": "white",
            "gridwidth": 2,
            "linecolor": "white",
            "showbackground": true,
            "ticks": "",
            "zerolinecolor": "white"
           },
           "zaxis": {
            "backgroundcolor": "#E5ECF6",
            "gridcolor": "white",
            "gridwidth": 2,
            "linecolor": "white",
            "showbackground": true,
            "ticks": "",
            "zerolinecolor": "white"
           }
          },
          "shapedefaults": {
           "line": {
            "color": "#2a3f5f"
           }
          },
          "ternary": {
           "aaxis": {
            "gridcolor": "white",
            "linecolor": "white",
            "ticks": ""
           },
           "baxis": {
            "gridcolor": "white",
            "linecolor": "white",
            "ticks": ""
           },
           "bgcolor": "#E5ECF6",
           "caxis": {
            "gridcolor": "white",
            "linecolor": "white",
            "ticks": ""
           }
          },
          "title": {
           "x": 0.05
          },
          "xaxis": {
           "automargin": true,
           "gridcolor": "white",
           "linecolor": "white",
           "ticks": "",
           "title": {
            "standoff": 15
           },
           "zerolinecolor": "white",
           "zerolinewidth": 2
          },
          "yaxis": {
           "automargin": true,
           "gridcolor": "white",
           "linecolor": "white",
           "ticks": "",
           "title": {
            "standoff": 15
           },
           "zerolinecolor": "white",
           "zerolinewidth": 2
          }
         }
        },
        "title": {
         "text": "Comparison of Original vs Weighted Churn Rate"
        },
        "width": 900,
        "xaxis": {
         "title": {
          "text": "Date"
         }
        },
        "yaxis": {
         "title": {
          "text": "Churn Rate (%)"
         }
        }
       }
      }
     },
     "metadata": {},
     "output_type": "display_data"
    }
   ],
   "source": [
    "def plot_churn_comparison(original_df, weighted_df):\n",
    "    fig = go.Figure()\n",
    "\n",
    "    # Add Original Churn Rate (Line)\n",
    "    fig.add_trace(\n",
    "        go.Scatter(\n",
    "            x=original_df[\"date\"],\n",
    "            y=original_df[\"churn_rate\"],\n",
    "            mode=\"lines+markers\",\n",
    "            name=\"Original Churn Rate\",\n",
    "            line=dict(color=\"red\"),\n",
    "        )\n",
    "    )\n",
    "\n",
    "    # Add Weighted Churn Rate (Line)\n",
    "    fig.add_trace(\n",
    "        go.Scatter(\n",
    "            x=weighted_df[\"date\"],\n",
    "            y=weighted_df[\"churn_rate_weighted\"],\n",
    "            mode=\"lines+markers\",\n",
    "            name=\"Weighted Churn Rate\",\n",
    "            line=dict(color=\"blue\"),\n",
    "        )\n",
    "    )\n",
    "\n",
    "    # Update Layout\n",
    "    fig.update_layout(\n",
    "        title=\"Comparison of Original vs Weighted Churn Rate\",\n",
    "        xaxis_title=\"Date\",\n",
    "        yaxis_title=\"Churn Rate (%)\",\n",
    "        legend=dict(orientation=\"h\", yanchor=\"bottom\", y=1, xanchor=\"right\", x=1),\n",
    "        hovermode=\"x unified\",  # Enables a single hover across both lines\n",
    "        width=900,\n",
    "        height=500,\n",
    "    )\n",
    "\n",
    "    # Show Plot\n",
    "    fig.show()\n",
    "\n",
    "\n",
    "# Call the function\n",
    "plot_churn_comparison(churn_df_overall, weighted_churn_rate_df)"
   ]
  },
  {
   "cell_type": "markdown",
   "metadata": {},
   "source": [
    "* Insights para as lideranças da companhia:\n",
    "  \n",
    "  * Sazonalidade do churn:\n",
    "    * **As maiores taxas de churn ocorrem no primeiro trimestre**;\n",
    "    * Eventos extremos (como a COVID) tendem a provocar efeitos significativos nas taxas de churn.\n",
    "* Clientes mais afetados: Tiers 1.50 - 500 e 500 - 2k $\\rightarrow$ Correspondem a cerca de 40% dos clientes da instituição.\n",
    "* Clientes com alto valor de receita são menos influenciados por eventos econômicos.\n",
    "* **Clientes de menor valor são os mais frágeis e apresentam maior probabilidade de churn**."
   ]
  }
 ],
 "metadata": {
  "kernelspec": {
   "display_name": "analysis-test",
   "language": "python",
   "name": "python3"
  },
  "language_info": {
   "codemirror_mode": {
    "name": "ipython",
    "version": 3
   },
   "file_extension": ".py",
   "mimetype": "text/x-python",
   "name": "python",
   "nbconvert_exporter": "python",
   "pygments_lexer": "ipython3",
   "version": "3.9.16"
  }
 },
 "nbformat": 4,
 "nbformat_minor": 2
}
