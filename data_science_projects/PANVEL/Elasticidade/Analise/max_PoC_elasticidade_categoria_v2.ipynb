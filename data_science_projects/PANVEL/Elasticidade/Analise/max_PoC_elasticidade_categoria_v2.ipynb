{
 "cells": [
  {
   "cell_type": "markdown",
   "id": "77e99639-3b51-481f-abf0-0e1fc27e8957",
   "metadata": {
    "tags": []
   },
   "source": [
    "## Sensibilidade CATEGORY\n",
    "\n",
    "### Goal: Estimate elasticity per category (MED and N-MED)"
   ]
  },
  {
   "cell_type": "code",
   "execution_count": 2,
   "id": "2d4e11e8-be74-4755-875e-cba3163ad14d",
   "metadata": {
    "tags": []
   },
   "outputs": [
    {
     "name": "stdout",
     "output_type": "stream",
     "text": [
      "Requirement already satisfied: pyathena in /home/ec2-user/anaconda3/envs/python3/lib/python3.10/site-packages (3.5.1)\n",
      "Collecting holidays\n",
      "  Downloading holidays-0.45-py3-none-any.whl.metadata (22 kB)\n",
      "Collecting cachetools\n",
      "  Downloading cachetools-5.3.3-py3-none-any.whl.metadata (5.3 kB)\n",
      "Requirement already satisfied: boto3>=1.26.4 in /home/ec2-user/anaconda3/envs/python3/lib/python3.10/site-packages (from pyathena) (1.34.55)\n",
      "Requirement already satisfied: botocore>=1.29.4 in /home/ec2-user/anaconda3/envs/python3/lib/python3.10/site-packages (from pyathena) (1.34.55)\n",
      "Requirement already satisfied: fsspec in /home/ec2-user/anaconda3/envs/python3/lib/python3.10/site-packages (from pyathena) (2023.12.2)\n",
      "Requirement already satisfied: tenacity>=4.1.0 in /home/ec2-user/anaconda3/envs/python3/lib/python3.10/site-packages (from pyathena) (8.2.3)\n",
      "Requirement already satisfied: python-dateutil in /home/ec2-user/anaconda3/envs/python3/lib/python3.10/site-packages (from holidays) (2.8.2)\n",
      "Requirement already satisfied: jmespath<2.0.0,>=0.7.1 in /home/ec2-user/anaconda3/envs/python3/lib/python3.10/site-packages (from boto3>=1.26.4->pyathena) (1.0.1)\n",
      "Requirement already satisfied: s3transfer<0.11.0,>=0.10.0 in /home/ec2-user/anaconda3/envs/python3/lib/python3.10/site-packages (from boto3>=1.26.4->pyathena) (0.10.0)\n",
      "Requirement already satisfied: urllib3<2.1,>=1.25.4 in /home/ec2-user/anaconda3/envs/python3/lib/python3.10/site-packages (from botocore>=1.29.4->pyathena) (1.26.18)\n",
      "Requirement already satisfied: six>=1.5 in /home/ec2-user/anaconda3/envs/python3/lib/python3.10/site-packages (from python-dateutil->holidays) (1.16.0)\n",
      "Downloading holidays-0.45-py3-none-any.whl (932 kB)\n",
      "\u001b[2K   \u001b[90m━━━━━━━━━━━━━━━━━━━━━━━━━━━━━━━━━━━━━━━━\u001b[0m \u001b[32m932.4/932.4 kB\u001b[0m \u001b[31m16.8 MB/s\u001b[0m eta \u001b[36m0:00:00\u001b[0m00:01\u001b[0m\n",
      "\u001b[?25hDownloading cachetools-5.3.3-py3-none-any.whl (9.3 kB)\n",
      "Installing collected packages: cachetools, holidays\n",
      "Successfully installed cachetools-5.3.3 holidays-0.45\n",
      "Note: you may need to restart the kernel to use updated packages.\n"
     ]
    }
   ],
   "source": [
    "pip install pyathena holidays cachetools"
   ]
  },
  {
   "cell_type": "code",
   "execution_count": 3,
   "id": "008dc634-ae02-4aea-b8c0-dac660a7c7b4",
   "metadata": {
    "tags": []
   },
   "outputs": [],
   "source": [
    "from pyathena import connect\n",
    "import boto3 ### AWS acces to s3\n",
    "import pandas as pd\n",
    "import numpy as np\n",
    "import matplotlib.pyplot as plt\n",
    "import seaborn as sns\n",
    "sns.set()\n",
    "\n",
    "import statsmodels.api as sm\n",
    "from matplotlib.ticker import PercentFormatter\n",
    "\n",
    "from sklearn import linear_model\n",
    "from sklearn.metrics import r2_score\n",
    "import statsmodels.api as sm\n",
    "\n",
    "### \n",
    "import os\n",
    "\n",
    "from utils_panvel import sql_query\n",
    "import holidays\n",
    "\n",
    "# Supressing warnings\n",
    "import warnings\n",
    "warnings.filterwarnings(\"ignore\")"
   ]
  },
  {
   "cell_type": "code",
   "execution_count": null,
   "id": "6f4d4f26-9b07-4695-bf38-276407029076",
   "metadata": {},
   "outputs": [],
   "source": [
    "from pyathena import connect\n",
    "import boto3 ### AWS acces to s3\n",
    "import pandas as pd\n",
    "import numpy as np\n",
    "import matplotlib.pyplot as plt\n",
    "import seaborn as sns\n",
    "sns.set()\n",
    "\n",
    "import statsmodels.api as sm\n",
    "from matplotlib.ticker import PercentFormatter\n",
    "\n",
    "from sklearn import linear_model\n",
    "from sklearn.metrics import r2_score\n",
    "import statsmodels.api as sm\n",
    "\n",
    "### \n",
    "import os\n",
    "\n",
    "from utils_panvel import sql_query\n",
    "import holidays\n",
    "\n",
    "# Supressing warnings\n",
    "import warnings\n",
    "warnings.filterwarnings(\"ignore\")\n",
    "\n",
    "%%time\n",
    "df = sql_query(open(\"sensibilidade_all.sql\", \"r\").read())"
   ]
  },
  {
   "cell_type": "code",
   "execution_count": null,
   "id": "8e450423-44c7-4dd6-8669-5352a85876c7",
   "metadata": {},
   "outputs": [],
   "source": []
  },
  {
   "cell_type": "code",
   "execution_count": 4,
   "id": "3c11c33d-fbc7-4e76-b86d-2a10c1e87126",
   "metadata": {
    "tags": []
   },
   "outputs": [],
   "source": [
    "### Overall options\n",
    "\n",
    "pd.options.display.float_format = \"{:,.2f}\".format"
   ]
  },
  {
   "cell_type": "markdown",
   "id": "39497c97-ab8c-45a7-b2f1-abbb63b0107b",
   "metadata": {},
   "source": [
    "## Load dataset "
   ]
  },
  {
   "cell_type": "code",
   "execution_count": 5,
   "id": "51ac3889-52da-4b10-a85e-5b72d8c5a20f",
   "metadata": {
    "tags": []
   },
   "outputs": [
    {
     "name": "stdout",
     "output_type": "stream",
     "text": [
      "Result loaded from cache.\n",
      "CPU times: user 5.01 s, sys: 898 ms, total: 5.91 s\n",
      "Wall time: 11.8 s\n"
     ]
    }
   ],
   "source": [
    "%%time\n",
    "df = sql_query(open(\"sensibilidade_all.sql\", \"r\").read())"
   ]
  },
  {
   "cell_type": "code",
   "execution_count": 6,
   "id": "d9601630-92b4-4aa2-8c30-8fd28ba3c02d",
   "metadata": {
    "tags": []
   },
   "outputs": [
    {
     "name": "stdout",
     "output_type": "stream",
     "text": [
      "\n",
      "Total datapoints: 2222342\n",
      "\n",
      "Total de items: 11872\n",
      "\n",
      "Total de categorias: 289\n"
     ]
    }
   ],
   "source": [
    "### Extract daf stats\n",
    "\n",
    "def simple_stats (df):\n",
    "    print('\\nTotal datapoints:', df.shape[0])\n",
    "    print('\\nTotal de items:', df.codigo_item.nunique())\n",
    "    print('\\nTotal de categorias:', df.categoria.nunique())\n",
    "    \n",
    "simple_stats(df)"
   ]
  },
  {
   "cell_type": "markdown",
   "id": "0dfb2dbb-48e7-4501-a80c-229296ba77c6",
   "metadata": {
    "tags": []
   },
   "source": [
    "## Part A. Data formating / cleaning / filtering"
   ]
  },
  {
   "cell_type": "code",
   "execution_count": 7,
   "id": "1d6badbd-5afd-46b3-a91c-8bd13923048f",
   "metadata": {
    "tags": []
   },
   "outputs": [],
   "source": [
    "## declare variáveis\n",
    "df['data_emissao'] = pd.to_datetime(df['data_emissao'])\n",
    "df[['quant','price']] = df[['quant', 'price']].apply(pd.to_numeric)"
   ]
  },
  {
   "cell_type": "code",
   "execution_count": 8,
   "id": "af915d8d-fe27-4382-987d-082d09b43c86",
   "metadata": {
    "tags": []
   },
   "outputs": [
    {
     "data": {
      "text/html": [
       "<div>\n",
       "<style scoped>\n",
       "    .dataframe tbody tr th:only-of-type {\n",
       "        vertical-align: middle;\n",
       "    }\n",
       "\n",
       "    .dataframe tbody tr th {\n",
       "        vertical-align: top;\n",
       "    }\n",
       "\n",
       "    .dataframe thead th {\n",
       "        text-align: right;\n",
       "    }\n",
       "</style>\n",
       "<table border=\"1\" class=\"dataframe\">\n",
       "  <thead>\n",
       "    <tr style=\"text-align: right;\">\n",
       "      <th></th>\n",
       "      <th>column_name</th>\n",
       "      <th>percent_missing</th>\n",
       "    </tr>\n",
       "  </thead>\n",
       "  <tbody>\n",
       "    <tr>\n",
       "      <th>data_emissao</th>\n",
       "      <td>data_emissao</td>\n",
       "      <td>0.00</td>\n",
       "    </tr>\n",
       "    <tr>\n",
       "      <th>codigo_item</th>\n",
       "      <td>codigo_item</td>\n",
       "      <td>0.00</td>\n",
       "    </tr>\n",
       "    <tr>\n",
       "      <th>categoria</th>\n",
       "      <td>categoria</td>\n",
       "      <td>0.00</td>\n",
       "    </tr>\n",
       "    <tr>\n",
       "      <th>tipo_produto_gerencial</th>\n",
       "      <td>tipo_produto_gerencial</td>\n",
       "      <td>0.00</td>\n",
       "    </tr>\n",
       "    <tr>\n",
       "      <th>quant</th>\n",
       "      <td>quant</td>\n",
       "      <td>0.00</td>\n",
       "    </tr>\n",
       "    <tr>\n",
       "      <th>price</th>\n",
       "      <td>price</td>\n",
       "      <td>0.00</td>\n",
       "    </tr>\n",
       "    <tr>\n",
       "      <th>rent</th>\n",
       "      <td>rent</td>\n",
       "      <td>0.00</td>\n",
       "    </tr>\n",
       "    <tr>\n",
       "      <th>total_items_with_discount</th>\n",
       "      <td>total_items_with_discount</td>\n",
       "      <td>0.00</td>\n",
       "    </tr>\n",
       "    <tr>\n",
       "      <th>ratio_discount</th>\n",
       "      <td>ratio_discount</td>\n",
       "      <td>0.00</td>\n",
       "    </tr>\n",
       "  </tbody>\n",
       "</table>\n",
       "</div>"
      ],
      "text/plain": [
       "                                         column_name  percent_missing\n",
       "data_emissao                            data_emissao             0.00\n",
       "codigo_item                              codigo_item             0.00\n",
       "categoria                                  categoria             0.00\n",
       "tipo_produto_gerencial        tipo_produto_gerencial             0.00\n",
       "quant                                          quant             0.00\n",
       "price                                          price             0.00\n",
       "rent                                            rent             0.00\n",
       "total_items_with_discount  total_items_with_discount             0.00\n",
       "ratio_discount                        ratio_discount             0.00"
      ]
     },
     "execution_count": 8,
     "metadata": {},
     "output_type": "execute_result"
    }
   ],
   "source": [
    "percent_missing = df.isnull().sum() * 100 / len(df)\n",
    "missing_value_df = pd.DataFrame({'column_name': df.columns,\n",
    "                                 'percent_missing': percent_missing})\n",
    "\n",
    "missing_value_df"
   ]
  },
  {
   "cell_type": "markdown",
   "id": "5f80bcbb-3c46-422c-a30f-6cea8cf964e1",
   "metadata": {
    "tags": []
   },
   "source": [
    "### Filter 0 -  Flag special dates (holidays, blackfriday)"
   ]
  },
  {
   "cell_type": "code",
   "execution_count": 9,
   "id": "89f45c71-5664-46ee-8e6c-4e9e70f52be8",
   "metadata": {
    "tags": []
   },
   "outputs": [
    {
     "data": {
      "text/html": [
       "<div>\n",
       "<style scoped>\n",
       "    .dataframe tbody tr th:only-of-type {\n",
       "        vertical-align: middle;\n",
       "    }\n",
       "\n",
       "    .dataframe tbody tr th {\n",
       "        vertical-align: top;\n",
       "    }\n",
       "\n",
       "    .dataframe thead th {\n",
       "        text-align: right;\n",
       "    }\n",
       "</style>\n",
       "<table border=\"1\" class=\"dataframe\">\n",
       "  <thead>\n",
       "    <tr style=\"text-align: right;\">\n",
       "      <th></th>\n",
       "      <th>data_emissao</th>\n",
       "      <th>codigo_item</th>\n",
       "      <th>categoria</th>\n",
       "      <th>tipo_produto_gerencial</th>\n",
       "      <th>quant</th>\n",
       "      <th>price</th>\n",
       "      <th>rent</th>\n",
       "      <th>total_items_with_discount</th>\n",
       "      <th>ratio_discount</th>\n",
       "      <th>special_dates</th>\n",
       "    </tr>\n",
       "  </thead>\n",
       "  <tbody>\n",
       "    <tr>\n",
       "      <th>0</th>\n",
       "      <td>2023-03-01</td>\n",
       "      <td>940690</td>\n",
       "      <td>TINTURA</td>\n",
       "      <td>NI</td>\n",
       "      <td>15.00</td>\n",
       "      <td>23.93</td>\n",
       "      <td>11.526667</td>\n",
       "      <td>15.0000</td>\n",
       "      <td>100.0000</td>\n",
       "      <td>0</td>\n",
       "    </tr>\n",
       "    <tr>\n",
       "      <th>1</th>\n",
       "      <td>2023-03-01</td>\n",
       "      <td>111297</td>\n",
       "      <td>HIDRATANTES.</td>\n",
       "      <td>NI</td>\n",
       "      <td>3.00</td>\n",
       "      <td>66.72</td>\n",
       "      <td>21.963333</td>\n",
       "      <td>1.0000</td>\n",
       "      <td>33.3300</td>\n",
       "      <td>0</td>\n",
       "    </tr>\n",
       "    <tr>\n",
       "      <th>2</th>\n",
       "      <td>2023-03-01</td>\n",
       "      <td>119114</td>\n",
       "      <td>CREME PREVENTIVO P/ASSADURAS</td>\n",
       "      <td>NI</td>\n",
       "      <td>12.00</td>\n",
       "      <td>46.39</td>\n",
       "      <td>20.111000</td>\n",
       "      <td>7.0000</td>\n",
       "      <td>58.3300</td>\n",
       "      <td>0</td>\n",
       "    </tr>\n",
       "    <tr>\n",
       "      <th>3</th>\n",
       "      <td>2023-03-01</td>\n",
       "      <td>104915</td>\n",
       "      <td>ANTI-IDADE</td>\n",
       "      <td>NI</td>\n",
       "      <td>5.00</td>\n",
       "      <td>119.99</td>\n",
       "      <td>47.420000</td>\n",
       "      <td>0.0000</td>\n",
       "      <td>0.0000</td>\n",
       "      <td>0</td>\n",
       "    </tr>\n",
       "    <tr>\n",
       "      <th>4</th>\n",
       "      <td>2023-03-01</td>\n",
       "      <td>120190</td>\n",
       "      <td>C1 - BARBITURICO</td>\n",
       "      <td>MARCA</td>\n",
       "      <td>1.00</td>\n",
       "      <td>90.67</td>\n",
       "      <td>27.750000</td>\n",
       "      <td>1.0000</td>\n",
       "      <td>100.0000</td>\n",
       "      <td>0</td>\n",
       "    </tr>\n",
       "    <tr>\n",
       "      <th>...</th>\n",
       "      <td>...</td>\n",
       "      <td>...</td>\n",
       "      <td>...</td>\n",
       "      <td>...</td>\n",
       "      <td>...</td>\n",
       "      <td>...</td>\n",
       "      <td>...</td>\n",
       "      <td>...</td>\n",
       "      <td>...</td>\n",
       "      <td>...</td>\n",
       "    </tr>\n",
       "    <tr>\n",
       "      <th>2222337</th>\n",
       "      <td>2024-03-01</td>\n",
       "      <td>112719</td>\n",
       "      <td>REMOVEDOR</td>\n",
       "      <td>NI</td>\n",
       "      <td>460.00</td>\n",
       "      <td>6.90</td>\n",
       "      <td>3.081135</td>\n",
       "      <td>40.0000</td>\n",
       "      <td>8.7000</td>\n",
       "      <td>0</td>\n",
       "    </tr>\n",
       "    <tr>\n",
       "      <th>2222338</th>\n",
       "      <td>2024-03-01</td>\n",
       "      <td>845990</td>\n",
       "      <td>AZIA E MA DIGESTAO</td>\n",
       "      <td>MARCA</td>\n",
       "      <td>262.00</td>\n",
       "      <td>3.11</td>\n",
       "      <td>1.027490</td>\n",
       "      <td>6.0000</td>\n",
       "      <td>2.2900</td>\n",
       "      <td>0</td>\n",
       "    </tr>\n",
       "    <tr>\n",
       "      <th>2222339</th>\n",
       "      <td>2024-03-01</td>\n",
       "      <td>659630</td>\n",
       "      <td>HIDRATANTES.</td>\n",
       "      <td>NI</td>\n",
       "      <td>22.00</td>\n",
       "      <td>15.88</td>\n",
       "      <td>5.501364</td>\n",
       "      <td>1.0000</td>\n",
       "      <td>4.5500</td>\n",
       "      <td>0</td>\n",
       "    </tr>\n",
       "    <tr>\n",
       "      <th>2222340</th>\n",
       "      <td>2024-03-01</td>\n",
       "      <td>97142</td>\n",
       "      <td>FACE</td>\n",
       "      <td>NI</td>\n",
       "      <td>51.00</td>\n",
       "      <td>33.68</td>\n",
       "      <td>13.949216</td>\n",
       "      <td>10.0000</td>\n",
       "      <td>19.6100</td>\n",
       "      <td>0</td>\n",
       "    </tr>\n",
       "    <tr>\n",
       "      <th>2222341</th>\n",
       "      <td>2024-03-01</td>\n",
       "      <td>119425</td>\n",
       "      <td>DOR E CONTUSÃO</td>\n",
       "      <td>MARCA</td>\n",
       "      <td>10.00</td>\n",
       "      <td>38.58</td>\n",
       "      <td>11.262000</td>\n",
       "      <td>0.0000</td>\n",
       "      <td>0.0000</td>\n",
       "      <td>0</td>\n",
       "    </tr>\n",
       "  </tbody>\n",
       "</table>\n",
       "<p>2041962 rows × 10 columns</p>\n",
       "</div>"
      ],
      "text/plain": [
       "        data_emissao codigo_item                     categoria  \\\n",
       "0         2023-03-01      940690                       TINTURA   \n",
       "1         2023-03-01      111297                  HIDRATANTES.   \n",
       "2         2023-03-01      119114  CREME PREVENTIVO P/ASSADURAS   \n",
       "3         2023-03-01      104915                    ANTI-IDADE   \n",
       "4         2023-03-01      120190              C1 - BARBITURICO   \n",
       "...              ...         ...                           ...   \n",
       "2222337   2024-03-01      112719                     REMOVEDOR   \n",
       "2222338   2024-03-01      845990            AZIA E MA DIGESTAO   \n",
       "2222339   2024-03-01      659630                  HIDRATANTES.   \n",
       "2222340   2024-03-01       97142                          FACE   \n",
       "2222341   2024-03-01      119425                DOR E CONTUSÃO   \n",
       "\n",
       "        tipo_produto_gerencial  quant  price       rent  \\\n",
       "0                           NI  15.00  23.93  11.526667   \n",
       "1                           NI   3.00  66.72  21.963333   \n",
       "2                           NI  12.00  46.39  20.111000   \n",
       "3                           NI   5.00 119.99  47.420000   \n",
       "4                        MARCA   1.00  90.67  27.750000   \n",
       "...                        ...    ...    ...        ...   \n",
       "2222337                     NI 460.00   6.90   3.081135   \n",
       "2222338                  MARCA 262.00   3.11   1.027490   \n",
       "2222339                     NI  22.00  15.88   5.501364   \n",
       "2222340                     NI  51.00  33.68  13.949216   \n",
       "2222341                  MARCA  10.00  38.58  11.262000   \n",
       "\n",
       "        total_items_with_discount ratio_discount  special_dates  \n",
       "0                         15.0000       100.0000              0  \n",
       "1                          1.0000        33.3300              0  \n",
       "2                          7.0000        58.3300              0  \n",
       "3                          0.0000         0.0000              0  \n",
       "4                          1.0000       100.0000              0  \n",
       "...                           ...            ...            ...  \n",
       "2222337                   40.0000         8.7000              0  \n",
       "2222338                    6.0000         2.2900              0  \n",
       "2222339                    1.0000         4.5500              0  \n",
       "2222340                   10.0000        19.6100              0  \n",
       "2222341                    0.0000         0.0000              0  \n",
       "\n",
       "[2041962 rows x 10 columns]"
      ]
     },
     "execution_count": 9,
     "metadata": {},
     "output_type": "execute_result"
    }
   ],
   "source": [
    "### black friday\n",
    "start_date_23 = '2023-11-15'\n",
    "end_date_23 =  '2023-11-30'\n",
    "mask_23 = (df['data_emissao'] >= start_date_23) & (df['data_emissao'] <= end_date_23)\n",
    "\n",
    "### Gov \n",
    "gov_date_23 = '2023-03-31'\n",
    "gov_23 = (df['data_emissao'] == gov_date_23) \n",
    "\n",
    "## Brazilain Holidays\n",
    "feriados = holidays.country_holidays(\"BR\")\n",
    "feriados_23 = feriados[\"2023-01-01\":\"2024-01-30\"]\n",
    "\n",
    "# Add a new column for holidays\n",
    "df.loc[df['data_emissao'].isin(feriados_23), 'special_dates'] = 1\n",
    "df.loc[gov_23, 'special_dates'] = 1\n",
    "df.loc[mask_23, 'special_dates'] = 1\n",
    "\n",
    "## Replace boolean with an integer\n",
    "df.special_dates = df.special_dates.replace({True: 1, np.nan: 0}).astype(int)\n",
    "\n",
    "## Filter out nspecial dates\n",
    "df = df[df['special_dates'] == 0]\n",
    "df"
   ]
  },
  {
   "cell_type": "markdown",
   "id": "20be2500-7e70-41b2-94d6-19b0f461a4d4",
   "metadata": {
    "tags": []
   },
   "source": [
    "### Filter 1 - Extract sales frequency per category\n",
    "* Keep categories that had sales in at least 50% of the analyzed period"
   ]
  },
  {
   "cell_type": "code",
   "execution_count": 10,
   "id": "10b64ac7-b3a3-4d09-8860-c73530e3af14",
   "metadata": {
    "tags": []
   },
   "outputs": [],
   "source": [
    "## Criar range da data para calcular frequencia de compra\n",
    "\n",
    "### Total days\n",
    "\n",
    "# range_analise = (\n",
    "#      df[\"data_emissao\"].max() - df[\"data_emissao\"].min()\n",
    "#  ) / np.timedelta64(1, \"D\") +1\n",
    "\n",
    "# business_days = len(pd.bdate_range(df[\"data_emissao\"].min(), df[\"data_emissao\"].max()))\n",
    "# business_days\n",
    "\n",
    "days = df['data_emissao'].nunique()\n",
    "\n",
    "stats = df.groupby(['categoria'], dropna=False, as_index=True, sort=True).agg(\n",
    "    {\n",
    "        \"data_emissao\": [\"nunique\"],\n",
    "        \"codigo_item\": [\"nunique\"],\n",
    "    }\n",
    ")\n",
    "\n",
    "stats.columns = stats.columns.droplevel(1)\n",
    "stats.reset_index(inplace=True)\n",
    "stats.rename(columns={'data_emissao': '#_dias', 'codigo_item': '#_items'}, inplace = True)\n",
    "stats['dias_freq'] = (stats['#_dias'] / days )*100"
   ]
  },
  {
   "cell_type": "code",
   "execution_count": 11,
   "id": "fe7023c0-98d6-4ecc-92ce-7895aab8585b",
   "metadata": {
    "tags": []
   },
   "outputs": [
    {
     "name": "stdout",
     "output_type": "stream",
     "text": [
      "\n",
      " Total de categorias: 289 \n",
      " Total de categorias com 80% de frequência: 254 \n",
      " Total de categorias com 90% de frequência: 249 \n",
      " Total de categorias com 10% de frequência: 16 \n",
      " Média frequência de vendas por categoria 91.71\n",
      "\n"
     ]
    }
   ],
   "source": [
    "print('\\n Total de categorias:', df.categoria.nunique(),\n",
    "      '\\n Total de categorias com 80% de frequência:', len(stats[stats['dias_freq']>=80]),\n",
    "      '\\n Total de categorias com 90% de frequência:', len(stats[stats['dias_freq']>=90]),\n",
    "      '\\n Total de categorias com 10% de frequência:', len(stats[stats['dias_freq']<30]),\n",
    "      '\\n Média frequência de vendas por categoria {:.2f}\\n'.format(round(stats.dias_freq.mean(), 2)))\n"
   ]
  },
  {
   "cell_type": "markdown",
   "id": "cc25083b-9f04-469d-90ea-d6c5018af0de",
   "metadata": {},
   "source": [
    "### List of categories that will be fitlter out due to lack od sales frequency"
   ]
  },
  {
   "cell_type": "code",
   "execution_count": 12,
   "id": "00386653-7584-49e2-9cb2-7030c7578a9d",
   "metadata": {
    "tags": []
   },
   "outputs": [
    {
     "name": "stdout",
     "output_type": "stream",
     "text": [
      "['ACESSORIOS DE VERAO' 'ARTROSE E REUMATISMO' 'CALCINHA ABSORVENTE'\n",
      " 'CICATRIZANTE' 'CINTA' 'COLETE' 'CREME P/ PES' 'CREME PARA PERNAS'\n",
      " 'DESODORANTE.' 'DISCOS CALMANTES' 'ESFOLIANTE' 'HIDRATANTE FACIAL.'\n",
      " 'HIDRATANTES FACIAIS' 'KIT MAQUIAGEM' 'KIT TRATAMENTO FACIAL'\n",
      " 'KITS PRODUTOS PARA O CORPO' 'KITS SABONETE E ACESSORIOS' 'LIMPADOR'\n",
      " 'MASSAGEM' 'MODIFICADOR' 'REMOVEDOR DE MANCHAS' 'REVISTA' 'SONDA'\n",
      " 'TONICO' 'TRONCO']\n"
     ]
    },
    {
     "data": {
      "text/plain": [
       "25"
      ]
     },
     "execution_count": 12,
     "metadata": {},
     "output_type": "execute_result"
    }
   ],
   "source": [
    "print(stats[stats['dias_freq'] <=50]['categoria'].unique())\n",
    "    \n",
    "stats[stats['dias_freq'] <=50]['categoria'].unique().shape[0]"
   ]
  },
  {
   "cell_type": "markdown",
   "id": "9c5b4798-2e60-4e1e-b453-2c8f4c7046b2",
   "metadata": {},
   "source": [
    "### Apply Filter 1"
   ]
  },
  {
   "cell_type": "code",
   "execution_count": 13,
   "id": "b78406c3-dab6-4583-805c-48c838bf6fa3",
   "metadata": {
    "tags": []
   },
   "outputs": [
    {
     "name": "stdout",
     "output_type": "stream",
     "text": [
      "\n",
      "Total datapoints: 2040294\n",
      "\n",
      "Total de items: 11819\n",
      "\n",
      "Total de categorias: 264\n"
     ]
    }
   ],
   "source": [
    "days = df['data_emissao'].nunique()\n",
    "\n",
    "stats = df.groupby(['categoria'], dropna=False, as_index=True, sort=True).agg(\n",
    "    {\n",
    "        \"data_emissao\": [\"nunique\"],\n",
    "        \"codigo_item\": [\"nunique\"],\n",
    "    }\n",
    ")\n",
    "\n",
    "stats.columns = stats.columns.droplevel(1)\n",
    "stats.reset_index(inplace=True)\n",
    "stats.rename(columns={'data_emissao': '#_dias', 'codigo_item': '#_items'}, inplace = True)\n",
    "stats['dias_freq'] = (stats['#_dias'] / days )*100\n",
    "\n",
    "\n",
    "df_filter = stats[['categoria', 'dias_freq']]\n",
    "\n",
    "df_1  = pd.merge(df, df_filter, left_on='categoria', right_on='categoria', how='left')\n",
    "\n",
    "df_1 = df_1[df_1['dias_freq'] >=50]\n",
    "\n",
    "### Extract df stats\n",
    "simple_stats(df_1)"
   ]
  },
  {
   "cell_type": "markdown",
   "id": "c9684165-bf62-4bfa-b9c4-c919550ca3a1",
   "metadata": {},
   "source": [
    "### Filter 2: Apply price and quantity dispersion filters (itens)\n",
    "\n",
    "* Exclude items that deviate from the average category \n",
    "\n",
    "    * Filter 2.1 $\\rightarrow$ Filter out items whose prices differ greatly from the average price of the category\n",
    "    * Filter 2.2 $\\rightarrow$ Filter out items with low sales quantity by category"
   ]
  },
  {
   "cell_type": "code",
   "execution_count": 14,
   "id": "a7e0fa13-8523-445f-85c8-783a452c14d8",
   "metadata": {
    "tags": []
   },
   "outputs": [],
   "source": [
    "### identificar preços médios e quantidade total vendida por item \n",
    "\n",
    "share_item = df_1.groupby(['categoria', 'codigo_item'], dropna=False, as_index=True, sort=True).agg(\n",
    "    {\n",
    "        \"quant\": [\"sum\"],\n",
    "        \"price\": [\"mean\"]\n",
    "    }\n",
    ")\n",
    "\n",
    "share_item.columns = share_item.columns.droplevel(1)\n",
    "share_item.reset_index(inplace=True)\n",
    "\n",
    "###########################################\n",
    "\n",
    "### identificar  métricas de categoria \n",
    "share_cat = df_1.groupby(['categoria'], dropna=False, as_index=True, sort=True).agg(\n",
    "    {\n",
    "        \"codigo_item\": [\"nunique\"],\n",
    "        \"quant\": [\"sum\"],\n",
    "        \"price\": [\"mean\", 'std'],\n",
    "    }\n",
    ")\n",
    "\n",
    "share_cat.columns = share_cat.columns.droplevel(1)\n",
    "share_cat.reset_index(inplace=True)\n",
    "#share_cat.rename(columns={'quant': 'quant_cat','codigo_item': '#_itens_cat', 'price': 'avg_price_cat'}, inplace = True)\n",
    "share_cat.columns = ['categoria', \"#_items_cat\", \"quant_cat\", \"price_cat\", 'std_price_cat']\n",
    "###########################################\n",
    "\n",
    "df_share  = pd.merge(share_item, share_cat, left_on='categoria', right_on='categoria', how='left')\n",
    "df_share['share_quant'] = (df_share['quant']  / df_share['quant_cat'])  * 100"
   ]
  },
  {
   "cell_type": "markdown",
   "id": "03a30908-1c61-4a40-b5e3-4dd19a79999a",
   "metadata": {
    "tags": []
   },
   "source": [
    "### Filter 2.1 - Price dispersion"
   ]
  },
  {
   "cell_type": "code",
   "execution_count": 15,
   "id": "3f35cc1a-13b6-4f1c-900d-7bc9ffe7447e",
   "metadata": {
    "tags": []
   },
   "outputs": [
    {
     "name": "stdout",
     "output_type": "stream",
     "text": [
      "\n",
      "Total datapoints: 8945\n",
      "\n",
      "Total de items: 8945\n",
      "\n",
      "Total de categorias: 264\n"
     ]
    }
   ],
   "source": [
    "zscores = (df_share[\"price\"]-df_share[\"price_cat\"])/df_share[\"std_price_cat\"]\n",
    "df_share[\"outlier\"] = zscores.abs()>1.0\n",
    "\n",
    "## Replace boolean with an integer\n",
    "df_share.Outlier = df_share.outlier.replace({True: 1, False: 0})\n",
    "\n",
    "## Keep only non-outliers\n",
    "df_share_1 = df_share[df_share['outlier']==0]\n",
    "\n",
    "simple_stats(df_share_1)"
   ]
  },
  {
   "cell_type": "markdown",
   "id": "ef21e139-c7ed-46cf-aed5-19ea6183a54e",
   "metadata": {},
   "source": [
    "### Filter 2.2 -  Relative minimum quantity threshold"
   ]
  },
  {
   "cell_type": "code",
   "execution_count": 16,
   "id": "139e8e30-7967-41e2-ab9c-88a3f13bbfdd",
   "metadata": {
    "tags": []
   },
   "outputs": [
    {
     "name": "stdout",
     "output_type": "stream",
     "text": [
      "\n",
      "Total datapoints: 3578\n",
      "\n",
      "Total de items: 3578\n",
      "\n",
      "Total de categorias: 264\n"
     ]
    }
   ],
   "source": [
    "items = list(set(df_share_1['categoria']))\n",
    "\n",
    "for i in items:\n",
    "    df_share_1[\"rank\"] = df_share_1[\"share_quant\"].rank(method=\"first\")\n",
    "    df_share_1[\"rank\"] = df_share_1[\"share_quant\"].transform(\n",
    "        lambda x: pd.qcut(\n",
    "            x.rank(method=\"first\"), q=5, labels=[1, 2, 3, 4, 5]\n",
    "        )\n",
    "    )\n",
    "\n",
    "df_share_2 = df_share_1[df_share_1['rank']>3]\n",
    "\n",
    "simple_stats (df_share_2)"
   ]
  },
  {
   "cell_type": "code",
   "execution_count": 17,
   "id": "d565c348-8ee5-4138-9b2b-08e3e73a55de",
   "metadata": {
    "tags": []
   },
   "outputs": [
    {
     "data": {
      "text/html": [
       "<div>\n",
       "<style scoped>\n",
       "    .dataframe tbody tr th:only-of-type {\n",
       "        vertical-align: middle;\n",
       "    }\n",
       "\n",
       "    .dataframe tbody tr th {\n",
       "        vertical-align: top;\n",
       "    }\n",
       "\n",
       "    .dataframe thead th {\n",
       "        text-align: right;\n",
       "    }\n",
       "</style>\n",
       "<table border=\"1\" class=\"dataframe\">\n",
       "  <thead>\n",
       "    <tr style=\"text-align: right;\">\n",
       "      <th></th>\n",
       "      <th>codigo_item</th>\n",
       "      <th>selected</th>\n",
       "    </tr>\n",
       "  </thead>\n",
       "  <tbody>\n",
       "    <tr>\n",
       "      <th>0</th>\n",
       "      <td>3841</td>\n",
       "      <td>1</td>\n",
       "    </tr>\n",
       "    <tr>\n",
       "      <th>2</th>\n",
       "      <td>101063</td>\n",
       "      <td>1</td>\n",
       "    </tr>\n",
       "    <tr>\n",
       "      <th>4</th>\n",
       "      <td>103916</td>\n",
       "      <td>1</td>\n",
       "    </tr>\n",
       "    <tr>\n",
       "      <th>5</th>\n",
       "      <td>103922</td>\n",
       "      <td>1</td>\n",
       "    </tr>\n",
       "    <tr>\n",
       "      <th>6</th>\n",
       "      <td>104610</td>\n",
       "      <td>1</td>\n",
       "    </tr>\n",
       "    <tr>\n",
       "      <th>...</th>\n",
       "      <td>...</td>\n",
       "      <td>...</td>\n",
       "    </tr>\n",
       "    <tr>\n",
       "      <th>11801</th>\n",
       "      <td>557770</td>\n",
       "      <td>1</td>\n",
       "    </tr>\n",
       "    <tr>\n",
       "      <th>11806</th>\n",
       "      <td>669370</td>\n",
       "      <td>1</td>\n",
       "    </tr>\n",
       "    <tr>\n",
       "      <th>11812</th>\n",
       "      <td>878990</td>\n",
       "      <td>1</td>\n",
       "    </tr>\n",
       "    <tr>\n",
       "      <th>11817</th>\n",
       "      <td>103020</td>\n",
       "      <td>1</td>\n",
       "    </tr>\n",
       "    <tr>\n",
       "      <th>11818</th>\n",
       "      <td>108835</td>\n",
       "      <td>1</td>\n",
       "    </tr>\n",
       "  </tbody>\n",
       "</table>\n",
       "<p>3578 rows × 2 columns</p>\n",
       "</div>"
      ],
      "text/plain": [
       "      codigo_item  selected\n",
       "0            3841         1\n",
       "2          101063         1\n",
       "4          103916         1\n",
       "5          103922         1\n",
       "6          104610         1\n",
       "...           ...       ...\n",
       "11801      557770         1\n",
       "11806      669370         1\n",
       "11812      878990         1\n",
       "11817      103020         1\n",
       "11818      108835         1\n",
       "\n",
       "[3578 rows x 2 columns]"
      ]
     },
     "execution_count": 17,
     "metadata": {},
     "output_type": "execute_result"
    }
   ],
   "source": [
    "### Identify selected itens \n",
    "\n",
    "df_share_2['selected']=1\n",
    "df_selected = df_share_2[['codigo_item','selected']]\n",
    "df_selected"
   ]
  },
  {
   "cell_type": "markdown",
   "id": "510e2006-425e-4388-ae05-42f5986e7a64",
   "metadata": {},
   "source": [
    "## Part B. Estimate Elasticity (per item)\n",
    "\n",
    "### Merge with original df and extract sales for only selected itens"
   ]
  },
  {
   "cell_type": "code",
   "execution_count": 18,
   "id": "6d7f61fa-c18a-4619-b1de-b9adf810377d",
   "metadata": {
    "tags": []
   },
   "outputs": [
    {
     "data": {
      "text/html": [
       "<div>\n",
       "<style scoped>\n",
       "    .dataframe tbody tr th:only-of-type {\n",
       "        vertical-align: middle;\n",
       "    }\n",
       "\n",
       "    .dataframe tbody tr th {\n",
       "        vertical-align: top;\n",
       "    }\n",
       "\n",
       "    .dataframe thead th {\n",
       "        text-align: right;\n",
       "    }\n",
       "</style>\n",
       "<table border=\"1\" class=\"dataframe\">\n",
       "  <thead>\n",
       "    <tr style=\"text-align: right;\">\n",
       "      <th></th>\n",
       "      <th>data_emissao</th>\n",
       "      <th>codigo_item</th>\n",
       "      <th>categoria</th>\n",
       "      <th>tipo_produto_gerencial</th>\n",
       "      <th>quant</th>\n",
       "      <th>price</th>\n",
       "      <th>rent</th>\n",
       "      <th>total_items_with_discount</th>\n",
       "      <th>ratio_discount</th>\n",
       "      <th>special_dates</th>\n",
       "      <th>selected</th>\n",
       "    </tr>\n",
       "  </thead>\n",
       "  <tbody>\n",
       "    <tr>\n",
       "      <th>0</th>\n",
       "      <td>2023-03-01</td>\n",
       "      <td>940690</td>\n",
       "      <td>TINTURA</td>\n",
       "      <td>NI</td>\n",
       "      <td>15.00</td>\n",
       "      <td>23.93</td>\n",
       "      <td>11.526667</td>\n",
       "      <td>15.0000</td>\n",
       "      <td>100.0000</td>\n",
       "      <td>0</td>\n",
       "      <td>1.00</td>\n",
       "    </tr>\n",
       "    <tr>\n",
       "      <th>2</th>\n",
       "      <td>2023-03-01</td>\n",
       "      <td>119114</td>\n",
       "      <td>CREME PREVENTIVO P/ASSADURAS</td>\n",
       "      <td>NI</td>\n",
       "      <td>12.00</td>\n",
       "      <td>46.39</td>\n",
       "      <td>20.111000</td>\n",
       "      <td>7.0000</td>\n",
       "      <td>58.3300</td>\n",
       "      <td>0</td>\n",
       "      <td>1.00</td>\n",
       "    </tr>\n",
       "    <tr>\n",
       "      <th>3</th>\n",
       "      <td>2023-03-01</td>\n",
       "      <td>104915</td>\n",
       "      <td>ANTI-IDADE</td>\n",
       "      <td>NI</td>\n",
       "      <td>5.00</td>\n",
       "      <td>119.99</td>\n",
       "      <td>47.420000</td>\n",
       "      <td>0.0000</td>\n",
       "      <td>0.0000</td>\n",
       "      <td>0</td>\n",
       "      <td>1.00</td>\n",
       "    </tr>\n",
       "    <tr>\n",
       "      <th>7</th>\n",
       "      <td>2023-03-01</td>\n",
       "      <td>109522</td>\n",
       "      <td>APARELHO DEPILATORIO</td>\n",
       "      <td>NI</td>\n",
       "      <td>14.00</td>\n",
       "      <td>24.76</td>\n",
       "      <td>8.590000</td>\n",
       "      <td>2.0000</td>\n",
       "      <td>14.2900</td>\n",
       "      <td>0</td>\n",
       "      <td>1.00</td>\n",
       "    </tr>\n",
       "    <tr>\n",
       "      <th>8</th>\n",
       "      <td>2023-03-01</td>\n",
       "      <td>105659</td>\n",
       "      <td>ACESSORIOS FACIAIS</td>\n",
       "      <td>NI</td>\n",
       "      <td>6.00</td>\n",
       "      <td>41.99</td>\n",
       "      <td>17.210000</td>\n",
       "      <td>2.0000</td>\n",
       "      <td>33.3300</td>\n",
       "      <td>0</td>\n",
       "      <td>1.00</td>\n",
       "    </tr>\n",
       "    <tr>\n",
       "      <th>...</th>\n",
       "      <td>...</td>\n",
       "      <td>...</td>\n",
       "      <td>...</td>\n",
       "      <td>...</td>\n",
       "      <td>...</td>\n",
       "      <td>...</td>\n",
       "      <td>...</td>\n",
       "      <td>...</td>\n",
       "      <td>...</td>\n",
       "      <td>...</td>\n",
       "      <td>...</td>\n",
       "    </tr>\n",
       "    <tr>\n",
       "      <th>2041955</th>\n",
       "      <td>2024-03-01</td>\n",
       "      <td>100977</td>\n",
       "      <td>BALA</td>\n",
       "      <td>NI</td>\n",
       "      <td>77.00</td>\n",
       "      <td>3.38</td>\n",
       "      <td>1.547922</td>\n",
       "      <td>12.0000</td>\n",
       "      <td>15.5800</td>\n",
       "      <td>0</td>\n",
       "      <td>1.00</td>\n",
       "    </tr>\n",
       "    <tr>\n",
       "      <th>2041956</th>\n",
       "      <td>2024-03-01</td>\n",
       "      <td>102968</td>\n",
       "      <td>CALCIO E MINERAIS</td>\n",
       "      <td>MARCA</td>\n",
       "      <td>45.00</td>\n",
       "      <td>82.55</td>\n",
       "      <td>24.292093</td>\n",
       "      <td>39.0000</td>\n",
       "      <td>86.6700</td>\n",
       "      <td>0</td>\n",
       "      <td>1.00</td>\n",
       "    </tr>\n",
       "    <tr>\n",
       "      <th>2041957</th>\n",
       "      <td>2024-03-01</td>\n",
       "      <td>112719</td>\n",
       "      <td>REMOVEDOR</td>\n",
       "      <td>NI</td>\n",
       "      <td>460.00</td>\n",
       "      <td>6.90</td>\n",
       "      <td>3.081135</td>\n",
       "      <td>40.0000</td>\n",
       "      <td>8.7000</td>\n",
       "      <td>0</td>\n",
       "      <td>1.00</td>\n",
       "    </tr>\n",
       "    <tr>\n",
       "      <th>2041958</th>\n",
       "      <td>2024-03-01</td>\n",
       "      <td>845990</td>\n",
       "      <td>AZIA E MA DIGESTAO</td>\n",
       "      <td>MARCA</td>\n",
       "      <td>262.00</td>\n",
       "      <td>3.11</td>\n",
       "      <td>1.027490</td>\n",
       "      <td>6.0000</td>\n",
       "      <td>2.2900</td>\n",
       "      <td>0</td>\n",
       "      <td>1.00</td>\n",
       "    </tr>\n",
       "    <tr>\n",
       "      <th>2041960</th>\n",
       "      <td>2024-03-01</td>\n",
       "      <td>97142</td>\n",
       "      <td>FACE</td>\n",
       "      <td>NI</td>\n",
       "      <td>51.00</td>\n",
       "      <td>33.68</td>\n",
       "      <td>13.949216</td>\n",
       "      <td>10.0000</td>\n",
       "      <td>19.6100</td>\n",
       "      <td>0</td>\n",
       "      <td>1.00</td>\n",
       "    </tr>\n",
       "  </tbody>\n",
       "</table>\n",
       "<p>796480 rows × 11 columns</p>\n",
       "</div>"
      ],
      "text/plain": [
       "        data_emissao codigo_item                     categoria  \\\n",
       "0         2023-03-01      940690                       TINTURA   \n",
       "2         2023-03-01      119114  CREME PREVENTIVO P/ASSADURAS   \n",
       "3         2023-03-01      104915                    ANTI-IDADE   \n",
       "7         2023-03-01      109522          APARELHO DEPILATORIO   \n",
       "8         2023-03-01      105659            ACESSORIOS FACIAIS   \n",
       "...              ...         ...                           ...   \n",
       "2041955   2024-03-01      100977                          BALA   \n",
       "2041956   2024-03-01      102968             CALCIO E MINERAIS   \n",
       "2041957   2024-03-01      112719                     REMOVEDOR   \n",
       "2041958   2024-03-01      845990            AZIA E MA DIGESTAO   \n",
       "2041960   2024-03-01       97142                          FACE   \n",
       "\n",
       "        tipo_produto_gerencial  quant  price       rent  \\\n",
       "0                           NI  15.00  23.93  11.526667   \n",
       "2                           NI  12.00  46.39  20.111000   \n",
       "3                           NI   5.00 119.99  47.420000   \n",
       "7                           NI  14.00  24.76   8.590000   \n",
       "8                           NI   6.00  41.99  17.210000   \n",
       "...                        ...    ...    ...        ...   \n",
       "2041955                     NI  77.00   3.38   1.547922   \n",
       "2041956                  MARCA  45.00  82.55  24.292093   \n",
       "2041957                     NI 460.00   6.90   3.081135   \n",
       "2041958                  MARCA 262.00   3.11   1.027490   \n",
       "2041960                     NI  51.00  33.68  13.949216   \n",
       "\n",
       "        total_items_with_discount ratio_discount  special_dates  selected  \n",
       "0                         15.0000       100.0000              0      1.00  \n",
       "2                          7.0000        58.3300              0      1.00  \n",
       "3                          0.0000         0.0000              0      1.00  \n",
       "7                          2.0000        14.2900              0      1.00  \n",
       "8                          2.0000        33.3300              0      1.00  \n",
       "...                           ...            ...            ...       ...  \n",
       "2041955                   12.0000        15.5800              0      1.00  \n",
       "2041956                   39.0000        86.6700              0      1.00  \n",
       "2041957                   40.0000         8.7000              0      1.00  \n",
       "2041958                    6.0000         2.2900              0      1.00  \n",
       "2041960                   10.0000        19.6100              0      1.00  \n",
       "\n",
       "[796480 rows x 11 columns]"
      ]
     },
     "execution_count": 18,
     "metadata": {},
     "output_type": "execute_result"
    }
   ],
   "source": [
    "df_elast = pd.merge(df, df_selected, left_on = 'codigo_item', right_on = 'codigo_item', how = 'left')\n",
    "df_elast = df_elast[df_elast['selected']==1]\n",
    "df_elast\n",
    "# df_elast[df_elast['codigo_item']==106505]"
   ]
  },
  {
   "cell_type": "markdown",
   "id": "70edf172-42c3-44aa-8c2a-e506b08972f5",
   "metadata": {},
   "source": [
    "Now, we have the items that make up each of the categories.\n",
    "\n",
    "* Questions: 1. Would it be useful to save the items that make up each of the baskets in a file? assess category composition over time and understandos how it evolves dynamically."
   ]
  },
  {
   "cell_type": "markdown",
   "id": "5b961045-1a66-4d90-9207-1aabd92d2c02",
   "metadata": {
    "tags": []
   },
   "source": [
    "### Log-Log linear regression - estimated beta (slope) is the estimated elasticity"
   ]
  },
  {
   "cell_type": "code",
   "execution_count": 19,
   "id": "be164ee8-a4d8-4671-821b-808c5f970461",
   "metadata": {
    "tags": []
   },
   "outputs": [
    {
     "name": "stdout",
     "output_type": "stream",
     "text": [
      "CPU times: user 5min 22s, sys: 30.6 ms, total: 5min 22s\n",
      "Wall time: 5min 23s\n"
     ]
    }
   ],
   "source": [
    "%%time\n",
    "\n",
    "### Run regression models\n",
    "\n",
    "df_elast['log_q'] = np.log(df_elast['quant'])\n",
    "df_elast['log_price'] = np.log(df_elast['price'])\n",
    "### Iterate per item\n",
    "\n",
    "df_index = []\n",
    "coef_mtr = []\n",
    "r2_mtr = []\n",
    "\n",
    "items = list(set(df_elast['codigo_item']))\n",
    "for i in items:\n",
    "    #print('\\n Codigo item', i)\n",
    "    df_redux = df_elast[df_elast['codigo_item']==i]\n",
    "    #  print(df_redux)\n",
    "    X = df_redux[['log_price']]\n",
    "    Y = df_redux['log_q']\n",
    "\n",
    "    # Store parameters\n",
    "#     elast_coef =  regr.coef_\n",
    "\n",
    "#     coef_mtr.append(elast_coef)\n",
    "#     df_index.append(i)\n",
    "\n",
    "    # with statsmodels\n",
    "    X = sm.add_constant(X) # adding a constant\n",
    "    model = sm.OLS(Y, X).fit()\n",
    "    predictions = model.predict(X)\n",
    "    r2 = model.rsquared\n",
    "    elast_coef =  model.params\n",
    "   # print(model.summary())\n",
    "    \n",
    "    # Store reulsts\n",
    "    coef_mtr.append(elast_coef)\n",
    "    r2_mtr.append(r2)\n",
    "    df_index.append(i)\n",
    "\n",
    "r2_mtr= pd.DataFrame(r2_mtr, index =list(set(df_elast['codigo_item'])) )\n",
    "coef_mtr = pd.DataFrame(coef_mtr, index =list(set(df_elast['codigo_item'])) )\n",
    "\n",
    "# r2_mtr.index = list(set(df_ols['codigo_item']))\n",
    "\n",
    "results = pd.merge(coef_mtr, r2_mtr, left_index=True, right_index=True)\n",
    "results.rename(columns = {'log_price':'elasticity_price',0 :'r2_score'}, inplace = True)"
   ]
  },
  {
   "cell_type": "code",
   "execution_count": 24,
   "id": "911f7953-4b37-4a6f-9f46-57b92d84c6a8",
   "metadata": {
    "tags": []
   },
   "outputs": [
    {
     "data": {
      "text/html": [
       "<div>\n",
       "<style scoped>\n",
       "    .dataframe tbody tr th:only-of-type {\n",
       "        vertical-align: middle;\n",
       "    }\n",
       "\n",
       "    .dataframe tbody tr th {\n",
       "        vertical-align: top;\n",
       "    }\n",
       "\n",
       "    .dataframe thead th {\n",
       "        text-align: right;\n",
       "    }\n",
       "</style>\n",
       "<table border=\"1\" class=\"dataframe\">\n",
       "  <thead>\n",
       "    <tr style=\"text-align: right;\">\n",
       "      <th></th>\n",
       "      <th>const</th>\n",
       "      <th>elasticity_price</th>\n",
       "      <th>r2_score</th>\n",
       "    </tr>\n",
       "  </thead>\n",
       "  <tbody>\n",
       "    <tr>\n",
       "      <th>106499</th>\n",
       "      <td>16.59</td>\n",
       "      <td>-3.59</td>\n",
       "      <td>0.68</td>\n",
       "    </tr>\n",
       "    <tr>\n",
       "      <th>106500</th>\n",
       "      <td>17.72</td>\n",
       "      <td>-3.76</td>\n",
       "      <td>0.76</td>\n",
       "    </tr>\n",
       "    <tr>\n",
       "      <th>106504</th>\n",
       "      <td>16.20</td>\n",
       "      <td>-4.82</td>\n",
       "      <td>0.09</td>\n",
       "    </tr>\n",
       "    <tr>\n",
       "      <th>106505</th>\n",
       "      <td>21.30</td>\n",
       "      <td>-4.51</td>\n",
       "      <td>0.48</td>\n",
       "    </tr>\n",
       "    <tr>\n",
       "      <th>516110</th>\n",
       "      <td>3.76</td>\n",
       "      <td>0.02</td>\n",
       "      <td>0.00</td>\n",
       "    </tr>\n",
       "    <tr>\n",
       "      <th>...</th>\n",
       "      <td>...</td>\n",
       "      <td>...</td>\n",
       "      <td>...</td>\n",
       "    </tr>\n",
       "    <tr>\n",
       "      <th>106486</th>\n",
       "      <td>0.80</td>\n",
       "      <td>-0.13</td>\n",
       "      <td>0.00</td>\n",
       "    </tr>\n",
       "    <tr>\n",
       "      <th>401401</th>\n",
       "      <td>11.53</td>\n",
       "      <td>-2.28</td>\n",
       "      <td>0.36</td>\n",
       "    </tr>\n",
       "    <tr>\n",
       "      <th>114682</th>\n",
       "      <td>6.61</td>\n",
       "      <td>-1.16</td>\n",
       "      <td>0.13</td>\n",
       "    </tr>\n",
       "    <tr>\n",
       "      <th>98294</th>\n",
       "      <td>5.33</td>\n",
       "      <td>-0.94</td>\n",
       "      <td>0.15</td>\n",
       "    </tr>\n",
       "    <tr>\n",
       "      <th>114684</th>\n",
       "      <td>10.26</td>\n",
       "      <td>-1.83</td>\n",
       "      <td>0.39</td>\n",
       "    </tr>\n",
       "  </tbody>\n",
       "</table>\n",
       "<p>3578 rows × 3 columns</p>\n",
       "</div>"
      ],
      "text/plain": [
       "        const  elasticity_price  r2_score\n",
       "106499  16.59             -3.59      0.68\n",
       "106500  17.72             -3.76      0.76\n",
       "106504  16.20             -4.82      0.09\n",
       "106505  21.30             -4.51      0.48\n",
       "516110   3.76              0.02      0.00\n",
       "...       ...               ...       ...\n",
       "106486   0.80             -0.13      0.00\n",
       "401401  11.53             -2.28      0.36\n",
       "114682   6.61             -1.16      0.13\n",
       "98294    5.33             -0.94      0.15\n",
       "114684  10.26             -1.83      0.39\n",
       "\n",
       "[3578 rows x 3 columns]"
      ]
     },
     "execution_count": 24,
     "metadata": {},
     "output_type": "execute_result"
    }
   ],
   "source": [
    "results"
   ]
  },
  {
   "cell_type": "code",
   "execution_count": 20,
   "id": "b3ba9c39-0a85-44c5-9727-a59728dec7ab",
   "metadata": {
    "tags": []
   },
   "outputs": [
    {
     "data": {
      "text/html": [
       "<div>\n",
       "<style scoped>\n",
       "    .dataframe tbody tr th:only-of-type {\n",
       "        vertical-align: middle;\n",
       "    }\n",
       "\n",
       "    .dataframe tbody tr th {\n",
       "        vertical-align: top;\n",
       "    }\n",
       "\n",
       "    .dataframe thead th {\n",
       "        text-align: right;\n",
       "    }\n",
       "</style>\n",
       "<table border=\"1\" class=\"dataframe\">\n",
       "  <thead>\n",
       "    <tr style=\"text-align: right;\">\n",
       "      <th></th>\n",
       "      <th>const</th>\n",
       "      <th>elasticity_price</th>\n",
       "      <th>r2_score</th>\n",
       "    </tr>\n",
       "  </thead>\n",
       "  <tbody>\n",
       "    <tr>\n",
       "      <th>106499</th>\n",
       "      <td>16.59</td>\n",
       "      <td>-3.59</td>\n",
       "      <td>0.68</td>\n",
       "    </tr>\n",
       "    <tr>\n",
       "      <th>106500</th>\n",
       "      <td>17.72</td>\n",
       "      <td>-3.76</td>\n",
       "      <td>0.76</td>\n",
       "    </tr>\n",
       "    <tr>\n",
       "      <th>417830</th>\n",
       "      <td>8.65</td>\n",
       "      <td>-1.32</td>\n",
       "      <td>0.57</td>\n",
       "    </tr>\n",
       "    <tr>\n",
       "      <th>983080</th>\n",
       "      <td>43.20</td>\n",
       "      <td>-9.78</td>\n",
       "      <td>0.51</td>\n",
       "    </tr>\n",
       "    <tr>\n",
       "      <th>868410</th>\n",
       "      <td>12.40</td>\n",
       "      <td>-2.86</td>\n",
       "      <td>0.52</td>\n",
       "    </tr>\n",
       "    <tr>\n",
       "      <th>...</th>\n",
       "      <td>...</td>\n",
       "      <td>...</td>\n",
       "      <td>...</td>\n",
       "    </tr>\n",
       "    <tr>\n",
       "      <th>98126</th>\n",
       "      <td>9.43</td>\n",
       "      <td>-3.93</td>\n",
       "      <td>0.58</td>\n",
       "    </tr>\n",
       "    <tr>\n",
       "      <th>98133</th>\n",
       "      <td>8.92</td>\n",
       "      <td>-2.45</td>\n",
       "      <td>0.54</td>\n",
       "    </tr>\n",
       "    <tr>\n",
       "      <th>622500</th>\n",
       "      <td>10.84</td>\n",
       "      <td>-3.86</td>\n",
       "      <td>0.62</td>\n",
       "    </tr>\n",
       "    <tr>\n",
       "      <th>106481</th>\n",
       "      <td>11.55</td>\n",
       "      <td>-2.24</td>\n",
       "      <td>0.50</td>\n",
       "    </tr>\n",
       "    <tr>\n",
       "      <th>450550</th>\n",
       "      <td>15.62</td>\n",
       "      <td>-3.24</td>\n",
       "      <td>0.75</td>\n",
       "    </tr>\n",
       "  </tbody>\n",
       "</table>\n",
       "<p>496 rows × 3 columns</p>\n",
       "</div>"
      ],
      "text/plain": [
       "        const  elasticity_price  r2_score\n",
       "106499  16.59             -3.59      0.68\n",
       "106500  17.72             -3.76      0.76\n",
       "417830   8.65             -1.32      0.57\n",
       "983080  43.20             -9.78      0.51\n",
       "868410  12.40             -2.86      0.52\n",
       "...       ...               ...       ...\n",
       "98126    9.43             -3.93      0.58\n",
       "98133    8.92             -2.45      0.54\n",
       "622500  10.84             -3.86      0.62\n",
       "106481  11.55             -2.24      0.50\n",
       "450550  15.62             -3.24      0.75\n",
       "\n",
       "[496 rows x 3 columns]"
      ]
     },
     "execution_count": 20,
     "metadata": {},
     "output_type": "execute_result"
    }
   ],
   "source": [
    "# results.reset_index(inplace=True)\n",
    "results[results['r2_score'] >= 0.5]"
   ]
  },
  {
   "cell_type": "markdown",
   "id": "d3a08ae3-62b2-4263-b0cd-66b9b3770e03",
   "metadata": {
    "tags": []
   },
   "source": [
    "### Debug results"
   ]
  },
  {
   "cell_type": "code",
   "execution_count": 21,
   "id": "e09ad9d3-0e75-4d0f-841a-70d30c141f68",
   "metadata": {
    "tags": []
   },
   "outputs": [
    {
     "data": {
      "image/png": "[encoded data removed]",
      "text/plain": [
       "<Figure size 2000x500 with 3 Axes>"
      ]
     },
     "metadata": {},
     "output_type": "display_data"
    }
   ],
   "source": [
    "### View some data\n",
    "result_item = results.reset_index()\n",
    "result_item .rename(columns={'index': 'codigo_item'}, inplace = True)\n",
    "\n",
    "item = 98126\n",
    "result_item= result_item[result_item['codigo_item']== item]\n",
    "\n",
    "intercept = result_item['const'].values\n",
    "slope = result_item['elasticity_price'].values\n",
    "\n",
    "df_item = df_elast[df_elast['codigo_item']== item]\n",
    "\n",
    "preco_min = int(df_item['price'].min())\n",
    "preco_max = int(df_item['price'].max())\n",
    "\n",
    "# Calculate the y-values for the endpoints of the curve using the slope and intercept\n",
    "x_line = np.linspace(preco_min, preco_max, 100)\n",
    "y_line = np.exp(intercept) * (x_line ** (slope))\n",
    "\n",
    "# Create subplots with two axes\n",
    "fig, (ax1, ax2) = plt.subplots(1, 2, figsize=(20, 5))\n",
    "\n",
    "## First plot\n",
    "### 1 y-axis\n",
    "color = 'black'\n",
    "ax1.set_xlabel('Data')\n",
    "ax1.set_ylabel('Preço R$')\n",
    "ax1.plot(df_item['data_emissao'], df_item['price'], color=color)\n",
    "ax1.tick_params(axis='y', labelcolor=color)\n",
    "\n",
    "### 2 y-axis\n",
    "ax1twin = ax1.twinx()\n",
    "color = 'tab:blue'\n",
    "ax1twin .set_ylabel('Quantidade vendida')\n",
    "ax1twin .plot(df_item['data_emissao'], df_item['quant'], color=color)\n",
    "ax1twin .tick_params(axis='y', labelcolor=color)\n",
    "\n",
    "## Second plot\n",
    "sns.scatterplot(x='price', y='quant', data=df_item, s=50, color = '#174A7E', ax=ax2)\n",
    "ax2.set_ylim(0, y_line.max())\n",
    "ax2.plot(x_line, y_line, color='#C3514E', label='Curva de Demanda')\n",
    "\n",
    "ax2.set_ylabel('')\n",
    "ax2.set_xlabel('Preço Médio do Dia (R$)')\n",
    "\n",
    "\n",
    "plt.suptitle(f'{item}: Overall results')\n",
    "plt.show()"
   ]
  },
  {
   "cell_type": "markdown",
   "id": "5f5712ae-6fbb-4397-bf16-f9b0ed88cce0",
   "metadata": {
    "tags": []
   },
   "source": [
    "## Part C - Extract category elasticity\n",
    "\n",
    "### Strategy A: All itens\n"
   ]
  },
  {
   "cell_type": "code",
   "execution_count": 39,
   "id": "5211b0b3-c8ae-4271-b90b-f5a2d6482af0",
   "metadata": {
    "tags": []
   },
   "outputs": [
    {
     "name": "stdout",
     "output_type": "stream",
     "text": [
      "Total itens: 3578\n"
     ]
    }
   ],
   "source": [
    "itens_selected_A = results.copy()\n",
    "print('Total itens:', len(itens_selected_A))"
   ]
  },
  {
   "cell_type": "code",
   "execution_count": 40,
   "id": "77608401-e5cb-4aab-b751-6b72ba439ddc",
   "metadata": {
    "tags": []
   },
   "outputs": [
    {
     "data": {
      "text/plain": [
       "Text(0.5, 1.0, 'Strategy A - Selected itens R2')"
      ]
     },
     "execution_count": 40,
     "metadata": {},
     "output_type": "execute_result"
    },
    {
     "data": {
      "image/png": "[encoded data removed]",
      "text/plain": [
       "<Figure size 640x480 with 1 Axes>"
      ]
     },
     "metadata": {},
     "output_type": "display_data"
    }
   ],
   "source": [
    "plt.hist(\n",
    "    itens_selected_A[\"elasticity_price\"],\n",
    "    bins=10,\n",
    "    alpha=0.5,\n",
    "    label=\"Proporção de itens\",\n",
    "    weights=np.ones(len(itens_selected_A)) / len(itens_selected_A),\n",
    ")\n",
    "plt.gca().yaxis.set_major_formatter(PercentFormatter(1))\n",
    "plt.legend(loc=\"upper right\")\n",
    "plt.ylabel(\"%\")\n",
    "plt.title(\"Strategy A - Selected itens R2\")"
   ]
  },
  {
   "cell_type": "code",
   "execution_count": 50,
   "id": "47401f6b-d20a-45f0-b72f-ab5fe205ab7e",
   "metadata": {
    "tags": []
   },
   "outputs": [
    {
     "data": {
      "text/plain": [
       "Text(0.5, 1.0, 'Elasticidade - % de itens')"
      ]
     },
     "execution_count": 50,
     "metadata": {},
     "output_type": "execute_result"
    },
    {
     "data": {
      "image/png": "[encoded data removed]",
      "text/plain": [
       "<Figure size 640x480 with 1 Axes>"
      ]
     },
     "metadata": {},
     "output_type": "display_data"
    }
   ],
   "source": [
    "itens_selected_A_filter = itens_selected_A[(itens_selected_A[\"elasticity_price\"] >= - 15) & (itens_selected_A[\"elasticity_price\"] <= 15)]\n",
    "\n",
    "itens_selected_A_filter\n",
    "\n",
    "\n",
    "plt.hist(\n",
    "    itens_selected_A_filter[\"elasticity_price\"],\n",
    "    bins=10,\n",
    "    alpha=0.5,\n",
    "    label=\"Proporção de itens\",\n",
    "    weights=np.ones(len(itens_selected_A_filter)) / len(itens_selected_A_filter),\n",
    ")\n",
    "plt.gca().yaxis.set_major_formatter(PercentFormatter(1))\n",
    "plt.legend(loc=\"upper right\")\n",
    "plt.ylabel(\"%\")\n",
    "plt.title(\"Elasticidade - % de itens\")"
   ]
  },
  {
   "cell_type": "markdown",
   "id": "629319d2-d12d-4d9e-9b0b-37cbb71209bf",
   "metadata": {},
   "source": [
    "### Extract category elasticity"
   ]
  },
  {
   "cell_type": "code",
   "execution_count": 42,
   "id": "3128f42e-20cb-41d3-9044-306814770dc0",
   "metadata": {
    "tags": []
   },
   "outputs": [
    {
     "name": "stdout",
     "output_type": "stream",
     "text": [
      "\n",
      "Total datapoints: 3578\n",
      "\n",
      "Total de items: 3578\n",
      "\n",
      "Total de categorias: 264\n"
     ]
    }
   ],
   "source": [
    "df_elast_cat_A = df_elast[['categoria', 'codigo_item']].drop_duplicates(subset=['codigo_item'], keep='first')\n",
    "itens_selected_A = itens_selected_A.reset_index()\n",
    "itens_selected_A.rename(columns={'index': 'codigo_item'}, inplace = True)\n",
    "\n",
    "\n",
    "df_elast_cat_A = pd.merge(itens_selected_A, df_elast_cat_A, left_on='codigo_item', right_on = 'codigo_item' )\n",
    "\n",
    "#Drop possible duplicates\n",
    "# df.drop_duplicates(subset=['concat'], keep='first', inplace=True)\n",
    "simple_stats(df_elast_cat_A)"
   ]
  },
  {
   "cell_type": "code",
   "execution_count": 43,
   "id": "278d4722-4403-445f-bdba-b3ea30614838",
   "metadata": {
    "tags": []
   },
   "outputs": [
    {
     "data": {
      "text/html": [
       "<div>\n",
       "<style scoped>\n",
       "    .dataframe tbody tr th:only-of-type {\n",
       "        vertical-align: middle;\n",
       "    }\n",
       "\n",
       "    .dataframe tbody tr th {\n",
       "        vertical-align: top;\n",
       "    }\n",
       "\n",
       "    .dataframe thead th {\n",
       "        text-align: right;\n",
       "    }\n",
       "</style>\n",
       "<table border=\"1\" class=\"dataframe\">\n",
       "  <thead>\n",
       "    <tr style=\"text-align: right;\">\n",
       "      <th></th>\n",
       "      <th>elasticity_price</th>\n",
       "      <th>r2_score</th>\n",
       "    </tr>\n",
       "    <tr>\n",
       "      <th>categoria</th>\n",
       "      <th></th>\n",
       "      <th></th>\n",
       "    </tr>\n",
       "  </thead>\n",
       "  <tbody>\n",
       "    <tr>\n",
       "      <th>A1 - BARBITURICO</th>\n",
       "      <td>-0.57</td>\n",
       "      <td>0.02</td>\n",
       "    </tr>\n",
       "    <tr>\n",
       "      <th>A2 - BARBITURICO</th>\n",
       "      <td>-1.33</td>\n",
       "      <td>0.17</td>\n",
       "    </tr>\n",
       "    <tr>\n",
       "      <th>A3 - BARBITURICO</th>\n",
       "      <td>-1.68</td>\n",
       "      <td>0.03</td>\n",
       "    </tr>\n",
       "    <tr>\n",
       "      <th>ABSORVENTE EXTERNO</th>\n",
       "      <td>-1.67</td>\n",
       "      <td>0.29</td>\n",
       "    </tr>\n",
       "    <tr>\n",
       "      <th>ABSORVENTE INTERNO</th>\n",
       "      <td>-2.76</td>\n",
       "      <td>0.26</td>\n",
       "    </tr>\n",
       "    <tr>\n",
       "      <th>...</th>\n",
       "      <td>...</td>\n",
       "      <td>...</td>\n",
       "    </tr>\n",
       "    <tr>\n",
       "      <th>UNHAS E ACESSORIOS</th>\n",
       "      <td>-0.38</td>\n",
       "      <td>0.04</td>\n",
       "    </tr>\n",
       "    <tr>\n",
       "      <th>UTILIDADES</th>\n",
       "      <td>-0.84</td>\n",
       "      <td>0.20</td>\n",
       "    </tr>\n",
       "    <tr>\n",
       "      <th>VERRUGAS</th>\n",
       "      <td>-1.83</td>\n",
       "      <td>0.04</td>\n",
       "    </tr>\n",
       "    <tr>\n",
       "      <th>VITAMINAS AZ</th>\n",
       "      <td>-1.55</td>\n",
       "      <td>0.22</td>\n",
       "    </tr>\n",
       "    <tr>\n",
       "      <th>VITAMINAS/MINERAIS</th>\n",
       "      <td>-1.16</td>\n",
       "      <td>0.05</td>\n",
       "    </tr>\n",
       "  </tbody>\n",
       "</table>\n",
       "<p>264 rows × 2 columns</p>\n",
       "</div>"
      ],
      "text/plain": [
       "                    elasticity_price  r2_score\n",
       "categoria                                     \n",
       "A1 - BARBITURICO               -0.57      0.02\n",
       "A2 - BARBITURICO               -1.33      0.17\n",
       "A3 - BARBITURICO               -1.68      0.03\n",
       "ABSORVENTE EXTERNO             -1.67      0.29\n",
       "ABSORVENTE INTERNO             -2.76      0.26\n",
       "...                              ...       ...\n",
       "UNHAS E ACESSORIOS             -0.38      0.04\n",
       "UTILIDADES                     -0.84      0.20\n",
       "VERRUGAS                       -1.83      0.04\n",
       "VITAMINAS AZ                   -1.55      0.22\n",
       "VITAMINAS/MINERAIS             -1.16      0.05\n",
       "\n",
       "[264 rows x 2 columns]"
      ]
     },
     "execution_count": 43,
     "metadata": {},
     "output_type": "execute_result"
    }
   ],
   "source": [
    "stats_elast_cat_A = df_elast_cat_A.groupby(['categoria'], dropna=False, as_index=True, sort=True).agg(\n",
    "    {\n",
    "        \"elasticity_price\": [\"mean\"],\n",
    "        \"r2_score\": [\"mean\"],\n",
    "    }\n",
    ")\n",
    "\n",
    "stats_elast_cat_A.columns = stats_elast_cat_A.columns.droplevel(1)\n",
    "# #stats_elast_cat.reset_index(inplace=True)\n",
    "\n",
    "stats_elast_cat_A.to_parquet('elasticity_category.parquet')\n",
    "\n",
    "stats_elast_cat_A"
   ]
  },
  {
   "cell_type": "code",
   "execution_count": 57,
   "id": "781dc3a4-26ab-401b-a8c7-4d75ca64f10b",
   "metadata": {
    "tags": []
   },
   "outputs": [
    {
     "name": "stderr",
     "output_type": "stream",
     "text": [
      "No artists with labels found to put in legend.  Note that artists whose label start with an underscore are ignored when legend() is called with no argument.\n",
      "No artists with labels found to put in legend.  Note that artists whose label start with an underscore are ignored when legend() is called with no argument.\n"
     ]
    },
    {
     "data": {
      "image/png": "[encoded data removed]",
      "text/plain": [
       "<Figure size 1200x400 with 2 Axes>"
      ]
     },
     "metadata": {},
     "output_type": "display_data"
    }
   ],
   "source": [
    "\n",
    "\n",
    "fig, axs = plt.subplots(1, 2, figsize=(12, 4), sharey = True)\n",
    "\n",
    "# Plot for itens_selected_A_filter\n",
    "axs[0].hist(\n",
    "    itens_selected_A_filter[\"elasticity_price\"],\n",
    "    bins=10,\n",
    "    alpha=0.5,\n",
    "    label=\"\",\n",
    "    weights=np.ones(len(itens_selected_A_filter)) / len(itens_selected_A_filter),\n",
    ")\n",
    "axs[0].yaxis.set_major_formatter(PercentFormatter(1))\n",
    "axs[0].legend(loc=\"upper right\")\n",
    "axs[0].set_ylabel(\"%\")\n",
    "axs[0].set_title(\"Elasticidade - % de itens\")\n",
    "\n",
    "# Plot for stats_elast_cat_A\n",
    "axs[1].hist(\n",
    "    stats_elast_cat_A[\"elasticity_price\"],\n",
    "    bins=10,\n",
    "    alpha=0.5,\n",
    "    label=\"\",\n",
    "    weights=np.ones(len(stats_elast_cat_A)) / len(stats_elast_cat_A),\n",
    ")\n",
    "axs[1].yaxis.set_major_formatter(PercentFormatter(1))\n",
    "axs[1].legend(loc=\"upper right\")\n",
    "axs[1].set_ylabel(\"\")\n",
    "axs[1].set_title(\"Elasticidade - % Categorias\")\n",
    "\n",
    "plt.tight_layout()\n",
    "plt.show()\n"
   ]
  },
  {
   "cell_type": "markdown",
   "id": "1ac875d7-9772-4910-98c0-3189b2ae6306",
   "metadata": {},
   "source": [
    "### Melhoranbdo a inbterpretação\n",
    "\n",
    "* Para o cálculo da elasticidade, considera-se apenas o módulo, pois para todo aumento de preço em bens normais, há uma redução da quantidade demandada.\n",
    "\n",
    "* O sinal negativo serve apenas para representar está correlação negativa."
   ]
  },
  {
   "cell_type": "code",
   "execution_count": 26,
   "id": "129fd518-b293-4987-a3c2-92e156964f6c",
   "metadata": {
    "tags": []
   },
   "outputs": [
    {
     "data": {
      "text/html": [
       "<div>\n",
       "<style scoped>\n",
       "    .dataframe tbody tr th:only-of-type {\n",
       "        vertical-align: middle;\n",
       "    }\n",
       "\n",
       "    .dataframe tbody tr th {\n",
       "        vertical-align: top;\n",
       "    }\n",
       "\n",
       "    .dataframe thead th {\n",
       "        text-align: right;\n",
       "    }\n",
       "</style>\n",
       "<table border=\"1\" class=\"dataframe\">\n",
       "  <thead>\n",
       "    <tr style=\"text-align: right;\">\n",
       "      <th></th>\n",
       "      <th>elasticity_price</th>\n",
       "      <th>r2_score</th>\n",
       "    </tr>\n",
       "    <tr>\n",
       "      <th>categoria</th>\n",
       "      <th></th>\n",
       "      <th></th>\n",
       "    </tr>\n",
       "  </thead>\n",
       "  <tbody>\n",
       "    <tr>\n",
       "      <th>A1 - BARBITURICO</th>\n",
       "      <td>0.49</td>\n",
       "      <td>0.02</td>\n",
       "    </tr>\n",
       "    <tr>\n",
       "      <th>A2 - BARBITURICO</th>\n",
       "      <td>1.19</td>\n",
       "      <td>0.15</td>\n",
       "    </tr>\n",
       "    <tr>\n",
       "      <th>A3 - BARBITURICO</th>\n",
       "      <td>0.33</td>\n",
       "      <td>0.02</td>\n",
       "    </tr>\n",
       "    <tr>\n",
       "      <th>ABSORVENTE EXTERNO</th>\n",
       "      <td>1.64</td>\n",
       "      <td>0.28</td>\n",
       "    </tr>\n",
       "    <tr>\n",
       "      <th>ABSORVENTE INTERNO</th>\n",
       "      <td>2.29</td>\n",
       "      <td>0.30</td>\n",
       "    </tr>\n",
       "    <tr>\n",
       "      <th>...</th>\n",
       "      <td>...</td>\n",
       "      <td>...</td>\n",
       "    </tr>\n",
       "    <tr>\n",
       "      <th>UNHAS E ACESSORIOS</th>\n",
       "      <td>0.56</td>\n",
       "      <td>0.06</td>\n",
       "    </tr>\n",
       "    <tr>\n",
       "      <th>UTILIDADES</th>\n",
       "      <td>0.55</td>\n",
       "      <td>0.18</td>\n",
       "    </tr>\n",
       "    <tr>\n",
       "      <th>VERRUGAS</th>\n",
       "      <td>1.79</td>\n",
       "      <td>0.05</td>\n",
       "    </tr>\n",
       "    <tr>\n",
       "      <th>VITAMINAS AZ</th>\n",
       "      <td>1.49</td>\n",
       "      <td>0.21</td>\n",
       "    </tr>\n",
       "    <tr>\n",
       "      <th>VITAMINAS/MINERAIS</th>\n",
       "      <td>1.26</td>\n",
       "      <td>0.06</td>\n",
       "    </tr>\n",
       "  </tbody>\n",
       "</table>\n",
       "<p>269 rows × 2 columns</p>\n",
       "</div>"
      ],
      "text/plain": [
       "                    elasticity_price  r2_score\n",
       "categoria                                     \n",
       "A1 - BARBITURICO                0.49      0.02\n",
       "A2 - BARBITURICO                1.19      0.15\n",
       "A3 - BARBITURICO                0.33      0.02\n",
       "ABSORVENTE EXTERNO              1.64      0.28\n",
       "ABSORVENTE INTERNO              2.29      0.30\n",
       "...                              ...       ...\n",
       "UNHAS E ACESSORIOS              0.56      0.06\n",
       "UTILIDADES                      0.55      0.18\n",
       "VERRUGAS                        1.79      0.05\n",
       "VITAMINAS AZ                    1.49      0.21\n",
       "VITAMINAS/MINERAIS              1.26      0.06\n",
       "\n",
       "[269 rows x 2 columns]"
      ]
     },
     "execution_count": 26,
     "metadata": {},
     "output_type": "execute_result"
    }
   ],
   "source": [
    "elast_cat_final_A = stats_elast_cat_A.abs()\n",
    "# elast_cat_final[elast_cat_final['elasticity_price']< 1]\n",
    "elast_cat_final_A"
   ]
  },
  {
   "cell_type": "markdown",
   "id": "b19026aa-c54e-4938-870f-4e3ff17032a6",
   "metadata": {},
   "source": [
    "## Strategy B: There are many factors that can drive the elasticity value of an item. \n",
    "\n",
    "#### Keep items where the degree of confidence in the model is greater than the overall average"
   ]
  },
  {
   "cell_type": "code",
   "execution_count": 27,
   "id": "ba9fd580-5a74-4da2-be03-2e4bbb557865",
   "metadata": {
    "tags": []
   },
   "outputs": [
    {
     "name": "stdout",
     "output_type": "stream",
     "text": [
      "Total itens: 1353\n"
     ]
    }
   ],
   "source": [
    "itens_selected = results[results['r2_score']>= results['r2_score'].mean()]\n",
    "print('Total itens:', len(itens_selected))\n"
   ]
  },
  {
   "cell_type": "code",
   "execution_count": 28,
   "id": "6b1b5ad3-221d-4c01-8c22-997ffd3e1598",
   "metadata": {
    "tags": []
   },
   "outputs": [
    {
     "data": {
      "text/plain": [
       "Text(0.5, 1.0, 'Strategy B - Selected itens R2')"
      ]
     },
     "execution_count": 28,
     "metadata": {},
     "output_type": "execute_result"
    },
    {
     "data": {
      "image/png": "[encoded data removed]",
      "text/plain": [
       "<Figure size 640x480 with 1 Axes>"
      ]
     },
     "metadata": {},
     "output_type": "display_data"
    }
   ],
   "source": [
    "from matplotlib.ticker import PercentFormatter\n",
    "\n",
    "plt.hist(\n",
    "    itens_selected[\"r2_score\"],\n",
    "    bins=10,\n",
    "    alpha=0.5,\n",
    "    label=\"Proporção de itens\",\n",
    "    weights=np.ones(len(itens_selected)) / len(itens_selected),\n",
    ")\n",
    "plt.gca().yaxis.set_major_formatter(PercentFormatter(1))\n",
    "plt.legend(loc=\"upper right\")\n",
    "plt.ylabel(\"%\")\n",
    "plt.title(\"Strategy B - Selected itens R2\")"
   ]
  },
  {
   "cell_type": "markdown",
   "id": "b1b5847a-68ae-44d5-9445-7bae906e577a",
   "metadata": {},
   "source": [
    "### Extract category elasticity"
   ]
  },
  {
   "cell_type": "code",
   "execution_count": 29,
   "id": "27814270-5600-4717-8f2c-4dd8eabf7ccd",
   "metadata": {
    "tags": []
   },
   "outputs": [
    {
     "name": "stdout",
     "output_type": "stream",
     "text": [
      "\n",
      "Total datapoints: 1353\n",
      "\n",
      "Total de items: 1353\n",
      "\n",
      "Total de categorias: 172\n"
     ]
    }
   ],
   "source": [
    "df_elast_cat = df_elast[['categoria', 'codigo_item']].drop_duplicates(subset=['codigo_item'], keep='first')\n",
    "itens_selected = itens_selected.reset_index()\n",
    "itens_selected.rename(columns={'index': 'codigo_item'}, inplace = True)\n",
    "\n",
    "\n",
    "df_elast_cat = pd.merge(itens_selected, df_elast_cat,left_on='codigo_item', right_on = 'codigo_item' )\n",
    "\n",
    "#Drop possible duplicates\n",
    "# df.drop_duplicates(subset=['concat'], keep='first', inplace=True)\n",
    "simple_stats(df_elast_cat)"
   ]
  },
  {
   "cell_type": "code",
   "execution_count": 30,
   "id": "75403182-73eb-4b41-a4e4-ad672e943ee0",
   "metadata": {
    "tags": []
   },
   "outputs": [
    {
     "data": {
      "text/html": [
       "<div>\n",
       "<style scoped>\n",
       "    .dataframe tbody tr th:only-of-type {\n",
       "        vertical-align: middle;\n",
       "    }\n",
       "\n",
       "    .dataframe tbody tr th {\n",
       "        vertical-align: top;\n",
       "    }\n",
       "\n",
       "    .dataframe thead th {\n",
       "        text-align: right;\n",
       "    }\n",
       "</style>\n",
       "<table border=\"1\" class=\"dataframe\">\n",
       "  <thead>\n",
       "    <tr style=\"text-align: right;\">\n",
       "      <th></th>\n",
       "      <th>elasticity_price</th>\n",
       "      <th>r2_score</th>\n",
       "    </tr>\n",
       "    <tr>\n",
       "      <th>categoria</th>\n",
       "      <th></th>\n",
       "      <th></th>\n",
       "    </tr>\n",
       "  </thead>\n",
       "  <tbody>\n",
       "    <tr>\n",
       "      <th>A2 - BARBITURICO</th>\n",
       "      <td>-3.56</td>\n",
       "      <td>0.42</td>\n",
       "    </tr>\n",
       "    <tr>\n",
       "      <th>ABSORVENTE EXTERNO</th>\n",
       "      <td>-1.89</td>\n",
       "      <td>0.42</td>\n",
       "    </tr>\n",
       "    <tr>\n",
       "      <th>ABSORVENTE INTERNO</th>\n",
       "      <td>-2.17</td>\n",
       "      <td>0.38</td>\n",
       "    </tr>\n",
       "    <tr>\n",
       "      <th>ABSORVENTE PARA INCONTINENCIA FEMININO</th>\n",
       "      <td>0.31</td>\n",
       "      <td>0.31</td>\n",
       "    </tr>\n",
       "    <tr>\n",
       "      <th>ABSORVENTE PARA INCONTINENCIA MASCULINO</th>\n",
       "      <td>-1.11</td>\n",
       "      <td>0.21</td>\n",
       "    </tr>\n",
       "    <tr>\n",
       "      <th>...</th>\n",
       "      <td>...</td>\n",
       "      <td>...</td>\n",
       "    </tr>\n",
       "    <tr>\n",
       "      <th>TRATAMENTO AREAS ESPECIFICAS</th>\n",
       "      <td>-2.96</td>\n",
       "      <td>0.30</td>\n",
       "    </tr>\n",
       "    <tr>\n",
       "      <th>TRATAMENTOS DA PELE</th>\n",
       "      <td>-3.05</td>\n",
       "      <td>0.24</td>\n",
       "    </tr>\n",
       "    <tr>\n",
       "      <th>UNHAS E ACESSORIOS</th>\n",
       "      <td>-3.84</td>\n",
       "      <td>0.23</td>\n",
       "    </tr>\n",
       "    <tr>\n",
       "      <th>UTILIDADES</th>\n",
       "      <td>-1.95</td>\n",
       "      <td>0.35</td>\n",
       "    </tr>\n",
       "    <tr>\n",
       "      <th>VITAMINAS AZ</th>\n",
       "      <td>-2.48</td>\n",
       "      <td>0.36</td>\n",
       "    </tr>\n",
       "  </tbody>\n",
       "</table>\n",
       "<p>172 rows × 2 columns</p>\n",
       "</div>"
      ],
      "text/plain": [
       "                                         elasticity_price  r2_score\n",
       "categoria                                                          \n",
       "A2 - BARBITURICO                                    -3.56      0.42\n",
       "ABSORVENTE EXTERNO                                  -1.89      0.42\n",
       "ABSORVENTE INTERNO                                  -2.17      0.38\n",
       "ABSORVENTE PARA INCONTINENCIA FEMININO               0.31      0.31\n",
       "ABSORVENTE PARA INCONTINENCIA MASCULINO             -1.11      0.21\n",
       "...                                                   ...       ...\n",
       "TRATAMENTO AREAS ESPECIFICAS                        -2.96      0.30\n",
       "TRATAMENTOS DA PELE                                 -3.05      0.24\n",
       "UNHAS E ACESSORIOS                                  -3.84      0.23\n",
       "UTILIDADES                                          -1.95      0.35\n",
       "VITAMINAS AZ                                        -2.48      0.36\n",
       "\n",
       "[172 rows x 2 columns]"
      ]
     },
     "execution_count": 30,
     "metadata": {},
     "output_type": "execute_result"
    }
   ],
   "source": [
    "stats_elast_cat = df_elast_cat.groupby(['categoria'], dropna=False, as_index=True, sort=True).agg(\n",
    "    {\n",
    "        \"elasticity_price\": [\"mean\"],\n",
    "        \"r2_score\": [\"mean\"],\n",
    "    }\n",
    ")\n",
    "\n",
    "stats_elast_cat .columns = stats_elast_cat.columns.droplevel(1)\n",
    "# #stats_elast_cat.reset_index(inplace=True)\n",
    "stats_elast_cat "
   ]
  },
  {
   "cell_type": "code",
   "execution_count": 31,
   "id": "787ae0f7-dcb0-4e53-b7a2-969937069efd",
   "metadata": {
    "tags": []
   },
   "outputs": [
    {
     "data": {
      "text/html": [
       "<div>\n",
       "<style scoped>\n",
       "    .dataframe tbody tr th:only-of-type {\n",
       "        vertical-align: middle;\n",
       "    }\n",
       "\n",
       "    .dataframe tbody tr th {\n",
       "        vertical-align: top;\n",
       "    }\n",
       "\n",
       "    .dataframe thead th {\n",
       "        text-align: right;\n",
       "    }\n",
       "</style>\n",
       "<table border=\"1\" class=\"dataframe\">\n",
       "  <thead>\n",
       "    <tr style=\"text-align: right;\">\n",
       "      <th></th>\n",
       "      <th>elasticity_price</th>\n",
       "      <th>r2_score</th>\n",
       "    </tr>\n",
       "    <tr>\n",
       "      <th>categoria</th>\n",
       "      <th></th>\n",
       "      <th></th>\n",
       "    </tr>\n",
       "  </thead>\n",
       "  <tbody>\n",
       "    <tr>\n",
       "      <th>A2 - BARBITURICO</th>\n",
       "      <td>3.56</td>\n",
       "      <td>0.42</td>\n",
       "    </tr>\n",
       "    <tr>\n",
       "      <th>ABSORVENTE EXTERNO</th>\n",
       "      <td>1.89</td>\n",
       "      <td>0.42</td>\n",
       "    </tr>\n",
       "    <tr>\n",
       "      <th>ABSORVENTE INTERNO</th>\n",
       "      <td>2.17</td>\n",
       "      <td>0.38</td>\n",
       "    </tr>\n",
       "    <tr>\n",
       "      <th>ABSORVENTE PARA INCONTINENCIA FEMININO</th>\n",
       "      <td>0.31</td>\n",
       "      <td>0.31</td>\n",
       "    </tr>\n",
       "    <tr>\n",
       "      <th>ABSORVENTE PARA INCONTINENCIA MASCULINO</th>\n",
       "      <td>1.11</td>\n",
       "      <td>0.21</td>\n",
       "    </tr>\n",
       "    <tr>\n",
       "      <th>...</th>\n",
       "      <td>...</td>\n",
       "      <td>...</td>\n",
       "    </tr>\n",
       "    <tr>\n",
       "      <th>TRATAMENTO AREAS ESPECIFICAS</th>\n",
       "      <td>2.96</td>\n",
       "      <td>0.30</td>\n",
       "    </tr>\n",
       "    <tr>\n",
       "      <th>TRATAMENTOS DA PELE</th>\n",
       "      <td>3.05</td>\n",
       "      <td>0.24</td>\n",
       "    </tr>\n",
       "    <tr>\n",
       "      <th>UNHAS E ACESSORIOS</th>\n",
       "      <td>3.84</td>\n",
       "      <td>0.23</td>\n",
       "    </tr>\n",
       "    <tr>\n",
       "      <th>UTILIDADES</th>\n",
       "      <td>1.95</td>\n",
       "      <td>0.35</td>\n",
       "    </tr>\n",
       "    <tr>\n",
       "      <th>VITAMINAS AZ</th>\n",
       "      <td>2.48</td>\n",
       "      <td>0.36</td>\n",
       "    </tr>\n",
       "  </tbody>\n",
       "</table>\n",
       "<p>172 rows × 2 columns</p>\n",
       "</div>"
      ],
      "text/plain": [
       "                                         elasticity_price  r2_score\n",
       "categoria                                                          \n",
       "A2 - BARBITURICO                                     3.56      0.42\n",
       "ABSORVENTE EXTERNO                                   1.89      0.42\n",
       "ABSORVENTE INTERNO                                   2.17      0.38\n",
       "ABSORVENTE PARA INCONTINENCIA FEMININO               0.31      0.31\n",
       "ABSORVENTE PARA INCONTINENCIA MASCULINO              1.11      0.21\n",
       "...                                                   ...       ...\n",
       "TRATAMENTO AREAS ESPECIFICAS                         2.96      0.30\n",
       "TRATAMENTOS DA PELE                                  3.05      0.24\n",
       "UNHAS E ACESSORIOS                                   3.84      0.23\n",
       "UTILIDADES                                           1.95      0.35\n",
       "VITAMINAS AZ                                         2.48      0.36\n",
       "\n",
       "[172 rows x 2 columns]"
      ]
     },
     "execution_count": 31,
     "metadata": {},
     "output_type": "execute_result"
    }
   ],
   "source": [
    "elast_cat_final = stats_elast_cat.abs()\n",
    "# elast_cat_final[elast_cat_final['elasticity_price']< 1]\n",
    "elast_cat_final"
   ]
  }
 ],
 "metadata": {
  "kernelspec": {
   "display_name": "conda_python3",
   "language": "python",
   "name": "conda_python3"
  },
  "language_info": {
   "codemirror_mode": {
    "name": "ipython",
    "version": 3
   },
   "file_extension": ".py",
   "mimetype": "text/x-python",
   "name": "python",
   "nbconvert_exporter": "python",
   "pygments_lexer": "ipython3",
   "version": "3.10.14"
  }
 },
 "nbformat": 4,
 "nbformat_minor": 5
}
